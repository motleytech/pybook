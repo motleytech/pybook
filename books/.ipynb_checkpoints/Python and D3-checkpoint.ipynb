{
 "cells": [
  {
   "cell_type": "code",
   "execution_count": 12,
   "metadata": {
    "collapsed": false
   },
   "outputs": [
    {
     "data": {
      "application/javascript": [
       "\n",
       "require([\"//cdnjs.cloudflare.com/ajax/libs/d3/3.5.6/d3.min.js\"],\n",
       "    function(d3) {\n",
       "        window.d3 = d3;\n",
       "        console.log(\"loaded d3\")\n",
       "    }\n",
       ");\n"
      ],
      "text/plain": [
       "<IPython.core.display.Javascript object>"
      ]
     },
     "metadata": {},
     "output_type": "display_data"
    }
   ],
   "source": [
    "# %%javascript\n",
    "from IPython.display import HTML, Javascript, display\n",
    "\n",
    "js = \"\"\"\n",
    "require([\"//cdnjs.cloudflare.com/ajax/libs/d3/3.5.6/d3.min.js\"],\n",
    "    function(d3) {\n",
    "        window.d3 = d3;\n",
    "        console.log(\"loaded d3\")\n",
    "    }\n",
    ");\n",
    "\n",
    "window.nbvars = {}\n",
    "\n",
    "\"\"\"\n",
    "\n",
    "\n",
    "display(Javascript(js))\n",
    "\n"
   ]
  },
  {
   "cell_type": "code",
   "execution_count": 13,
   "metadata": {
    "collapsed": false
   },
   "outputs": [
    {
     "data": {
      "application/javascript": [
       "\n",
       "function d3_xy_chart() {\n",
       "    var width = 640,  \n",
       "        height = 480, \n",
       "        xlabel = \"X Axis Label\",\n",
       "        ylabel = \"Y Axis Label\" ;\n",
       "    \n",
       "    function chart(selection) {\n",
       "        selection.each(function(datasets) {\n",
       "            //\n",
       "            // Create the plot. \n",
       "            //\n",
       "            var margin = {top: 20, right: 80, bottom: 30, left: 50}, \n",
       "                innerwidth = width - margin.left - margin.right,\n",
       "                innerheight = height - margin.top - margin.bottom ;\n",
       "            \n",
       "            var x_scale = d3.scale.linear()\n",
       "                .range([0, innerwidth])\n",
       "                .domain([ d3.min(datasets, function(d) { return d3.min(d.x); }), \n",
       "                          d3.max(datasets, function(d) { return d3.max(d.x); }) ]) ;\n",
       "            \n",
       "            var y_scale = d3.scale.linear()\n",
       "                .range([innerheight, 0])\n",
       "                .domain([ d3.min(datasets, function(d) { return d3.min(d.y); }),\n",
       "                          d3.max(datasets, function(d) { return d3.max(d.y); }) ]) ;\n",
       "\n",
       "            var color_scale = d3.scale.category10()\n",
       "                .domain(d3.range(datasets.length)) ;\n",
       "\n",
       "            var x_axis = d3.svg.axis()\n",
       "                .scale(x_scale)\n",
       "                .orient(\"bottom\") ;\n",
       "\n",
       "            var y_axis = d3.svg.axis()\n",
       "                .scale(y_scale)\n",
       "                .orient(\"left\") ;\n",
       "\n",
       "            var x_grid = d3.svg.axis()\n",
       "                .scale(x_scale)\n",
       "                .orient(\"bottom\")\n",
       "                .tickSize(-innerheight)\n",
       "                .tickFormat(\"\") ;\n",
       "\n",
       "            var y_grid = d3.svg.axis()\n",
       "                .scale(y_scale)\n",
       "                .orient(\"left\") \n",
       "                .tickSize(-innerwidth)\n",
       "                .tickFormat(\"\") ;\n",
       "\n",
       "            var draw_line = d3.svg.line()\n",
       "                .interpolate(\"basis\")\n",
       "                .x(function(d) { return x_scale(d[0]); })\n",
       "                .y(function(d) { return y_scale(d[1]); }) ;\n",
       "\n",
       "            var svg = d3.select(this)\n",
       "                .attr(\"width\", width)\n",
       "                .attr(\"height\", height)\n",
       "                .append(\"g\")\n",
       "                .attr(\"transform\", \"translate(\" + margin.left + \",\" + margin.top + \")\") ;\n",
       "            \n",
       "            svg.append(\"g\")\n",
       "                .attr(\"class\", \"x grid\")\n",
       "                .attr(\"transform\", \"translate(0,\" + innerheight + \")\")\n",
       "                .call(x_grid) ;\n",
       "\n",
       "            svg.append(\"g\")\n",
       "                .attr(\"class\", \"y grid\")\n",
       "                .call(y_grid) ;\n",
       "\n",
       "            svg.append(\"g\")\n",
       "                .attr(\"class\", \"x axis\")\n",
       "                .attr(\"transform\", \"translate(0,\" + innerheight + \")\") \n",
       "                .call(x_axis)\n",
       "                .append(\"text\")\n",
       "                .attr(\"dy\", \"-.71em\")\n",
       "                .attr(\"x\", innerwidth)\n",
       "                .style(\"text-anchor\", \"end\")\n",
       "                .text(xlabel) ;\n",
       "            \n",
       "            svg.append(\"g\")\n",
       "                .attr(\"class\", \"y axis\")\n",
       "                .call(y_axis)\n",
       "                .append(\"text\")\n",
       "                .attr(\"transform\", \"rotate(-90)\")\n",
       "                .attr(\"y\", 6)\n",
       "                .attr(\"dy\", \"0.71em\")\n",
       "                .style(\"text-anchor\", \"end\")\n",
       "                .text(ylabel) ;\n",
       "\n",
       "            var data_lines = svg.selectAll(\".d3_xy_chart_line\")\n",
       "                .data(datasets.map(function(d) {return d3.zip(d.x, d.y);}))\n",
       "                .enter().append(\"g\")\n",
       "                .attr(\"class\", \".d3_xy_chart_line\") ;\n",
       "            \n",
       "            data_lines.append(\"path\")\n",
       "                .attr(\"class\", \"line\")\n",
       "                .attr(\"d\", function(d) {return draw_line(d); })\n",
       "                .attr(\"stroke\", function(_, i) {return color_scale(i);}) ;\n",
       "            \n",
       "            data_lines.append(\"text\")\n",
       "                .datum(function(d, i) { return {name: datasets[i].label, final: d[d.length-1]}; }) \n",
       "                .attr(\"transform\", function(d) { \n",
       "                    return ( \"translate(\" + x_scale(d.final[0]) + \",\" + \n",
       "                             y_scale(d.final[1]) + \")\" ) ; })\n",
       "                .attr(\"x\", 3)\n",
       "                .attr(\"dy\", \".35em\")\n",
       "                .attr(\"fill\", function(_, i) { return color_scale(i); })\n",
       "                .text(function(d) { return d.name; }) ;\n",
       "\n",
       "        }) ;\n",
       "    }\n",
       "\n",
       "    chart.width = function(value) {\n",
       "        if (!arguments.length) return width;\n",
       "        width = value;\n",
       "        return chart;\n",
       "    };\n",
       "\n",
       "    chart.height = function(value) {\n",
       "        if (!arguments.length) return height;\n",
       "        height = value;\n",
       "        return chart;\n",
       "    };\n",
       "\n",
       "    chart.xlabel = function(value) {\n",
       "        if(!arguments.length) return xlabel ;\n",
       "        xlabel = value ;\n",
       "        return chart ;\n",
       "    } ;\n",
       "\n",
       "    chart.ylabel = function(value) {\n",
       "        if(!arguments.length) return ylabel ;\n",
       "        ylabel = value ;\n",
       "        return chart ;\n",
       "    } ;\n",
       "\n",
       "    return chart;\n",
       "}\n",
       "\n",
       "d3.my_d3_xy_chart = d3_xy_chart;\n"
      ],
      "text/plain": [
       "<IPython.core.display.Javascript object>"
      ]
     },
     "metadata": {},
     "output_type": "display_data"
    }
   ],
   "source": [
    "\n",
    "js = \"\"\"\n",
    "function d3_xy_chart() {\n",
    "    var width = 640,  \n",
    "        height = 480, \n",
    "        xlabel = \"X Axis Label\",\n",
    "        ylabel = \"Y Axis Label\" ;\n",
    "    \n",
    "    function chart(selection) {\n",
    "        selection.each(function(datasets) {\n",
    "            //\n",
    "            // Create the plot. \n",
    "            //\n",
    "            var margin = {top: 20, right: 80, bottom: 30, left: 50}, \n",
    "                innerwidth = width - margin.left - margin.right,\n",
    "                innerheight = height - margin.top - margin.bottom ;\n",
    "            \n",
    "            var x_scale = d3.scale.linear()\n",
    "                .range([0, innerwidth])\n",
    "                .domain([ d3.min(datasets, function(d) { return d3.min(d.x); }), \n",
    "                          d3.max(datasets, function(d) { return d3.max(d.x); }) ]) ;\n",
    "            \n",
    "            var y_scale = d3.scale.linear()\n",
    "                .range([innerheight, 0])\n",
    "                .domain([ d3.min(datasets, function(d) { return d3.min(d.y); }),\n",
    "                          d3.max(datasets, function(d) { return d3.max(d.y); }) ]) ;\n",
    "\n",
    "            var color_scale = d3.scale.category10()\n",
    "                .domain(d3.range(datasets.length)) ;\n",
    "\n",
    "            var x_axis = d3.svg.axis()\n",
    "                .scale(x_scale)\n",
    "                .orient(\"bottom\") ;\n",
    "\n",
    "            var y_axis = d3.svg.axis()\n",
    "                .scale(y_scale)\n",
    "                .orient(\"left\") ;\n",
    "\n",
    "            var x_grid = d3.svg.axis()\n",
    "                .scale(x_scale)\n",
    "                .orient(\"bottom\")\n",
    "                .tickSize(-innerheight)\n",
    "                .tickFormat(\"\") ;\n",
    "\n",
    "            var y_grid = d3.svg.axis()\n",
    "                .scale(y_scale)\n",
    "                .orient(\"left\") \n",
    "                .tickSize(-innerwidth)\n",
    "                .tickFormat(\"\") ;\n",
    "\n",
    "            var draw_line = d3.svg.line()\n",
    "                .interpolate(\"basis\")\n",
    "                .x(function(d) { return x_scale(d[0]); })\n",
    "                .y(function(d) { return y_scale(d[1]); }) ;\n",
    "\n",
    "            var svg = d3.select(this)\n",
    "                .attr(\"width\", width)\n",
    "                .attr(\"height\", height)\n",
    "                .append(\"g\")\n",
    "                .attr(\"transform\", \"translate(\" + margin.left + \",\" + margin.top + \")\") ;\n",
    "            \n",
    "            svg.append(\"g\")\n",
    "                .attr(\"class\", \"x grid\")\n",
    "                .attr(\"transform\", \"translate(0,\" + innerheight + \")\")\n",
    "                .call(x_grid) ;\n",
    "\n",
    "            svg.append(\"g\")\n",
    "                .attr(\"class\", \"y grid\")\n",
    "                .call(y_grid) ;\n",
    "\n",
    "            svg.append(\"g\")\n",
    "                .attr(\"class\", \"x axis\")\n",
    "                .attr(\"transform\", \"translate(0,\" + innerheight + \")\") \n",
    "                .call(x_axis)\n",
    "                .append(\"text\")\n",
    "                .attr(\"dy\", \"-.71em\")\n",
    "                .attr(\"x\", innerwidth)\n",
    "                .style(\"text-anchor\", \"end\")\n",
    "                .text(xlabel) ;\n",
    "            \n",
    "            svg.append(\"g\")\n",
    "                .attr(\"class\", \"y axis\")\n",
    "                .call(y_axis)\n",
    "                .append(\"text\")\n",
    "                .attr(\"transform\", \"rotate(-90)\")\n",
    "                .attr(\"y\", 6)\n",
    "                .attr(\"dy\", \"0.71em\")\n",
    "                .style(\"text-anchor\", \"end\")\n",
    "                .text(ylabel) ;\n",
    "\n",
    "            var data_lines = svg.selectAll(\".d3_xy_chart_line\")\n",
    "                .data(datasets.map(function(d) {return d3.zip(d.x, d.y);}))\n",
    "                .enter().append(\"g\")\n",
    "                .attr(\"class\", \".d3_xy_chart_line\") ;\n",
    "            \n",
    "            data_lines.append(\"path\")\n",
    "                .attr(\"class\", \"line\")\n",
    "                .attr(\"d\", function(d) {return draw_line(d); })\n",
    "                .attr(\"stroke\", function(_, i) {return color_scale(i);}) ;\n",
    "            \n",
    "            data_lines.append(\"text\")\n",
    "                .datum(function(d, i) { return {name: datasets[i].label, final: d[d.length-1]}; }) \n",
    "                .attr(\"transform\", function(d) { \n",
    "                    return ( \"translate(\" + x_scale(d.final[0]) + \",\" + \n",
    "                             y_scale(d.final[1]) + \")\" ) ; })\n",
    "                .attr(\"x\", 3)\n",
    "                .attr(\"dy\", \".35em\")\n",
    "                .attr(\"fill\", function(_, i) { return color_scale(i); })\n",
    "                .text(function(d) { return d.name; }) ;\n",
    "\n",
    "        }) ;\n",
    "    }\n",
    "\n",
    "    chart.width = function(value) {\n",
    "        if (!arguments.length) return width;\n",
    "        width = value;\n",
    "        return chart;\n",
    "    };\n",
    "\n",
    "    chart.height = function(value) {\n",
    "        if (!arguments.length) return height;\n",
    "        height = value;\n",
    "        return chart;\n",
    "    };\n",
    "\n",
    "    chart.xlabel = function(value) {\n",
    "        if(!arguments.length) return xlabel ;\n",
    "        xlabel = value ;\n",
    "        return chart ;\n",
    "    } ;\n",
    "\n",
    "    chart.ylabel = function(value) {\n",
    "        if(!arguments.length) return ylabel ;\n",
    "        ylabel = value ;\n",
    "        return chart ;\n",
    "    } ;\n",
    "\n",
    "    return chart;\n",
    "}\n",
    "\n",
    "d3.my_d3_xy_chart = d3_xy_chart;\n",
    "\"\"\"\n",
    "\n",
    "display(Javascript(js))\n"
   ]
  },
  {
   "cell_type": "code",
   "execution_count": 14,
   "metadata": {
    "collapsed": false
   },
   "outputs": [
    {
     "data": {
      "text/html": [
       "\n",
       "<style>\n",
       "\n",
       "body {\n",
       "  font: 12px sans-serif;\n",
       "}\n",
       "\n",
       ".axis path,\n",
       ".axis line {\n",
       "  fill: none;\n",
       "  stroke: #000;\n",
       "  shape-rendering: crispEdges;\n",
       "}\n",
       "\n",
       ".grid path,\n",
       ".grid line {\n",
       "  fill: none;\n",
       "  stroke: rgba(0, 0, 0, 0.25);\n",
       "  shape-rendering: crispEdges;\n",
       "}\n",
       "\n",
       ".x.axis path {\n",
       "  display: none;\n",
       "}\n",
       "\n",
       ".line {\n",
       "  fill: none;\n",
       "  stroke-width: 2.5px;\n",
       "}\n",
       "\n",
       "</style>\n",
       "\n"
      ],
      "text/plain": [
       "<IPython.core.display.HTML object>"
      ]
     },
     "execution_count": 14,
     "metadata": {},
     "output_type": "execute_result"
    }
   ],
   "source": [
    "from IPython.display import HTML\n",
    "\n",
    "style = \"\"\"\n",
    "<style>\n",
    "\n",
    "body {\n",
    "  font: 12px sans-serif;\n",
    "}\n",
    "\n",
    ".axis path,\n",
    ".axis line {\n",
    "  fill: none;\n",
    "  stroke: #000;\n",
    "  shape-rendering: crispEdges;\n",
    "}\n",
    "\n",
    ".grid path,\n",
    ".grid line {\n",
    "  fill: none;\n",
    "  stroke: rgba(0, 0, 0, 0.25);\n",
    "  shape-rendering: crispEdges;\n",
    "}\n",
    "\n",
    ".x.axis path {\n",
    "  display: none;\n",
    "}\n",
    "\n",
    ".line {\n",
    "  fill: none;\n",
    "  stroke-width: 2.5px;\n",
    "}\n",
    "\n",
    "</style>\n",
    "\n",
    "\"\"\"\n",
    "\n",
    "HTML(style)\n"
   ]
  },
  {
   "cell_type": "code",
   "execution_count": 15,
   "metadata": {
    "collapsed": true
   },
   "outputs": [],
   "source": [
    "yval1 = range(5)\n",
    "yval2 = [x*x*x for x in range(5)]"
   ]
  },
  {
   "cell_type": "code",
   "execution_count": 16,
   "metadata": {
    "collapsed": false
   },
   "outputs": [
    {
     "data": {
      "application/javascript": [
       "\n",
       "nbvars.toJs(\"yval1\", function (res) { nbvars.yval1 = res; })\n",
       "nbvars.toJs(\"yval2\", function (res) { nbvars.yval2 = res; })\n"
      ],
      "text/plain": [
       "<IPython.core.display.Javascript object>"
      ]
     },
     "metadata": {},
     "output_type": "display_data"
    }
   ],
   "source": [
    "# %%javascript\n",
    "js = \"\"\"\n",
    "nbvars.toJs(\"yval1\", function (res) { nbvars.yval1 = res; })\n",
    "nbvars.toJs(\"yval2\", function (res) { nbvars.yval2 = res; })\n",
    "\"\"\"\n",
    "\n",
    "display(Javascript(js))\n"
   ]
  },
  {
   "cell_type": "code",
   "execution_count": 17,
   "metadata": {
    "collapsed": false
   },
   "outputs": [
    {
     "data": {
      "text/html": [
       "\n",
       "<div id=d3-chart></div>\n"
      ],
      "text/plain": [
       "<IPython.core.display.HTML object>"
      ]
     },
     "execution_count": 17,
     "metadata": {},
     "output_type": "execute_result"
    }
   ],
   "source": [
    "# %%javascript\n",
    "from IPython.display import HTML\n",
    "\n",
    "html = \"\"\"\n",
    "<div id=d3-chart></div>\n",
    "\"\"\"\n",
    "\n",
    "HTML(html)"
   ]
  },
  {
   "cell_type": "code",
   "execution_count": 18,
   "metadata": {
    "collapsed": false
   },
   "outputs": [
    {
     "data": {
      "application/javascript": [
       "\n",
       "var data = [ { label: \"Data Set 1\", \n",
       "               x: [0, 1, 2, 3, 4], \n",
       "               y: nbvars.yval1 }, \n",
       "             { label: \"Data Set 2\", \n",
       "               x: [0, 1, 2, 3, 4], \n",
       "               y: nbvars.yval2 } ];\n",
       "\n",
       "var xy_chart = d3.my_d3_xy_chart()\n",
       "    .width(600)\n",
       "    .height(200)\n",
       "    .xlabel(\"X Axis\")\n",
       "    .ylabel(\"Y Axis\");\n",
       "\n",
       "$('#d3-chart').empty();\n",
       "\n",
       "var svg = d3.select(\"#d3-chart\").append(\"svg\")\n",
       "    .datum(data)\n",
       "    .call(xy_chart);\n"
      ],
      "text/plain": [
       "<IPython.core.display.Javascript object>"
      ]
     },
     "metadata": {},
     "output_type": "display_data"
    }
   ],
   "source": [
    "# %%javascript\n",
    "\n",
    "js = \"\"\"\n",
    "var data = [ { label: \"Data Set 1\", \n",
    "               x: [0, 1, 2, 3, 4], \n",
    "               y: nbvars.yval1 }, \n",
    "             { label: \"Data Set 2\", \n",
    "               x: [0, 1, 2, 3, 4], \n",
    "               y: nbvars.yval2 } ];\n",
    "\n",
    "var xy_chart = d3.my_d3_xy_chart()\n",
    "    .width(600)\n",
    "    .height(200)\n",
    "    .xlabel(\"X Axis\")\n",
    "    .ylabel(\"Y Axis\");\n",
    "\n",
    "$('#d3-chart').empty();\n",
    "\n",
    "var svg = d3.select(\"#d3-chart\").append(\"svg\")\n",
    "    .datum(data)\n",
    "    .call(xy_chart);\n",
    "\"\"\"\n",
    "\n",
    "display(Javascript(js))\n",
    "\n"
   ]
  },
  {
   "cell_type": "code",
   "execution_count": 19,
   "metadata": {
    "collapsed": false
   },
   "outputs": [
    {
     "data": {
      "application/javascript": [
       "\n",
       "nbvars.log(nbvars.yval1, element)\n",
       "nbvars.log(nbvars.yval2, element)"
      ],
      "text/plain": [
       "<IPython.core.display.Javascript object>"
      ]
     },
     "metadata": {},
     "output_type": "display_data"
    }
   ],
   "source": [
    "%%javascript\n",
    "\n",
    "nbvars.log(nbvars.yval1, element)\n",
    "nbvars.log(nbvars.yval2, element)"
   ]
  },
  {
   "cell_type": "code",
   "execution_count": null,
   "metadata": {
    "collapsed": true
   },
   "outputs": [],
   "source": []
  }
 ],
 "metadata": {
  "kernelspec": {
   "display_name": "Python 2",
   "language": "python",
   "name": "python2"
  },
  "language_info": {
   "codemirror_mode": {
    "name": "ipython",
    "version": 2
   },
   "file_extension": ".py",
   "mimetype": "text/x-python",
   "name": "python",
   "nbconvert_exporter": "python",
   "pygments_lexer": "ipython2",
   "version": "2.7.3"
  },
  "latex_envs": {
   "bibliofile": "biblio.bib",
   "cite_by": "apalike",
   "current_citInitial": 1,
   "eqLabelWithNumbers": true,
   "eqNumInitial": 0
  }
 },
 "nbformat": 4,
 "nbformat_minor": 0
}
