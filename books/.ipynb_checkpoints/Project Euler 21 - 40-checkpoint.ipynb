{
 "cells": [
  {
   "cell_type": "code",
   "execution_count": 28,
   "metadata": {
    "collapsed": true
   },
   "outputs": [],
   "source": [
    "# import io\n",
    "# from IPython.nbformat import current\n",
    "\n",
    "# def execute_notebook(nbfile):\n",
    "    \n",
    "#     with io.open(nbfile) as f:\n",
    "#         nb = current.read(f, 'json')\n",
    "    \n",
    "#     ip = get_ipython()\n",
    "    \n",
    "#     for cell in nb.worksheets[0].cells:\n",
    "#         if cell.cell_type != 'code':\n",
    "#             continue\n",
    "#         ip.run_cell(cell.input)\n",
    "#     return\n",
    "\n",
    "execute_notebook(\"Euler_Tools.ipynb\")\n",
    "\n"
   ]
  },
  {
   "cell_type": "markdown",
   "metadata": {},
   "source": [
    "### Problem 21\n",
    "\n",
    "Let d(n) be defined as the sum of proper divisors of n (numbers less than n which divide evenly into n).\n",
    "If d(a) = b and d(b) = a, where a ≠ b, then a and b are an amicable pair and each of a and b are called amicable numbers.\n",
    "\n",
    "For example, the proper divisors of 220 are 1, 2, 4, 5, 10, 11, 20, 22, 44, 55 and 110; therefore d(220) = 284. The proper divisors of 284 are 1, 2, 4, 71 and 142; so d(284) = 220.\n",
    "\n",
    "Evaluate the sum of all the amicable numbers under 10000."
   ]
  },
  {
   "cell_type": "code",
   "execution_count": 23,
   "metadata": {
    "collapsed": false
   },
   "outputs": [
    {
     "name": "stdout",
     "output_type": "stream",
     "text": [
      "[220, 284, 1184, 1210, 2620, 2924, 5020, 5564, 6232, 6368]\n",
      "31626\n"
     ]
    }
   ],
   "source": [
    "from itertools import combinations\n",
    "\n",
    "def getExpandedFactors(n, primes=None):\n",
    "    factors = []\n",
    "    [factors.extend([x[0]]*x[1]) for x in factorize(n, primes)]\n",
    "    return factors\n",
    "\n",
    "def genDivisors(num, primes=None):\n",
    "    if num > 0:\n",
    "        yield 1\n",
    "    factors = getExpandedFactors(num, primes)\n",
    "    for ix in xrange(1, len(factors)):\n",
    "        for terms in combinations(factors, ix):\n",
    "            yield product(terms)\n",
    "\n",
    "sumDivs = {}\n",
    "\n",
    "for num in xrange(1, 10001):\n",
    "    sumDivs[num] = sum(set(genDivisors(num)))\n",
    "\n",
    "amicables = []\n",
    "    \n",
    "for key, val in sumDivs.items():\n",
    "    if (key == val) or (val < key):\n",
    "        continue\n",
    "    if sumDivs.get(val) == key:\n",
    "        amicables.extend([key, val])\n",
    "\n",
    "print amicables\n",
    "print sum(amicables)"
   ]
  },
  {
   "cell_type": "markdown",
   "metadata": {},
   "source": [
    "### Problem 22\n",
    "\n",
    "Using names.txt (right click and 'Save Link/Target As...'), a 46K text file containing over five-thousand first names, begin by sorting it into alphabetical order. Then working out the alphabetical value for each name, multiply this value by its alphabetical position in the list to obtain a name score.\n",
    "\n",
    "For example, when the list is sorted into alphabetical order, COLIN, which is worth 3 + 15 + 12 + 9 + 14 = 53, is the 938th name in the list. So, COLIN would obtain a score of 938 × 53 = 49714.\n",
    "\n",
    "What is the total of all the name scores in the file?"
   ]
  },
  {
   "cell_type": "code",
   "execution_count": 12,
   "metadata": {
    "collapsed": false
   },
   "outputs": [
    {
     "name": "stdout",
     "output_type": "stream",
     "text": [
      "871198282\n"
     ]
    }
   ],
   "source": [
    "# import os\n",
    "# os.system(\"wget https://projecteuler.net/project/resources/p022_names.txt\\\n",
    "# --no-check-certificate\")\n",
    "\n",
    "def getScore(name, index):\n",
    "    ordbase = ord('a') - 1\n",
    "    return index * sum((ord(c) - ordbase) for c in name)\n",
    "\n",
    "names = (x.strip().lower() for x in open('p022_names.txt').read().replace('\"',\n",
    "                                      '').split(','))\n",
    "print sum(getScore(cc, ix + 1) for ix, cc in enumerate(sorted(names)))\n"
   ]
  },
  {
   "cell_type": "markdown",
   "metadata": {},
   "source": [
    "### Problem 23\n",
    "\n",
    "A perfect number is a number for which the sum of its proper divisors is exactly equal to the number. For example, the sum of the proper divisors of 28 would be 1 + 2 + 4 + 7 + 14 = 28, which means that 28 is a perfect number.\n",
    "\n",
    "A number n is called deficient if the sum of its proper divisors is less than n and it is called abundant if this sum exceeds n.\n",
    "\n",
    "As 12 is the smallest abundant number, 1 + 2 + 3 + 4 + 6 = 16, the smallest number that can be written as the sum of two abundant numbers is 24. By mathematical analysis, it can be shown that all integers greater than 28123 can be written as the sum of two abundant numbers. However, this upper limit cannot be reduced any further by analysis even though it is known that the greatest number that cannot be expressed as the sum of two abundant numbers is less than this limit.\n",
    "\n",
    "Find the sum of all the positive integers which cannot be written as the sum of two abundant numbers."
   ]
  },
  {
   "cell_type": "code",
   "execution_count": 33,
   "metadata": {
    "collapsed": false
   },
   "outputs": [
    {
     "name": "stdout",
     "output_type": "stream",
     "text": [
      "4179871\n",
      "Time = 6.51341795921\n"
     ]
    }
   ],
   "source": [
    "def sumOfDivisors(num, primes=None):\n",
    "    return sum(set(genDivisors(num, primes)))\n",
    "\n",
    "def isAbundant(num, primes=None):\n",
    "    return True if sumOfDivisors(num, primes) > num else False\n",
    "\n",
    "def isPerfect(num, primes=None):\n",
    "    return True if sumOfDivisors(num, primes) == num else False\n",
    "\n",
    "@timeit\n",
    "def solve():\n",
    "    primes = list(genPrimes(29000))\n",
    "    abundants = [x for x in xrange(2, 28124) if isAbundant(x, primes)]\n",
    "    labu = len(abundants)\n",
    "    pairSums = set((abundants[i] + abundants[j]) for i in xrange(labu)\n",
    "                           for j in xrange(i, labu))\n",
    "    \n",
    "    pairSums = sum(x for x in pairSums if x < 28124)\n",
    "\n",
    "    print (28123 * 28124 / 2) - pairSums\n",
    "    \n",
    "\n",
    "solve()"
   ]
  },
  {
   "cell_type": "markdown",
   "metadata": {},
   "source": [
    "### Problem 24\n",
    "\n",
    "A permutation is an ordered arrangement of objects. For example, 3124 is one possible permutation of the digits 1, 2, 3 and 4. If all of the permutations are listed numerically or alphabetically, we call it lexicographic order. The lexicographic permutations of 0, 1 and 2 are:\n",
    "\n",
    "012   021   102   120   201   210\n",
    "\n",
    "What is the millionth lexicographic permutation of the digits 0, 1, 2, 3, 4, 5, 6, 7, 8 and 9?"
   ]
  },
  {
   "cell_type": "code",
   "execution_count": null,
   "metadata": {
    "collapsed": true
   },
   "outputs": [],
   "source": [
    "def findSmallestHigherIndex(inp, index):\n",
    "    prev = inp[index - 1]\n",
    "    remaining = inp[index:]\n",
    "    minx = remaining[0]\n",
    "    minix = index\n",
    "    for ix, x in remaining:\n",
    "        if (x > prev) and (x < minx):\n",
    "            minx = x\n",
    "            minix = ix + index\n",
    "    return minix\n",
    "    \n",
    "\n",
    "def genPermutations(inp):\n",
    "    inp = sorted(inp)\n",
    "    yield inp\n",
    "    # read numbers from right to left\n",
    "    # if increasing, continue\n",
    "    #     if reach beginning, return\n",
    "    # if decreasing, exchange lesser number with smallest higher number on right\n",
    "    # sort all numbers on the right,\n",
    "    # yield permutation\n",
    "    # back to first step\n",
    "    linp = len(inp)\n",
    "    while True:\n",
    "        for index in xrange(linp - 1, -1, -1):\n",
    "            if index == 0:\n",
    "                return\n",
    "            curr = inp[index]\n",
    "            prev = inp[index - 1]\n",
    "            if prev > curr:\n",
    "                continue\n",
    "            else:\n",
    "                idx = findSmallestHigherIndex(inp, index)\n",
    "                inp[index - 1], inp[idx] = inp[idx], inp[index - 1]\n",
    "                inp[index:] = sorted(inp[index:])\n",
    "                yield inp\n",
    "                break\n",
    "                \n",
    "    "
   ]
  },
  {
   "cell_type": "code",
   "execution_count": 34,
   "metadata": {
    "collapsed": false
   },
   "outputs": [
    {
     "name": "stdout",
     "output_type": "stream",
     "text": [
      "[5, 4, 3, 2]\n"
     ]
    }
   ],
   "source": [
    "print range(5, 1, -1)"
   ]
  },
  {
   "cell_type": "code",
   "execution_count": null,
   "metadata": {
    "collapsed": true
   },
   "outputs": [],
   "source": []
  }
 ],
 "metadata": {
  "kernelspec": {
   "display_name": "Python 2",
   "language": "python",
   "name": "python2"
  },
  "language_info": {
   "codemirror_mode": {
    "name": "ipython",
    "version": 2
   },
   "file_extension": ".py",
   "mimetype": "text/x-python",
   "name": "python",
   "nbconvert_exporter": "python",
   "pygments_lexer": "ipython2",
   "version": "2.7.3"
  }
 },
 "nbformat": 4,
 "nbformat_minor": 0
}
