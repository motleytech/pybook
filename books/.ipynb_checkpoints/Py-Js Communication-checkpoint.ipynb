{
 "cells": [
  {
   "cell_type": "code",
   "execution_count": 69,
   "metadata": {
    "collapsed": false,
    "run_control": {
     "marked": false
    }
   },
   "outputs": [
    {
     "data": {
      "application/javascript": [
       "require(\"base/js/utils\").load_extensions(\"usability/toggle_all_line_number.js\")\n",
       "\n",
       "function log(mesg, elem) {\n",
       "    if (elem) {\n",
       "        elem.append(\"<p>\" + mesg + \"</p>\")\n",
       "    } else {\n",
       "        console.log(mesg)\n",
       "    }\n",
       "}\n",
       "\n",
       "function toPy(value, ident) {\n",
       "    var kernel = IPython.notebook.kernel;\n",
       "    value = value.replace(\"'\", \"\\\\'\");\n",
       "    value = value.replace('\"', '\\\\\"');\n",
       "    var code_input = ident + \" = '\" + value + \"'\";\n",
       "    var msg_id = kernel.execute(code_input);\n",
       "}\n",
       "\n",
       "function toJs(ident, ident2, cb2) {\n",
       "    var kernel = IPython.notebook.kernel;\n",
       "    function callback(out){\n",
       "        console.log(out);\n",
       "        var res = null;\n",
       "        \n",
       "        // if output is a print statement\n",
       "        if(out.msg_type == \"stream\"){\n",
       "            res = out.content.text;\n",
       "        }\n",
       "        \n",
       "        // if output is a python object\n",
       "        else if(out.msg_type === \"pyout\"){\n",
       "            res = out.content.data[\"text/plain\"];\n",
       "        }\n",
       "        \n",
       "        // if output is executing result\n",
       "        else if(out.msg_type === \"execute_result\"){\n",
       "            res = out.content.data[\"text/plain\"];\n",
       "        }\n",
       "        \n",
       "        // if output is a python error\n",
       "        else if(out.msg_type == \"pyerr\"){\n",
       "            res = out.content.ename + \": \" + out.content.evalue;\n",
       "        }\n",
       "        \n",
       "        // if output is something we haven't thought of\n",
       "        else{\n",
       "            res = \"[out type not implemented]\";  \n",
       "        }\n",
       "        \n",
       "        if (!ident2) {\n",
       "            ident2 = ident;\n",
       "        }\n",
       "        \n",
       "        window.nbvars[ident2] = res;\n",
       "        \n",
       "        if (cb2) { \n",
       "            cb2(res);\n",
       "        }\n",
       "    }\n",
       "    \n",
       "    var callbacks = { 'iopub' : {'output' : callback}};\n",
       "    var code_input = ident;\n",
       "    var msg_id = kernel.execute(code_input, callbacks, {silent:false});\n",
       "}\n",
       "\n",
       "\n",
       "window.nbvars = {\n",
       "    \"log\": log,\n",
       "}\n",
       "\n",
       "window.toPy = toPy\n",
       "window.toJs = toJs"
      ],
      "text/plain": [
       "<IPython.core.display.Javascript object>"
      ]
     },
     "metadata": {},
     "output_type": "display_data"
    }
   ],
   "source": [
    "%%javascript\n",
    "// require(\"base/js/utils\").load_extensions(\"usability/toggle_all_line_number.js\")\n",
    "\n",
    "function log(mesg, elem) {\n",
    "    if (elem) {\n",
    "        elem.append(\"<p>\" + mesg + \"</p>\")\n",
    "    } else {\n",
    "        console.log(mesg)\n",
    "    }\n",
    "}\n",
    "\n",
    "function toPy(value, ident) {\n",
    "    var kernel = IPython.notebook.kernel;\n",
    "    value = value.replace(\"'\", \"\\\\'\");\n",
    "    value = value.replace('\"', '\\\\\"');\n",
    "    var code_input = ident + \" = '\" + value + \"'\";\n",
    "    var msg_id = kernel.execute(code_input);\n",
    "}\n",
    "\n",
    "function toJs(ident, ident2, cb2) {\n",
    "    var kernel = IPython.notebook.kernel;\n",
    "    function callback(out){\n",
    "        console.log(out);\n",
    "        var res = null;\n",
    "        \n",
    "        // if output is a print statement\n",
    "        if(out.msg_type == \"stream\"){\n",
    "            res = out.content.text;\n",
    "        }\n",
    "        \n",
    "        // if output is a python object\n",
    "        else if(out.msg_type === \"pyout\"){\n",
    "            res = out.content.data[\"text/plain\"];\n",
    "        }\n",
    "        \n",
    "        // if output is executing result\n",
    "        else if(out.msg_type === \"execute_result\"){\n",
    "            res = out.content.data[\"text/plain\"];\n",
    "        }\n",
    "        \n",
    "        // if output is a python error\n",
    "        else if(out.msg_type == \"pyerr\"){\n",
    "            res = out.content.ename + \": \" + out.content.evalue;\n",
    "        }\n",
    "        \n",
    "        // if output is something we haven't thought of\n",
    "        else{\n",
    "            res = \"[out type not implemented]\";  \n",
    "        }\n",
    "        \n",
    "        if (!ident2) {\n",
    "            ident2 = ident;\n",
    "        }\n",
    "        \n",
    "        window.nbvars[ident2] = res;\n",
    "        \n",
    "        if (cb2) { \n",
    "            cb2(res);\n",
    "        }\n",
    "    }\n",
    "    \n",
    "    var callbacks = { 'iopub' : {'output' : callback}};\n",
    "    var code_input = ident;\n",
    "    var msg_id = kernel.execute(code_input, callbacks, {silent:false});\n",
    "}\n",
    "\n",
    "\n",
    "window.nbvars = {\n",
    "    \"log\": log,\n",
    "}\n",
    "\n",
    "window.toPy = toPy\n",
    "window.toJs = toJs"
   ]
  },
  {
   "cell_type": "code",
   "execution_count": 59,
   "metadata": {
    "collapsed": false,
    "run_control": {
     "marked": false
    }
   },
   "outputs": [
    {
     "name": "stdout",
     "output_type": "stream",
     "text": [
      "[1, 2, 3, 4]\n"
     ]
    }
   ],
   "source": [
    "myvar = [1, 2, 3, 4]\n",
    "print myvar"
   ]
  },
  {
   "cell_type": "code",
   "execution_count": 68,
   "metadata": {
    "collapsed": false,
    "run_control": {
     "marked": false
    }
   },
   "outputs": [
    {
     "data": {
      "application/javascript": [
       "nbvars.element = element;\n",
       "toJs(\"myvar\", \"myvarJs\", function (data) {\n",
       "    nbvars.log(\"got back - \" + data, nbvars.element);\n",
       "    nbvars.myvarJs = eval(data);\n",
       "});"
      ],
      "text/plain": [
       "<IPython.core.display.Javascript object>"
      ]
     },
     "metadata": {},
     "output_type": "display_data"
    }
   ],
   "source": [
    "%%javascript\n",
    "nbvars.element = element;\n",
    "toJs(\"myvar\", \"myvarJs\", function (data) {\n",
    "    nbvars.log(\"got back - \" + data, nbvars.element);\n",
    "    nbvars.myvarJs = eval(data);\n",
    "});\n"
   ]
  },
  {
   "cell_type": "code",
   "execution_count": 61,
   "metadata": {
    "collapsed": false,
    "run_control": {
     "marked": false
    }
   },
   "outputs": [
    {
     "data": {
      "application/javascript": [
       "nbvars.log(nbvars)"
      ],
      "text/plain": [
       "<IPython.core.display.Javascript object>"
      ]
     },
     "metadata": {},
     "output_type": "display_data"
    }
   ],
   "source": [
    "%%javascript\n",
    "nbvars.log(nbvars)"
   ]
  },
  {
   "cell_type": "code",
   "execution_count": 62,
   "metadata": {
    "collapsed": true
   },
   "outputs": [],
   "source": [
    "a = 1.23"
   ]
  },
  {
   "cell_type": "markdown",
   "metadata": {
    "variables": {
     " a ": "1.23"
    }
   },
   "source": [
    "a = {{ a }}"
   ]
  },
  {
   "cell_type": "code",
   "execution_count": null,
   "metadata": {
    "collapsed": true
   },
   "outputs": [],
   "source": []
  }
 ],
 "metadata": {
  "kernelspec": {
   "display_name": "Python 2",
   "language": "python",
   "name": "python2"
  },
  "language_info": {
   "codemirror_mode": {
    "name": "ipython",
    "version": 2
   },
   "file_extension": ".py",
   "mimetype": "text/x-python",
   "name": "python",
   "nbconvert_exporter": "python",
   "pygments_lexer": "ipython2",
   "version": "2.7.3"
  }
 },
 "nbformat": 4,
 "nbformat_minor": 0
}
