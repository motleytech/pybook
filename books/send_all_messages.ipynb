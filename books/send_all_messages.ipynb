{
 "cells": [
  {
   "cell_type": "code",
   "execution_count": null,
   "metadata": {
    "collapsed": true
   },
   "outputs": [],
   "source": [
    "from time import time, sleep\n",
    "import json\n",
    "\n",
    "USER_DATA_FILE = 'users_data.json'\n",
    "MESSAGE_TIMES_FILE = 'msg_times.json'\n",
    "SENT_MESSAGES_LOG_FILE = 'sent_msgs.log'\n",
    "NUM_MESSAGES = 1000\n",
    "\n",
    "def is_time_to_send_message(t1, t2, freq):\n",
    "    secs = freq * 60\n",
    "    if t1 - t2 > secs:\n",
    "        return True\n",
    "    return False\n",
    "\n",
    "def load_user_data():\n",
    "    with open(USER_DATA_FILE, 'r') as udfile:\n",
    "        try:\n",
    "            udata = udfile.read()\n",
    "        except:\n",
    "            print \"Error in reading file : %s\" % USER_DATA_FILE\n",
    "            udata = {}\n",
    "    return json.loads(udata)\n",
    "\n",
    "def load_last_messages_info():\n",
    "    try:\n",
    "        with open(MESSAGE_TIMES_FILE, 'r') as mtfile:\n",
    "            msgs_info = mtfile.read()\n",
    "    except:\n",
    "        msgs_info = {}\n",
    "        with open(MESSAGE_TIMES_FILE, 'w') as mtfile:\n",
    "            mtfile.write(json.dumps(msgs_info))\n",
    "    return json.loads(msgs_info)\n",
    "\n",
    "def save_last_message_times(msg_times):\n",
    "    try:\n",
    "        with open(MESSAGE_TIMES_FILE, 'w') as mtfile:\n",
    "            mtfile.write(json.dumps(msg_times))\n",
    "    except:\n",
    "        print \"Error in writing file : %s\" % MESSAGE_TIMES_FILE\n",
    "\n",
    "def log_sent_messages(messages_log):\n",
    "    with open(SENT_MESSAGES_LOG_FILE, 'ab') as smfile:\n",
    "        flwriter = csv.writer(\n",
    "                smfile,\n",
    "                delimiter=',',\n",
    "                quoting=csv.QUOTE_MINIMAL,\n",
    "                lineterminator='\\n',\n",
    "                )\n",
    "        for msg in messages_log:\n",
    "            flwriter.writerow(msg)\n",
    "\n",
    "def get_last_msg_index_and_time(number, data):\n",
    "    msg_time, msg_index = last_messages_info.get(number, (0, 0))\n",
    "    \n",
    "    if msg_time == 0:\n",
    "        from random import randint\n",
    "        msg_index = randint(0, NUM_MESSAGES)\n",
    "    return msg_time, msg_index\n",
    "            \n",
    "def send_message(number, msg_index):\n",
    "    print \"Sending message %s to number : %s\" % (msg_index, number)\n",
    "    \n",
    "def send_all_messages():\n",
    "    \"\"\"\n",
    "    This function is called every minute\n",
    "    to send messages to subscribed numbers\n",
    "    \"\"\"\n",
    "    # dict of number -> time when last message was sent\n",
    "    last_messages_info = load_last_messages_info()\n",
    "    messages_log = []\n",
    "    now = int(time())\n",
    "\n",
    "    # read users file\n",
    "    udata = load_user_data()\n",
    "    for number, (status, freq) in ud.items():\n",
    "        if status == 'subscriber':\n",
    "            last_msg_time, last_msg_index = \\\n",
    "                    get_last_msg_index_and_time(number, last_messages_info)\n",
    "            if is_time_to_send_message(now,\n",
    "                                       last_msg_time,\n",
    "                                       freq):\n",
    "                \n",
    "                send_message(number, last_msg_index + 1)\n",
    "                last_message_times[number] = (now, last_msg_index + 1)\n",
    "                messages_log.append([number, now, last_msg_index])\n",
    "                \n",
    "    save_last_message_times(last_message_times)\n",
    "    log_sent_messages(messages_log)\n",
    "    \n",
    "def main():\n",
    "    while True:\n",
    "        send_all_messages()\n",
    "        sleep(60)\n",
    "\n",
    "if __name__ == \"__main__\":\n",
    "    main()\n"
   ]
  },
  {
   "cell_type": "code",
   "execution_count": null,
   "metadata": {
    "collapsed": true
   },
   "outputs": [],
   "source": []
  },
  {
   "cell_type": "code",
   "execution_count": null,
   "metadata": {
    "collapsed": false
   },
   "outputs": [],
   "source": [
    "fl = open('sdlfjs', 'a')\n",
    "fl.write('yoohoo')\n",
    "fl.close()\n",
    "\n",
    "print open('sdlfjs', 'r').read()"
   ]
  },
  {
   "cell_type": "code",
   "execution_count": null,
   "metadata": {
    "collapsed": true
   },
   "outputs": [],
   "source": [
    "import os\n",
    "os.remove('sdlfjs')"
   ]
  },
  {
   "cell_type": "code",
   "execution_count": null,
   "metadata": {
    "collapsed": true
   },
   "outputs": [],
   "source": [
    "from random import randint"
   ]
  },
  {
   "cell_type": "code",
   "execution_count": null,
   "metadata": {
    "collapsed": false
   },
   "outputs": [],
   "source": [
    "print randint(0, 20)"
   ]
  },
  {
   "cell_type": "code",
   "execution_count": null,
   "metadata": {
    "collapsed": false
   },
   "outputs": [],
   "source": [
    "import csv\n",
    "csv.writer??"
   ]
  },
  {
   "cell_type": "code",
   "execution_count": null,
   "metadata": {
    "collapsed": true
   },
   "outputs": [],
   "source": [
    "import csv\n",
    "with open('eggs.csv', 'wb') as csvfile:\n",
    "    spamwriter = csv.writer(csvfile, delimiter=',', quoting=csv.QUOTE_MINIMAL)\n",
    "    spamwriter.writerow(['Spam'] * 5 + ['Baked Beans'])\n",
    "    spamwriter.writerow([255, 'Spam', 'Lovely, Spam', 'Wonderful Spam'])"
   ]
  },
  {
   "cell_type": "code",
   "execution_count": null,
   "metadata": {
    "collapsed": false
   },
   "outputs": [],
   "source": [
    "pp(open('eggs.csv', 'r').readlines())"
   ]
  },
  {
   "cell_type": "code",
   "execution_count": null,
   "metadata": {
    "collapsed": false
   },
   "outputs": [],
   "source": [
    "import time\n",
    "time.sleep??"
   ]
  },
  {
   "cell_type": "code",
   "execution_count": null,
   "metadata": {
    "collapsed": true
   },
   "outputs": [],
   "source": [
    "\n",
    "\n",
    "\n",
    "\n",
    "\n",
    "\n",
    "\n",
    "\n",
    "\n",
    "\n",
    "\n",
    "\n",
    "\n",
    "\n",
    "\n",
    "\n",
    "\n",
    "\n",
    "\n",
    "\n",
    "\n",
    "\n",
    "\n",
    "\n",
    "\n",
    "\n",
    "\n",
    "\n",
    "\n",
    "\n",
    "\n",
    "\n",
    "\n",
    "\n",
    "\n",
    "\n",
    "\n",
    "\n",
    "\n",
    "\n",
    "\n",
    "\n",
    "\n",
    "\n",
    "\n",
    "\n",
    "\n",
    "\n",
    "\n",
    "\n",
    "\n",
    "\n",
    "\n",
    "\n",
    "\n"
   ]
  },
  {
   "cell_type": "markdown",
   "metadata": {},
   "source": [
    "# hello\n",
    "\n",
    "\n",
    "```\n",
    "for x in range(20):\n",
    "    print x\n",
    "```"
   ]
  },
  {
   "cell_type": "code",
   "execution_count": null,
   "metadata": {
    "collapsed": true
   },
   "outputs": [],
   "source": []
  }
 ],
 "metadata": {
  "kernelspec": {
   "display_name": "Python 2",
   "language": "python",
   "name": "python2"
  },
  "language_info": {
   "codemirror_mode": {
    "name": "ipython",
    "version": 2
   },
   "file_extension": ".py",
   "mimetype": "text/x-python",
   "name": "python",
   "nbconvert_exporter": "python",
   "pygments_lexer": "ipython2",
   "version": "2.7.3"
  }
 },
 "nbformat": 4,
 "nbformat_minor": 0
}
