{
 "cells": [
  {
   "cell_type": "code",
   "execution_count": 8,
   "metadata": {
    "collapsed": true
   },
   "outputs": [],
   "source": [
    "%matplotlib inline"
   ]
  },
  {
   "cell_type": "code",
   "execution_count": 9,
   "metadata": {
    "collapsed": false
   },
   "outputs": [],
   "source": [
    "# Falling through the earth\n",
    "\n",
    "dia = 12742000 # diameter of the earth in meters\n",
    "rad = dia/2.0\n",
    "me = 5.972e24\n",
    "pi = 3.1415926\n",
    "G = 6.67384e-11 # gravitational constant\n",
    "\n",
    "volume = 4 * pi * pow(rad, 3.0) / 3.0 \n",
    "density = me / volume\n",
    "\n",
    "def acc_at_depth(d):\n",
    "    vol_d = 4 * pi * pow(d, 3.0) / 3.0\n",
    "    md = density * vol_d\n",
    "    acc = G*md / pow(d, 2.0)\n",
    "    return acc\n",
    "\n",
    "\n"
   ]
  },
  {
   "cell_type": "code",
   "execution_count": 10,
   "metadata": {
    "collapsed": false
   },
   "outputs": [
    {
     "data": {
      "text/plain": [
       "[<matplotlib.lines.Line2D at 0x386aa10>]"
      ]
     },
     "execution_count": 10,
     "metadata": {},
     "output_type": "execute_result"
    },
    {
     "data": {
      "image/png": "[encoded data removed]",
      "text/plain": [
       "<matplotlib.figure.Figure at 0x37f7d90>"
      ]
     },
     "metadata": {},
     "output_type": "display_data"
    }
   ],
   "source": [
    "import matplotlib.pyplot as plt\n",
    "\n",
    "acc_depth = []\n",
    "for d in xrange(500, 1, -1):\n",
    "    dd = d*rad / 500\n",
    "    acc_depth.append((dd, acc_at_depth(dd)))\n",
    "\n",
    "xvals = [a for a,b in acc_depth]\n",
    "yvals = [b for a,b in acc_depth]\n",
    "plt.plot(xvals, yvals)"
   ]
  }
 ],
 "metadata": {
  "kernelspec": {
   "display_name": "Python 2",
   "language": "python",
   "name": "python2"
  },
  "language_info": {
   "codemirror_mode": {
    "name": "ipython",
    "version": 2
   },
   "file_extension": ".py",
   "mimetype": "text/x-python",
   "name": "python",
   "nbconvert_exporter": "python",
   "pygments_lexer": "ipython2",
   "version": "2.7.3"
  }
 },
 "nbformat": 4,
 "nbformat_minor": 0
}
