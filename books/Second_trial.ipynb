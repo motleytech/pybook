{
 "cells": [
  {
   "cell_type": "code",
   "execution_count": 2,
   "metadata": {
    "collapsed": false
   },
   "outputs": [
    {
     "name": "stdout",
     "output_type": "stream",
     "text": [
      "['16379 ?        S      0:00  \\\\_ //bin/bash /webserver/webcms/djcms/pybook/runserv',\n",
      " '16387 ?        Sl     0:12  |   \\\\_ /webserver/webcms/djcms/pybook/venv/bin/pytho',\n",
      " '14229 ?        Sl     0:03  |       \\\\_ /webserver/webcms/djcms/pybook/venv/bin/p',\n",
      " '20315 ?        Sl     0:00  |       \\\\_ /webserver/webcms/djcms/pybook/venv/bin/p',\n",
      " '']\n"
     ]
    }
   ],
   "source": [
    "import os\n",
    "from pprint import pprint as pp\n",
    "\n",
    "cmd = \"/bin/bash -c 'ps fax | grep pybook | grep -v \\\"grep pybook\\\" > /tmp/file1'\"\n",
    "os.system(cmd)\n",
    "data = open(\"/tmp/file1\").read()\n",
    "pp(data.split(\"\\n\"))\n",
    "\n"
   ]
  },
  {
   "cell_type": "code",
   "execution_count": 1,
   "metadata": {
    "collapsed": false
   },
   "outputs": [
    {
     "name": "stdout",
     "output_type": "stream",
     "text": [
      "[1, 2, 6, 24, 120, 720, 5040, 40320, 362880]\n"
     ]
    }
   ],
   "source": [
    "def factorial(n):\n",
    "    if n <= 1:\n",
    "        return 1\n",
    "    return n * factorial(n-1)\n",
    "\n",
    "print [factorial(k) for k in xrange(1,10)]"
   ]
  },
  {
   "cell_type": "code",
   "execution_count": 15,
   "metadata": {
    "collapsed": false
   },
   "outputs": [
    {
     "name": "stdout",
     "output_type": "stream",
     "text": [
      "'webuser\\n'\n"
     ]
    }
   ],
   "source": [
    "import os\n",
    "cmd = \"whoami > /tmp/file1\"\n",
    "os.system(cmd)\n",
    "data = open(\"/tmp/file1\").read()\n",
    "pp(data)"
   ]
  },
  {
   "cell_type": "markdown",
   "metadata": {},
   "source": [
    "It's $\\pi$ day today!! Hooray!\n",
    "\n",
    "\n"
   ]
  }
 ],
 "metadata": {
  "kernelspec": {
   "display_name": "Python 2",
   "language": "python",
   "name": "python2"
  },
  "language_info": {
   "codemirror_mode": {
    "name": "ipython",
    "version": 2
   },
   "file_extension": ".py",
   "mimetype": "text/x-python",
   "name": "python",
   "nbconvert_exporter": "python",
   "pygments_lexer": "ipython2",
   "version": "2.7.3"
  }
 },
 "nbformat": 4,
 "nbformat_minor": 0
}
