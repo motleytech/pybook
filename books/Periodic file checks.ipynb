{
 "cells": [
  {
   "cell_type": "code",
   "execution_count": null,
   "metadata": {
    "collapsed": true
   },
   "outputs": [],
   "source": [
    "\"\"\"\n",
    "Script to track changes in ts files and run tsc automatically on save.\n",
    "\"\"\"\n",
    "\n",
    "import os\n",
    "import time\n",
    "import glob\n",
    "\n",
    "EXISTING_FILE_MAP = {}\n",
    "\n",
    "\n",
    "def check_periodically():\n",
    "    \"Does the main task for checking for changes\"\n",
    "    ts_files = glob.glob(\"*.ts\")\n",
    "    files_to_check = set()\n",
    "    now = time.time()\n",
    "    for tsfl in ts_files:\n",
    "        if tsfl not in EXISTING_FILE_MAP:\n",
    "            files_to_check.add(tsfl)\n",
    "        else:\n",
    "            lmtime = EXISTING_FILE_MAP[tsfl]\n",
    "            pmtime = os.path.getmtime(tsfl)\n",
    "            if pmtime > lmtime:\n",
    "                files_to_check.add(tsfl)\n",
    "\n",
    "    for tsfl in files_to_check:\n",
    "        print 'Checking %s...' % tsfl\n",
    "        os.system(\"tsc %s\" % tsfl)\n",
    "        EXISTING_FILE_MAP[tsfl] = now\n",
    "\n",
    "\n",
    "def main():\n",
    "    \"Just the main function to call check_periodically every 2 seconds\"\n",
    "    print 'Monitoring ts files for modifications...'\n",
    "    while True:\n",
    "        check_periodically()\n",
    "        time.sleep(2)\n",
    "\n",
    "if __name__ == '__main__':\n",
    "    main()\n"
   ]
  }
 ],
 "metadata": {
  "kernelspec": {
   "display_name": "Python 2",
   "language": "python",
   "name": "python2"
  },
  "language_info": {
   "codemirror_mode": {
    "name": "ipython",
    "version": 2
   },
   "file_extension": ".py",
   "mimetype": "text/x-python",
   "name": "python",
   "nbconvert_exporter": "python",
   "pygments_lexer": "ipython2",
   "version": "2.7.3"
  }
 },
 "nbformat": 4,
 "nbformat_minor": 0
}
