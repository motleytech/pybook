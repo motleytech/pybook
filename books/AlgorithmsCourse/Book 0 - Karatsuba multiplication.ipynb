{
 "cells": [
  {
   "cell_type": "markdown",
   "metadata": {},
   "source": [
    "### Karatsuba multiplication\n",
    "\n",
    "The following is a very simple first pass implementation of the karatsuba algorithm. It is terribly inefficient, but does use the concept of 'Divide and conquer'.\n"
   ]
  },
  {
   "cell_type": "code",
   "execution_count": 1,
   "metadata": {
    "collapsed": false
   },
   "outputs": [
    {
     "name": "stdout",
     "output_type": "stream",
     "text": [
      "Calculating 243298490 * 372893479234798324\n",
      "Result = 90724420428672787683730760\n",
      "Error = 0\n"
     ]
    }
   ],
   "source": [
    "import math\n",
    "\n",
    "def karatsuba(m, n):\n",
    "    size = len(m)//2\n",
    "    if size == 0:\n",
    "        return int(m) * int(n)\n",
    "    \n",
    "    a, b = m[:size], m[size:]\n",
    "    c, d = n[:size], n[size:]\n",
    "    \n",
    "    ac = karatsuba(a, c)\n",
    "    bd = karatsuba(b, d)\n",
    "    p1 = int(a) + int(b)\n",
    "    p2 = int(c) + int(d)\n",
    "    p3 = kmul(p1, p2)\n",
    "    \n",
    "    return ac*pow(10, size*2) + (p3 - ac - bd)*pow(10, size) + bd\n",
    "\n",
    "def leastPow2(k):\n",
    "    if (k & (k - 1)) == 0:\n",
    "        return k\n",
    "    return pow(2, int(math.log(k, 2)) + 1)\n",
    "\n",
    "def kmul(m, n):\n",
    "    m, n = str(m), str(n)\n",
    "    maxl = max(len(m), len(n))\n",
    "    maxl = leastPow2(maxl)\n",
    "    \n",
    "    m = '0'*(maxl - len(m)) + m\n",
    "    n = '0'*(maxl - len(n)) + n\n",
    "    return karatsuba(m, n)\n",
    "\n",
    "M = 243298490\n",
    "N = 372893479234798324\n",
    "\n",
    "res = kmul(M, N)\n",
    "\n",
    "testres = M*N\n",
    "print (\"Calculating {} * {}\\nResult = {}\\nError = {}\".format(M, N, res, testres-res))\n"
   ]
  }
 ],
 "metadata": {
  "kernelspec": {
   "display_name": "Python 3.5",
   "language": "python",
   "name": "python35"
  },
  "language_info": {
   "codemirror_mode": {
    "name": "ipython",
    "version": 3
   },
   "file_extension": ".py",
   "mimetype": "text/x-python",
   "name": "python",
   "nbconvert_exporter": "python",
   "pygments_lexer": "ipython3",
   "version": "3.5.0"
  }
 },
 "nbformat": 4,
 "nbformat_minor": 0
}
