{
 "cells": [
  {
   "cell_type": "markdown",
   "metadata": {},
   "source": [
    "\n",
    "$$ T(n) = O(n^d log n)  | if a == b^d (case 1) $$\n",
    "\n",
    "$$ T(n) = O(n^d) |  if a < b^d (case 2) $$\n",
    "\n",
    "$$ T(n) = O(n^{log_b a}) |  if a > b^d (case 3) $$\n",
    "\n"
   ]
  },
  {
   "cell_type": "code",
   "execution_count": 2,
   "metadata": {
    "collapsed": false
   },
   "outputs": [
    {
     "name": "stdout",
     "output_type": "stream",
     "text": [
      "1.5849625007211563\n"
     ]
    }
   ],
   "source": [
    "import math\n",
    "\n",
    "print(math.log(3, 2))"
   ]
  },
  {
   "cell_type": "code",
   "execution_count": 4,
   "metadata": {
    "collapsed": false
   },
   "outputs": [
    {
     "name": "stdout",
     "output_type": "stream",
     "text": [
      "2923440.6927326745 8000000\n"
     ]
    }
   ],
   "source": [
    "print (pow(200, 2.81), pow(200, 3)) "
   ]
  },
  {
   "cell_type": "code",
   "execution_count": 6,
   "metadata": {
    "collapsed": false
   },
   "outputs": [
    {
     "name": "stdout",
     "output_type": "stream",
     "text": [
      "done.\n"
     ]
    }
   ],
   "source": [
    "import random\n",
    "\n",
    "def fastPow(a, b):\n",
    "    if b == 1:\n",
    "        return a\n",
    "    return fastPow(a*a, b//2) * (a if b%2 else 1)\n",
    "\n",
    "def testFastPow(method, canonMethod, pSizes, ):\n",
    "    rmin, rmax = 2, 40\n",
    "    numCases = 100\n",
    "    errros = 0\n",
    "    for case in range(numCases):\n",
    "        a = random.randint(rmin, rmax)\n",
    "        b = random.randint(rmin, rmax)\n",
    "        res1 = fastPow(a, b)\n",
    "        res2 = pow(a, b)\n",
    "        if res1 != res2:\n",
    "            errors += 1\n",
    "            print (\"Error: {}^{}\\nres1 = {}\\nres2 = {}\".format(a, b, res1, res2))\n",
    "            \n",
    "    if not errors:\n",
    "        print(\"Success.\")\n",
    "            \n",
    "testFastPow()\n",
    "    \n",
    "    "
   ]
  },
  {
   "cell_type": "code",
   "execution_count": 14,
   "metadata": {
    "collapsed": false
   },
   "outputs": [
    {
     "data": {
      "text/plain": [
       "[4, 1, 0]"
      ]
     },
     "execution_count": 14,
     "metadata": {},
     "output_type": "execute_result"
    }
   ],
   "source": [
    "import random\n",
    "random.sample(range(5), 3)"
   ]
  },
  {
   "cell_type": "code",
   "execution_count": null,
   "metadata": {
    "collapsed": true
   },
   "outputs": [],
   "source": []
  },
  {
   "cell_type": "code",
   "execution_count": 15,
   "metadata": {
    "collapsed": false
   },
   "outputs": [
    {
     "name": "stdout",
     "output_type": "stream",
     "text": [
      "1025397835622633634807550462948226174976 1515812422991955541481119495194202351681 2541210259314801410819278649643651567616\n",
      "2541210258614589176288669958142428526657 2541210259314801410819278649643651567616\n",
      "-700212234530608691501223040959\n"
     ]
    }
   ],
   "source": [
    "an = pow(1782, 12)\n",
    "bn = pow(1841, 12)\n",
    "cn = pow(1922, 12)\n",
    "print (an, bn, cn)\n",
    "print(an+bn, cn)\n",
    "print(an+bn-cn)"
   ]
  },
  {
   "cell_type": "code",
   "execution_count": 48,
   "metadata": {
    "collapsed": false
   },
   "outputs": [
    {
     "name": "stdout",
     "output_type": "stream",
     "text": [
      "3.66\n"
     ]
    }
   ],
   "source": [
    "from random import random \n",
    "count = 10000\n",
    "pairs = [(random(), random()) for x in range(count)]\n",
    "\n",
    "minvs = [min(y) for y in pairs]\n",
    "print (100*len([x for x in minvs if x > 0.8])/count)"
   ]
  },
  {
   "cell_type": "code",
   "execution_count": 54,
   "metadata": {
    "collapsed": false
   },
   "outputs": [
    {
     "name": "stdout",
     "output_type": "stream",
     "text": [
      "7.0\n"
     ]
    }
   ],
   "source": [
    "# expected value of sum of 2 dice\n",
    "from itertools import product\n",
    "possibilities = list(product(range(1, 7), range(1, 7)))\n",
    "\n",
    "result = sum((x + y) for x, y in possibilities)\n",
    "print (result/len(possibilities))"
   ]
  },
  {
   "cell_type": "code",
   "execution_count": null,
   "metadata": {
    "collapsed": true
   },
   "outputs": [],
   "source": []
  }
 ],
 "metadata": {
  "kernelspec": {
   "display_name": "Python 3.5",
   "language": "python",
   "name": "python35"
  },
  "language_info": {
   "codemirror_mode": {
    "name": "ipython",
    "version": 3
   },
   "file_extension": ".py",
   "mimetype": "text/x-python",
   "name": "python",
   "nbconvert_exporter": "python",
   "pygments_lexer": "ipython3",
   "version": "3.5.0"
  }
 },
 "nbformat": 4,
 "nbformat_minor": 0
}
