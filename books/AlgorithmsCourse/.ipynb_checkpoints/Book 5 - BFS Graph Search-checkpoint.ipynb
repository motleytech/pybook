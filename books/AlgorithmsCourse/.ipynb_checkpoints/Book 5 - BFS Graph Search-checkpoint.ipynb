{
 "cells": [
  {
   "cell_type": "code",
   "execution_count": 52,
   "metadata": {
    "collapsed": true
   },
   "outputs": [],
   "source": [
    "# wrapper for test methods for catching exceptions\n",
    "\n",
    "def testWrap(method):\n",
    "    mname = method.__name__\n",
    "    def wrapper(*args, **kw):\n",
    "        try:\n",
    "            result = method(*args, **kw)\n",
    "        except:\n",
    "            from traceback import print_exc\n",
    "            print (\"{} ran into exception\\n\".format(method.__name__))\n",
    "            print_exc()\n",
    "            return False\n",
    "        return result\n",
    "    return wrapper\n"
   ]
  },
  {
   "cell_type": "code",
   "execution_count": 53,
   "metadata": {
    "collapsed": true
   },
   "outputs": [],
   "source": [
    "# implementation of a fifo queue using a singly linked list\n",
    "# The nodes do have a prev pointer that can be used to extend\n",
    "# them to a doubly linked list (if needed for some other application)\n",
    "\n",
    "class Queue(object):\n",
    "    def __init__(self, items=()):\n",
    "        self.head = None\n",
    "        self.last = None\n",
    "        self.length = 0\n",
    "\n",
    "        for item in items:\n",
    "            self.add(item)\n",
    "\n",
    "    def add(self, el):\n",
    "        self.length += 1\n",
    "        newnode = Node(el)\n",
    "        if self.last:\n",
    "            self.last.next = newnode\n",
    "        else:\n",
    "            self.head = newnode\n",
    "        newnode.next = None\n",
    "        self.last = newnode\n",
    "\n",
    "    def remove(self):\n",
    "        if self.head is None:\n",
    "            raise Exception('Cannot remove from empty queue')\n",
    "        self.length -= 1\n",
    "        first, second = self.head, self.head.next\n",
    "        if second is None:\n",
    "            self.head = self.last = None\n",
    "        else:\n",
    "            self.head = second\n",
    "        return first.data\n",
    "\n",
    "    def __str__(self):\n",
    "        if self.head is None:\n",
    "            return \"-Queue Empty-\"\n",
    "\n",
    "        curr = self.head\n",
    "        elements = []\n",
    "        while curr != None:\n",
    "            elements.append(str(curr.data))\n",
    "            curr = curr.next\n",
    "        return \"[Queue: {}]\".format(\", \".join(elements))\n",
    "\n",
    "    def __len__(self):\n",
    "        return self.length\n",
    "\n",
    "    def __iter__(self):\n",
    "        return self\n",
    "\n",
    "    def __next__(self):\n",
    "        if self.length:\n",
    "            return self.remove()\n",
    "        raise StopIteration\n",
    "\n",
    "\n",
    "class Node(object):\n",
    "    def __init__(self, data):\n",
    "        self.data = data\n",
    "        self.next = None\n",
    "        self.prev = None"
   ]
  },
  {
   "cell_type": "code",
   "execution_count": 54,
   "metadata": {
    "collapsed": false
   },
   "outputs": [
    {
     "name": "stdout",
     "output_type": "stream",
     "text": [
      "Queue: Test Passed\n"
     ]
    }
   ],
   "source": [
    "@testWrap\n",
    "def testQueue():\n",
    "    q = Queue()\n",
    "    q.add(10)\n",
    "    q.add(20)\n",
    "    r = q.remove()\n",
    "    assert(r == 10)\n",
    "    q.add(30)\n",
    "    q.add(40)\n",
    "    r = q.remove()\n",
    "    assert(r == 20)\n",
    "    assert(len(q) == 2)\n",
    "    assert([r for r in q] == [30, 40])\n",
    "    return True\n",
    "\n",
    "\n",
    "result = testQueue()\n",
    "if result:\n",
    "    print('Queue: Test Passed')"
   ]
  },
  {
   "cell_type": "code",
   "execution_count": 64,
   "metadata": {
    "collapsed": true
   },
   "outputs": [],
   "source": [
    "def bfsPath(G, n1, n2):\n",
    "    if n1 == n2:\n",
    "        return [n1]\n",
    "    \n",
    "    nodes = G.nodes()\n",
    "    numNodes = len(nodes)\n",
    "    previous = {x:None for x in nodes}\n",
    "    queue = Queue([nodes[n1]])\n",
    "\n",
    "    done = False\n",
    "    for node1 in queue:\n",
    "        for node2 in G.neighbors(node1):\n",
    "            if not previous[node2]:\n",
    "                queue.add(node2)\n",
    "                previous[node2] = node1\n",
    "                if node2 == n2:\n",
    "                    done = True\n",
    "                    break\n",
    "        if done:\n",
    "            break;\n",
    "\n",
    "    curr = n2\n",
    "    path = [curr]\n",
    "    while curr != n1 :\n",
    "        curr = previous[curr]\n",
    "        if curr is None:\n",
    "            return None\n",
    "        path.append(curr)\n",
    "    \n",
    "    return list(reversed(path))\n"
   ]
  },
  {
   "cell_type": "code",
   "execution_count": 65,
   "metadata": {
    "collapsed": false,
    "scrolled": false
   },
   "outputs": [
    {
     "name": "stdout",
     "output_type": "stream",
     "text": [
      "100 of 100 tests PASSED\n"
     ]
    }
   ],
   "source": [
    "import networkx as nx\n",
    "import random\n",
    "\n",
    "@testWrap\n",
    "def testGraphPathSearch():\n",
    "    # create a random graph\n",
    "    numNodes = 500\n",
    "    G = nx.gnp_random_graph(numNodes,0.01)\n",
    "\n",
    "    n1, n2 = [random.randrange(0, numNodes) for x in range(2)]\n",
    "\n",
    "    # call bfs to get the shortest path\n",
    "    try:\n",
    "        myPath = bfsPath(G, n1, n2)\n",
    "    except:\n",
    "        #print(\"bfsPath did not find a path\")\n",
    "        myPath = None\n",
    "\n",
    "    # get path from known method\n",
    "    try:\n",
    "        nxPath = nx.shortest_path(G, n1, n2)\n",
    "    except:\n",
    "        #print(\"nx did not find a path\")\n",
    "        nxPath = None\n",
    "\n",
    "    if myPath == nxPath:\n",
    "        #print (\"BFS = {}\\nNX = {}\".format(myPath, nxPath))\n",
    "        #print (\"Test passed\")\n",
    "        return True\n",
    "    if not None in (myPath, nxPath) and len(myPath) == len(nxPath):\n",
    "        #print (\"BFS = {}\\nNX = {}\".format(myPath, nxPath))\n",
    "        #print (\"Test passed\")\n",
    "        return True\n",
    "\n",
    "    print (\"BFS = {}\\nNX = {}\".format(myPath, nxPath))\n",
    "    print (\"*********** Test FAILED ***********\")\n",
    "    return False\n",
    "\n",
    "numTests = 100\n",
    "numPassed = sum((1 if testGraphPathSearch() else 0) for x in range(numTests))\n",
    "print (\"{} of {} tests PASSED\".format(numPassed, numTests))"
   ]
  },
  {
   "cell_type": "code",
   "execution_count": null,
   "metadata": {
    "collapsed": true
   },
   "outputs": [],
   "source": [
    "import random\n",
    "import networkx as nx\n",
    "G = nx.gnp_random_graph(300,0.009)\n",
    "n1, n2 = random.randrange(0, 300), random.randrange(0, 300)\n",
    "print(n1, n2)\n",
    "print(\"shortest path = {}\".format(nx.shortest_path(G, n1, n2)))\n",
    "\n",
    "import matplotlib.pyplot as plt\n",
    "import pylab\n",
    "pylab.rcParams['figure.figsize'] = (10.0, 8.0)\n",
    "plt.title(\"Degree rank plot\")\n",
    "\n",
    "xx = 0.44\n",
    "plt.axes([xx,xx,xx,xx])\n",
    "Gcc=sorted(nx.connected_component_subgraphs(G), key = len, reverse=True)[0]\n",
    "pos=nx.spring_layout(Gcc)\n",
    "plt.axis('off')\n",
    "nx.draw_networkx_nodes(Gcc,pos,node_size=20)\n",
    "nx.draw_networkx_edges(Gcc,pos,alpha=0.4)\n",
    "\n",
    "plt.show()"
   ]
  }
 ],
 "metadata": {
  "kernelspec": {
   "display_name": "Python 3.5",
   "language": "python",
   "name": "python35"
  },
  "language_info": {
   "codemirror_mode": {
    "name": "ipython",
    "version": 3
   },
   "file_extension": ".py",
   "mimetype": "text/x-python",
   "name": "python",
   "nbconvert_exporter": "python",
   "pygments_lexer": "ipython3",
   "version": "3.5.0"
  }
 },
 "nbformat": 4,
 "nbformat_minor": 0
}
