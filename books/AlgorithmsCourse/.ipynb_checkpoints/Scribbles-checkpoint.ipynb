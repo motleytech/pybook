{
 "cells": [
  {
   "cell_type": "markdown",
   "metadata": {},
   "source": [
    "\n",
    "$$ T(n) = O(n^d log n)  | if a == b^d (case 1) $$\n",
    "\n",
    "$$ T(n) = O(n^d) |  if a < b^d (case 2) $$\n",
    "\n",
    "$$ T(n) = O(n^{log_b a}) |  if a > b^d (case 3) $$\n",
    "\n"
   ]
  },
  {
   "cell_type": "code",
   "execution_count": null,
   "metadata": {
    "collapsed": false
   },
   "outputs": [],
   "source": [
    "import random\n",
    "\n",
    "def fastPow(a, b):\n",
    "    if b == 1:\n",
    "        return a\n",
    "    return fastPow(a*a, b//2) * (a if b%2 else 1)\n",
    "\n",
    "def testFastPow(method, canonMethod, pSizes, ):\n",
    "    rmin, rmax = 2, 40\n",
    "    numCases = 100\n",
    "    errros = 0\n",
    "    for case in range(numCases):\n",
    "        a = random.randint(rmin, rmax)\n",
    "        b = random.randint(rmin, rmax)\n",
    "        res1 = fastPow(a, b)\n",
    "        res2 = pow(a, b)\n",
    "        if res1 != res2:\n",
    "            errors += 1\n",
    "            print (\"Error: {}^{}\\nres1 = {}\\nres2 = {}\".format(a, b, res1, res2))\n",
    "            \n",
    "    if not errors:\n",
    "        print(\"Success.\")\n",
    "            \n",
    "testFastPow()\n",
    "    \n",
    "    "
   ]
  },
  {
   "cell_type": "code",
   "execution_count": 1,
   "metadata": {
    "collapsed": false
   },
   "outputs": [
    {
     "name": "stdout",
     "output_type": "stream",
     "text": [
      "Test passed.\n"
     ]
    }
   ],
   "source": [
    "import random\n",
    "import string\n",
    "\n",
    "chars = string.ascii_letters + string.digits\n",
    "\n",
    "def getDivId(idlen = 12):\n",
    "    \n",
    "    return ''.join(random.choice(chars) for x in range(idlen))\n",
    "\n",
    "def testGetDivId():\n",
    "    numTCs = 100\n",
    "    idlen = 12\n",
    "    \n",
    "    ids = [getDivId(12) for y in range(numTCs)]\n",
    "    assert (all(len(id1) == 12 for id1 in ids))\n",
    "    assert (len(ids) == len(set(ids)))\n",
    "    print (\"Test passed.\")\n",
    "#     print(ids)\n",
    "\n",
    "testGetDivId()"
   ]
  },
  {
   "cell_type": "code",
   "execution_count": 3,
   "metadata": {
    "collapsed": false
   },
   "outputs": [
    {
     "data": {
      "text/html": [
       "<script src=\"//cdnjs.cloudflare.com/ajax/libs/three.js/r73/three.js\"></script>"
      ],
      "text/plain": [
       "<IPython.core.display.HTML object>"
      ]
     },
     "metadata": {},
     "output_type": "display_data"
    }
   ],
   "source": [
    "from IPython.core.display import HTML, Javascript, display\n",
    "\n",
    "threejs = \"\"\"<script src=\"//cdnjs.cloudflare.com/ajax/libs/three.js/r73/three.js\"></script>\"\"\"\n",
    "display(HTML(threejs))\n"
   ]
  },
  {
   "cell_type": "code",
   "execution_count": 4,
   "metadata": {
    "collapsed": false
   },
   "outputs": [
    {
     "data": {
      "text/html": [
       "\n",
       "<div>\n",
       "    <div id=\"5hdMeVooed46\" style=\"background: #f00; width:600px; height:300px;\">\n",
       "    </div>\n",
       "    <button onclick=\"toggleAnimation()\">Toggle Animation</button>\n",
       "\n",
       "    <script>\n",
       "        \n",
       "var viewport = $(\"#5hdMeVooed46\");\n",
       "var vw = viewport.width();\n",
       "var vh = viewport.height();\n",
       "\n",
       "var scene = new THREE.Scene();\n",
       "var camera = new THREE.PerspectiveCamera( 75, vw / vh, 0.1, 1000 );\n",
       "\n",
       "var renderer = new THREE.WebGLRenderer();\n",
       "renderer.setSize( vw, vh );\n",
       "$(\"#5hdMeVooed46\").append( renderer.domElement );\n",
       "\n",
       "var geometry = new THREE.BoxGeometry( 1, 1, 1 );\n",
       "var material = new THREE.MeshBasicMaterial( { color: 0xff44dd } );\n",
       "var cube = new THREE.Mesh( geometry, material );\n",
       "scene.add( cube );\n",
       "\n",
       "camera.position.z = 5;\n",
       "var rotx = 0;\n",
       "var roty = 0;\n",
       "\n",
       "function init() {\n",
       "    renderer.setClearColor( 0xaaaaaa, 1);\n",
       "}\n",
       "\n",
       "init();\n",
       "\n",
       "var playAnimation = true;\n",
       "function toggleAnimation() {\n",
       "    playAnimation = !(playAnimation);\n",
       "    if (playAnimation) {\n",
       "        render();\n",
       "    }\n",
       "}\n",
       "\n",
       "function render() {\n",
       "    rotx += 0.1;\n",
       "    roty += 0.1;\n",
       "    \n",
       "    var oldEuler = new THREE.Euler(rotx, roty, 0);\n",
       "    var quat = new THREE.Quaternion();\n",
       "\n",
       "    quat.setFromEuler(oldEuler);\n",
       "\n",
       "    \n",
       "    cube.rotation.setFromQuaternion(quat);\n",
       "    \n",
       "    if (playAnimation) {\n",
       "        requestAnimationFrame( render );\n",
       "    }\n",
       "\trenderer.render( scene, camera );\n",
       "}\n",
       "\n",
       "render();\n",
       "\n",
       "    </script>\n",
       "</div>\n"
      ],
      "text/plain": [
       "<IPython.core.display.HTML object>"
      ]
     },
     "metadata": {},
     "output_type": "display_data"
    }
   ],
   "source": [
    "divid = getDivId()\n",
    "width = 600\n",
    "height = 300\n",
    "\n",
    "html = \"\"\"\n",
    "<div>\n",
    "    <div id=\"{divid}\" style=\"background: #f00; width:{width}px; height:{height}px;\">\n",
    "    </div>\n",
    "    <button onclick=\"toggleAnimation()\">Toggle Animation</button>\n",
    "\n",
    "    <script>\n",
    "        {js}\n",
    "    </script>\n",
    "</div>\n",
    "\"\"\"\n",
    "\n",
    "js = \"\"\"\n",
    "var viewport = $(\"#{divid}\");\n",
    "var vw = viewport.width();\n",
    "var vh = viewport.height();\n",
    "\n",
    "var scene = new THREE.Scene();\n",
    "var camera = new THREE.PerspectiveCamera( 75, vw / vh, 0.1, 1000 );\n",
    "\n",
    "var renderer = new THREE.WebGLRenderer();\n",
    "renderer.setSize( vw, vh );\n",
    "$(\"#{divid}\").append( renderer.domElement );\n",
    "\n",
    "var geometry = new THREE.BoxGeometry( 1, 1, 1 );\n",
    "var material = new THREE.MeshBasicMaterial( {{ color: 0xff44dd }} );\n",
    "var cube = new THREE.Mesh( geometry, material );\n",
    "scene.add( cube );\n",
    "\n",
    "camera.position.z = 5;\n",
    "var rotx = 0;\n",
    "var roty = 0;\n",
    "\n",
    "function init() {{\n",
    "    renderer.setClearColor( 0xaaaaaa, 1);\n",
    "}}\n",
    "\n",
    "init();\n",
    "\n",
    "var playAnimation = true;\n",
    "function toggleAnimation() {{\n",
    "    playAnimation = !(playAnimation);\n",
    "    if (playAnimation) {{\n",
    "        render();\n",
    "    }}\n",
    "}}\n",
    "\n",
    "function render() {{\n",
    "    rotx += 0.1;\n",
    "    roty += 0.1;\n",
    "    \n",
    "    var oldEuler = new THREE.Euler(rotx, roty, 0);\n",
    "    var quat = new THREE.Quaternion();\n",
    "\n",
    "    quat.setFromEuler(oldEuler);\n",
    "\n",
    "    \n",
    "    cube.rotation.setFromQuaternion(quat);\n",
    "    \n",
    "    if (playAnimation) {{\n",
    "        requestAnimationFrame( render );\n",
    "    }}\n",
    "    renderer.render( scene, camera );\n",
    "}}\n",
    "\n",
    "render();\n",
    "\"\"\".format(divid=divid)\n",
    "\n",
    "attrs = {\n",
    "    'divid': divid,\n",
    "    'js': js,\n",
    "    'width': width,\n",
    "    'height': height,\n",
    "}\n",
    "\n",
    "htmlOutput = html.format(**attrs)\n",
    "\n",
    "display(HTML(htmlOutput))\n",
    "# print (htmlOutput)\n"
   ]
  },
  {
   "cell_type": "code",
   "execution_count": null,
   "metadata": {
    "collapsed": true
   },
   "outputs": [],
   "source": []
  }
 ],
 "metadata": {
  "kernelspec": {
   "display_name": "Python 3.5",
   "language": "python",
   "name": "python35"
  },
  "language_info": {
   "codemirror_mode": {
    "name": "ipython",
    "version": 3
   },
   "file_extension": ".py",
   "mimetype": "text/x-python",
   "name": "python",
   "nbconvert_exporter": "python",
   "pygments_lexer": "ipython3",
   "version": "3.5.0"
  }
 },
 "nbformat": 4,
 "nbformat_minor": 0
}
