{
 "cells": [
  {
   "cell_type": "code",
   "execution_count": 1,
   "metadata": {
    "collapsed": true
   },
   "outputs": [],
   "source": [
    "# wrapper for test methods for catching exceptions\n",
    "\n",
    "def testWrap(method):\n",
    "    mname = method.__name__\n",
    "    def wrapper(*args, **kw):\n",
    "        try:\n",
    "            result = method(*args, **kw)\n",
    "        except:\n",
    "            from traceback import print_exc\n",
    "            print (\"{} ran into exception\\n\".format(method.__name__))\n",
    "            print_exc()\n",
    "            return False\n",
    "        return result\n",
    "    return wrapper"
   ]
  },
  {
   "cell_type": "code",
   "execution_count": 5,
   "metadata": {
    "collapsed": false
   },
   "outputs": [
    {
     "ename": "KeyError",
     "evalue": "2",
     "output_type": "error",
     "traceback": [
      "\u001b[1;31m---------------------------------------------------------------------------\u001b[0m",
      "\u001b[1;31mKeyError\u001b[0m                                  Traceback (most recent call last)",
      "\u001b[1;32m<ipython-input-5-3dd2af33a71f>\u001b[0m in \u001b[0;36m<module>\u001b[1;34m()\u001b[0m\n\u001b[0;32m     38\u001b[0m \u001b[0mn1\u001b[0m\u001b[1;33m,\u001b[0m \u001b[0mn2\u001b[0m \u001b[1;33m=\u001b[0m \u001b[1;33m[\u001b[0m\u001b[0mrandom\u001b[0m\u001b[1;33m.\u001b[0m\u001b[0mrandrange\u001b[0m\u001b[1;33m(\u001b[0m\u001b[1;36m0\u001b[0m\u001b[1;33m,\u001b[0m \u001b[0mnumNodes\u001b[0m\u001b[1;33m)\u001b[0m \u001b[1;32mfor\u001b[0m \u001b[0mx\u001b[0m \u001b[1;32min\u001b[0m \u001b[0mrange\u001b[0m\u001b[1;33m(\u001b[0m\u001b[1;36m2\u001b[0m\u001b[1;33m)\u001b[0m\u001b[1;33m]\u001b[0m\u001b[1;33m\u001b[0m\u001b[0m\n\u001b[0;32m     39\u001b[0m \u001b[1;33m\u001b[0m\u001b[0m\n\u001b[1;32m---> 40\u001b[1;33m \u001b[0mdfsPath\u001b[0m\u001b[1;33m(\u001b[0m\u001b[0mG\u001b[0m\u001b[1;33m,\u001b[0m \u001b[0mn1\u001b[0m\u001b[1;33m,\u001b[0m \u001b[0mn2\u001b[0m\u001b[1;33m)\u001b[0m\u001b[1;33m\u001b[0m\u001b[0m\n\u001b[0m\u001b[0;32m     41\u001b[0m \u001b[1;33m\u001b[0m\u001b[0m\n",
      "\u001b[1;32m<ipython-input-5-3dd2af33a71f>\u001b[0m in \u001b[0;36mdfsPath\u001b[1;34m(G, n1, n2)\u001b[0m\n\u001b[0;32m     29\u001b[0m     \u001b[0mdistToN2\u001b[0m \u001b[1;33m=\u001b[0m \u001b[1;33m{\u001b[0m\u001b[1;33m}\u001b[0m\u001b[1;33m\u001b[0m\u001b[0m\n\u001b[0;32m     30\u001b[0m \u001b[1;33m\u001b[0m\u001b[0m\n\u001b[1;32m---> 31\u001b[1;33m     \u001b[0mdist\u001b[0m \u001b[1;33m=\u001b[0m \u001b[0mdfsDist\u001b[0m\u001b[1;33m(\u001b[0m\u001b[0mG\u001b[0m\u001b[1;33m,\u001b[0m \u001b[0mn1\u001b[0m\u001b[1;33m,\u001b[0m \u001b[0mn2\u001b[0m\u001b[1;33m,\u001b[0m \u001b[0mexplored\u001b[0m\u001b[1;33m,\u001b[0m \u001b[0mdistToN2\u001b[0m\u001b[1;33m)\u001b[0m\u001b[1;33m\u001b[0m\u001b[0m\n\u001b[0m\u001b[0;32m     32\u001b[0m     \u001b[0mprint\u001b[0m \u001b[1;33m(\u001b[0m\u001b[0mdistToN2\u001b[0m\u001b[1;33m)\u001b[0m\u001b[1;33m\u001b[0m\u001b[0m\n\u001b[0;32m     33\u001b[0m \u001b[1;33m\u001b[0m\u001b[0m\n",
      "\u001b[1;32m<ipython-input-5-3dd2af33a71f>\u001b[0m in \u001b[0;36mdfsDist\u001b[1;34m(G, n1, n2, explored, distToN2)\u001b[0m\n\u001b[0;32m     19\u001b[0m                 \u001b[0mminDist\u001b[0m \u001b[1;33m=\u001b[0m \u001b[0mdistToN2\u001b[0m\u001b[1;33m[\u001b[0m\u001b[0mnode\u001b[0m\u001b[1;33m]\u001b[0m\u001b[1;33m\u001b[0m\u001b[0m\n\u001b[0;32m     20\u001b[0m         \u001b[1;32melse\u001b[0m\u001b[1;33m:\u001b[0m\u001b[1;33m\u001b[0m\u001b[0m\n\u001b[1;32m---> 21\u001b[1;33m             \u001b[0mdist\u001b[0m \u001b[1;33m=\u001b[0m \u001b[0mdfsDist\u001b[0m\u001b[1;33m(\u001b[0m\u001b[0mG\u001b[0m\u001b[1;33m,\u001b[0m \u001b[0mnode\u001b[0m\u001b[1;33m,\u001b[0m \u001b[0mn2\u001b[0m\u001b[1;33m,\u001b[0m \u001b[0mexplored\u001b[0m\u001b[1;33m,\u001b[0m \u001b[0mdistToN2\u001b[0m\u001b[1;33m)\u001b[0m\u001b[1;33m\u001b[0m\u001b[0m\n\u001b[0m\u001b[0;32m     22\u001b[0m             \u001b[1;32mif\u001b[0m \u001b[0mdist\u001b[0m \u001b[1;33m<\u001b[0m \u001b[0mminDist\u001b[0m\u001b[1;33m:\u001b[0m\u001b[1;33m\u001b[0m\u001b[0m\n\u001b[0;32m     23\u001b[0m                 \u001b[0mminDist\u001b[0m \u001b[1;33m=\u001b[0m \u001b[0mdist\u001b[0m\u001b[1;33m\u001b[0m\u001b[0m\n",
      "\u001b[1;32m<ipython-input-5-3dd2af33a71f>\u001b[0m in \u001b[0;36mdfsDist\u001b[1;34m(G, n1, n2, explored, distToN2)\u001b[0m\n\u001b[0;32m     19\u001b[0m                 \u001b[0mminDist\u001b[0m \u001b[1;33m=\u001b[0m \u001b[0mdistToN2\u001b[0m\u001b[1;33m[\u001b[0m\u001b[0mnode\u001b[0m\u001b[1;33m]\u001b[0m\u001b[1;33m\u001b[0m\u001b[0m\n\u001b[0;32m     20\u001b[0m         \u001b[1;32melse\u001b[0m\u001b[1;33m:\u001b[0m\u001b[1;33m\u001b[0m\u001b[0m\n\u001b[1;32m---> 21\u001b[1;33m             \u001b[0mdist\u001b[0m \u001b[1;33m=\u001b[0m \u001b[0mdfsDist\u001b[0m\u001b[1;33m(\u001b[0m\u001b[0mG\u001b[0m\u001b[1;33m,\u001b[0m \u001b[0mnode\u001b[0m\u001b[1;33m,\u001b[0m \u001b[0mn2\u001b[0m\u001b[1;33m,\u001b[0m \u001b[0mexplored\u001b[0m\u001b[1;33m,\u001b[0m \u001b[0mdistToN2\u001b[0m\u001b[1;33m)\u001b[0m\u001b[1;33m\u001b[0m\u001b[0m\n\u001b[0m\u001b[0;32m     22\u001b[0m             \u001b[1;32mif\u001b[0m \u001b[0mdist\u001b[0m \u001b[1;33m<\u001b[0m \u001b[0mminDist\u001b[0m\u001b[1;33m:\u001b[0m\u001b[1;33m\u001b[0m\u001b[0m\n\u001b[0;32m     23\u001b[0m                 \u001b[0mminDist\u001b[0m \u001b[1;33m=\u001b[0m \u001b[0mdist\u001b[0m\u001b[1;33m\u001b[0m\u001b[0m\n",
      "\u001b[1;32m<ipython-input-5-3dd2af33a71f>\u001b[0m in \u001b[0;36mdfsDist\u001b[1;34m(G, n1, n2, explored, distToN2)\u001b[0m\n\u001b[0;32m     19\u001b[0m                 \u001b[0mminDist\u001b[0m \u001b[1;33m=\u001b[0m \u001b[0mdistToN2\u001b[0m\u001b[1;33m[\u001b[0m\u001b[0mnode\u001b[0m\u001b[1;33m]\u001b[0m\u001b[1;33m\u001b[0m\u001b[0m\n\u001b[0;32m     20\u001b[0m         \u001b[1;32melse\u001b[0m\u001b[1;33m:\u001b[0m\u001b[1;33m\u001b[0m\u001b[0m\n\u001b[1;32m---> 21\u001b[1;33m             \u001b[0mdist\u001b[0m \u001b[1;33m=\u001b[0m \u001b[0mdfsDist\u001b[0m\u001b[1;33m(\u001b[0m\u001b[0mG\u001b[0m\u001b[1;33m,\u001b[0m \u001b[0mnode\u001b[0m\u001b[1;33m,\u001b[0m \u001b[0mn2\u001b[0m\u001b[1;33m,\u001b[0m \u001b[0mexplored\u001b[0m\u001b[1;33m,\u001b[0m \u001b[0mdistToN2\u001b[0m\u001b[1;33m)\u001b[0m\u001b[1;33m\u001b[0m\u001b[0m\n\u001b[0m\u001b[0;32m     22\u001b[0m             \u001b[1;32mif\u001b[0m \u001b[0mdist\u001b[0m \u001b[1;33m<\u001b[0m \u001b[0mminDist\u001b[0m\u001b[1;33m:\u001b[0m\u001b[1;33m\u001b[0m\u001b[0m\n\u001b[0;32m     23\u001b[0m                 \u001b[0mminDist\u001b[0m \u001b[1;33m=\u001b[0m \u001b[0mdist\u001b[0m\u001b[1;33m\u001b[0m\u001b[0m\n",
      "\u001b[1;32m<ipython-input-5-3dd2af33a71f>\u001b[0m in \u001b[0;36mdfsDist\u001b[1;34m(G, n1, n2, explored, distToN2)\u001b[0m\n\u001b[0;32m     16\u001b[0m             \u001b[1;32mreturn\u001b[0m \u001b[0mdistToN2\u001b[0m\u001b[1;33m\u001b[0m\u001b[0m\n\u001b[0;32m     17\u001b[0m         \u001b[1;32mif\u001b[0m \u001b[0mnode\u001b[0m \u001b[1;32min\u001b[0m \u001b[0mexplored\u001b[0m\u001b[1;33m:\u001b[0m\u001b[1;33m\u001b[0m\u001b[0m\n\u001b[1;32m---> 18\u001b[1;33m             \u001b[1;32mif\u001b[0m \u001b[0mdistToN2\u001b[0m\u001b[1;33m[\u001b[0m\u001b[0mnode\u001b[0m\u001b[1;33m]\u001b[0m \u001b[1;33m<\u001b[0m \u001b[0mminDist\u001b[0m\u001b[1;33m:\u001b[0m\u001b[1;33m\u001b[0m\u001b[0m\n\u001b[0m\u001b[0;32m     19\u001b[0m                 \u001b[0mminDist\u001b[0m \u001b[1;33m=\u001b[0m \u001b[0mdistToN2\u001b[0m\u001b[1;33m[\u001b[0m\u001b[0mnode\u001b[0m\u001b[1;33m]\u001b[0m\u001b[1;33m\u001b[0m\u001b[0m\n\u001b[0;32m     20\u001b[0m         \u001b[1;32melse\u001b[0m\u001b[1;33m:\u001b[0m\u001b[1;33m\u001b[0m\u001b[0m\n",
      "\u001b[1;31mKeyError\u001b[0m: 2"
     ]
    }
   ],
   "source": [
    "import random\n",
    "\n",
    "\n",
    "def dfsDist(G, n1, n2, explored, distToN2):\n",
    "    if distToN2.get(n1, None):\n",
    "        return distToN2[n1]\n",
    "    \n",
    "    explored.add(n1)\n",
    "    maxd = 999999999999\n",
    "    minDist = maxd\n",
    "    for node in G.neighbors(n1):\n",
    "        if node == n2:\n",
    "            explored.add(n2)\n",
    "            distToN2[n2] = 0\n",
    "            distToN2[n1] = 1\n",
    "            return distToN2\n",
    "        if node in explored:\n",
    "            if node in distToN2:\n",
    "                if distToN2[node] < minDist:\n",
    "                    minDist = distToN2[node]\n",
    "        else:\n",
    "            dist = dfsDist(G, node, n2, explored, distToN2)\n",
    "            if dist < minDist:\n",
    "                minDist = dist\n",
    "    distToN2[n1] = (minDist + 1) if minDist < maxd else maxd \n",
    "    return minDist\n",
    "\n",
    "def dfsPath(G, n1, n2):\n",
    "    explored = set()\n",
    "    distToN2 = {}\n",
    "    \n",
    "    dist = dfsDist(G, n1, n2, explored, distToN2)\n",
    "    print (distToN2)\n",
    "    \n",
    "import networkx as nx\n",
    "numNodes = 10\n",
    "G = nx.gnp_random_graph(numNodes,0.3)\n",
    "\n",
    "n1, n2 = [random.randrange(0, numNodes) for x in range(2)]\n",
    "\n",
    "dfsPath(G, n1, n2)\n",
    "\n"
   ]
  },
  {
   "cell_type": "code",
   "execution_count": null,
   "metadata": {
    "collapsed": true
   },
   "outputs": [],
   "source": [
    "import networkx as nx\n",
    "import random\n",
    "\n",
    "@testWrap\n",
    "def testGraphPathSearch():\n",
    "    # create a random graph\n",
    "    numNodes = 500\n",
    "    G = nx.gnp_random_graph(numNodes,0.01)\n",
    "\n",
    "    n1, n2 = [random.randrange(0, numNodes) for x in range(2)]\n",
    "\n",
    "    # call bfs to get the shortest path\n",
    "    try:\n",
    "        myPath = dfsPath(G, n1, n2)\n",
    "    except:\n",
    "        #print(\"bfsPath did not find a path\")\n",
    "        myPath = None\n",
    "\n",
    "    # get path from known method\n",
    "    try:\n",
    "        nxPath = nx.shortest_path(G, n1, n2)\n",
    "    except:\n",
    "        #print(\"nx did not find a path\")\n",
    "        nxPath = None\n",
    "\n",
    "    if myPath == nxPath:\n",
    "        #print (\"BFS = {}\\nNX = {}\".format(myPath, nxPath))\n",
    "        #print (\"Test passed\")\n",
    "        return True\n",
    "    if not None in (myPath, nxPath) and len(myPath) == len(nxPath):\n",
    "        #print (\"BFS = {}\\nNX = {}\".format(myPath, nxPath))\n",
    "        #print (\"Test passed\")\n",
    "        return True\n",
    "\n",
    "    print (\"BFS = {}\\nNX = {}\".format(myPath, nxPath))\n",
    "    print (\"*********** Test FAILED ***********\")\n",
    "    return False\n",
    "\n",
    "numTests = 100\n",
    "numPassed = sum((1 if testGraphPathSearch() else 0) for x in range(numTests))\n",
    "print (\"{} of {} tests PASSED\".format(numPassed, numTests))"
   ]
  }
 ],
 "metadata": {
  "kernelspec": {
   "display_name": "Python 3.5",
   "language": "python",
   "name": "python35"
  },
  "language_info": {
   "codemirror_mode": {
    "name": "ipython",
    "version": 3
   },
   "file_extension": ".py",
   "mimetype": "text/x-python",
   "name": "python",
   "nbconvert_exporter": "python",
   "pygments_lexer": "ipython3",
   "version": "3.5.0"
  }
 },
 "nbformat": 4,
 "nbformat_minor": 0
}
