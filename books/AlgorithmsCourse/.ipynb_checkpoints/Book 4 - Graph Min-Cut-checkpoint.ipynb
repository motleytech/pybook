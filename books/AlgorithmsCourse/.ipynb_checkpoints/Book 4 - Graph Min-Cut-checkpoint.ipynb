{
 "cells": [
  {
   "cell_type": "markdown",
   "metadata": {},
   "source": [
    "## Min-Cut using randomized contraction\n"
   ]
  },
  {
   "cell_type": "code",
   "execution_count": 98,
   "metadata": {
    "collapsed": false
   },
   "outputs": [
    {
     "name": "stdout",
     "output_type": "stream",
     "text": [
      "Percentage of passes = 21.855\n"
     ]
    }
   ],
   "source": [
    "import random\n",
    "import copy\n",
    "\n",
    "def rMinCut(vs, es):\n",
    "    v2vg = {}\n",
    "    lvs = len(vs)\n",
    "    ivs = set().union(vs)\n",
    "    numvgs = 0\n",
    "    while True:\n",
    "        numVs = len(ivs) + numvgs\n",
    "        if numVs <= 2:\n",
    "            break\n",
    "#         print (\"keys in v2vg = \", v2vg.keys())\n",
    "        if (len(es) < 1):\n",
    "            print(\"no more edges\" , vs, es, len(ivs), len(v2vg))\n",
    "            break\n",
    "        re = random.sample(es, 1)[0]\n",
    "        v1, v2 = re\n",
    "\n",
    "#         print (\"Contracting {} and {}\".format(v1, v2))\n",
    "        if v1 in v2vg:\n",
    "            g1 = v2vg[v1]\n",
    "        else:\n",
    "            numvgs += 1\n",
    "            g1 = set([v1])\n",
    "            v2vg[v1] = g1\n",
    "        if v2 in v2vg:\n",
    "            g2 = v2vg[v2]\n",
    "        else:\n",
    "            numvgs += 1\n",
    "            g2 = set([v2])\n",
    "            v2vg[v2] = g2\n",
    "            \n",
    "        # merge the 2 groups\n",
    "        g1.update(g2)\n",
    "        numvgs -= 1\n",
    "        \n",
    "#         print(\"g1 = {}\".format(g1))\n",
    "\n",
    "        # delete old group\n",
    "        for v in g2:\n",
    "            v2vg[v] = g1\n",
    "            \n",
    "        if v1 in ivs:\n",
    "            ivs.remove(v1)\n",
    "        if v2 in ivs:\n",
    "            ivs.remove(v2)\n",
    "        \n",
    "        # remove self loops edges\n",
    "        loops = set()\n",
    "        for edge in es:\n",
    "            va, vb = edge\n",
    "            if (va in g1) and (vb in g1):\n",
    "                loops.add(edge)\n",
    "#         print(\"loops = {}\".format(loops))\n",
    "        for edge in loops:\n",
    "            es.remove(edge)\n",
    "#         print(\"es = {}\\n\\n\".format(es))\n",
    "        \n",
    "    return es\n",
    "\n",
    "def testrMinCut():\n",
    "    # create a test graph\n",
    "    vertices = set(range(8))\n",
    "    edges = set([\n",
    "        (0, 1),\n",
    "        (0, 2),\n",
    "        (0, 3),\n",
    "        (1, 2),\n",
    "        (1, 3),\n",
    "        (1, 4),\n",
    "        (2, 3),\n",
    "        (2, 7),\n",
    "        (4, 5),\n",
    "        (4, 6),\n",
    "        (4, 7),\n",
    "        (5, 6),\n",
    "        (5, 7),\n",
    "        (6, 7),\n",
    "    ])\n",
    "    \n",
    "    numTests = 20000\n",
    "    numPasses = 0\n",
    "    for ts in range(numTests):\n",
    "        res = rMinCut(copy.deepcopy(vertices), copy.deepcopy(edges))\n",
    "        if (1, 4) in res and (2, 7) in res and len(res) == 2:\n",
    "            numPasses += 1\n",
    "    print (\"Percentage of passes = {}\".format(100 *numPasses / numTests))\n",
    "    \n",
    "testrMinCut()\n"
   ]
  }
 ],
 "metadata": {
  "kernelspec": {
   "display_name": "Python 3.5",
   "language": "python",
   "name": "python35"
  },
  "language_info": {
   "codemirror_mode": {
    "name": "ipython",
    "version": 3
   },
   "file_extension": ".py",
   "mimetype": "text/x-python",
   "name": "python",
   "nbconvert_exporter": "python",
   "pygments_lexer": "ipython3",
   "version": "3.5.0"
  }
 },
 "nbformat": 4,
 "nbformat_minor": 0
}
