{
 "cells": [
  {
   "cell_type": "markdown",
   "metadata": {},
   "source": [
    "The following problems are for those of you looking to challenge yourself beyond the required problem sets and programming questions. Most of these have been given in Stanford's CS161 course, Design and Analysis of Algorithms, at some point. They are completely optional and will not be graded. While they vary in level, many are pretty challenging, and we strongly encourage you to discuss ideas and approaches with your fellow students on the \"Theory Problems\" discussion form.\n",
    "\n",
    " - [Posted October 5th] You are given as input an unsorted array of n distinct numbers, where n is a power of 2. Give an algorithm that identifies the second-largest number in the array, and that uses at most $n+log_2n−2$ comparisons.\n",
    "\n",
    " - [Posted October 5th] You are a given a unimodal array of n distinct elements, meaning that its entries are in increasing order up until its maximum element, after which its elements are in decreasing order. Give an algorithm to compute the maximum element that runs in O(log n) time.\n",
    "\n",
    " - [Posted October 5th] You are given a sorted (from smallest to largest) array A of n distinct integers which can be positive, negative, or zero. You want to decide whether or not there is an index i such that A[i] = i. Design the fastest algorithm that you can for solving this problem. \n",
    "\n",
    " - [Posted October 5th] Give the best upper bound that you can on the solution to the following recurrence: $T(1)=1$ and $T(n) \\le T([\\sqrt{n}]) + 1$ for $n > 1$. (Here [x] denotes the \"floor\" function, which rounds down to the nearest integer.)\n",
    "\n",
    " - [Posted October 5th] You are given an n by n grid of distinct numbers. A number is a local minimum if it is smaller than all of its neighbors. (A neighbor of a number is one immediately above, below, to the left, or the right. Most numbers have four neighbors; numbers on the side have three; the four corners have two.) Use the divide-and-conquer algorithm design paradigm to compute a local minimum with only O(n) comparisons between pairs of numbers. (Note: since there are $n^2$ numbers in the input, you cannot afford to look at all of them. Hint: Think about what types of recurrences would give you the desired upper bound.)\n",
    "\n",
    " - [Posted October 26th] Prove that the worst-case expected running time of every randomized comparison-based sorting algorithm is $\\Omega (nlogn)$. (Here the worst-case is over inputs, and the expectation is over the random coin flips made by the algorithm.)\n",
    "\n",
    " - [Posted October 26th] Suppose we modify the deterministic linear-time selection algorithm by grouping the elements into groups of 7, rather than groups of 5. (Use the \"median-of-medians\" as the pivot, as before.) Does the algorithm still run in O(n) time? What if we use groups of 3?\n",
    "\n",
    " - [Posted October 26th] Given an array of n distinct (but unsorted) elements $x_1,x_2,…,x_n$ with positive weights $w_1,w_2,…,w_n$ such that $\\Sigma_{i=1}^{n} w_i = W$, a weighted median is an element $x_k$ for which the total weight of all elements with value less than $x_k$ (i.e, $\\Sigma_{x_i < x_k} w_i$) is at most $W/2$, and also the total weight of elements with value larger than $x_k$ (i.e., $\\Sigma_{x_i > x_k} w_i$) is at most $W/2$. Observe that there are at most two weighted medians. Show how to compute all weighted medians in O(n) worst-case time.\n",
    "\n",
    " - [Posted October 26th] We showed in an optional video lecture that every undirected graph has only polynomially (in the number n of vertices) different minimum cuts. Is this also true for directed graphs? Prove it or give a counterexample.\n",
    "\n",
    " - [Posted October 26th] For a parameter $\\alpha \\ge 1$, an $\\alpha$-minimum cut is one for which the number of crossing edges is at most $\\alpha$ times that of a minimum cut. How many $\\alpha$-minimum cuts can an undirected graph have, as a function of $\\alpha$ and the number n of vertices? Prove the best upper bound that you can.\n",
    "\n",
    " - [Posted November 2nd] In the 2SAT problem, you are given a set of clauses, where each clause is the disjunction of two literals (a literal is a Boolean variable or the negation of a Boolean variable). You are looking for a way to assign a value \"true\" or \"false\" to each of the variables so that all clauses are satisfied --- that is, there is at least one true literal in each clause. For this problem, design an algorithm that determines whether or not a given 2SAT instance has a satisfying assignment. (Your algorithm does not need to exhibit a satisfying assignment, just decide whether or not one exists.) Your algorithm should run in O(m+n) time, where m and n are the number of clauses and variables, respectively. [Hint: strongly connected components.]\n",
    "\n",
    " - [Posted November 2nd] In lecture we define the length of a path to be the sum of the lengths of its edges. Define the bottleneck of a path to be the maximum length of one of its edges. A mininum-bottleneck path between two vertices s and t is a path with bottleneck no larger than that of any other s-t path. Show how to modify Dijkstra's algorithm to compute a minimum-bottleneck path between two given vertices. The running time should be $O(mlogn)$, as in lecture.\n",
    "\n",
    " - [Posted November 2nd] We can do better. Suppose now that the graph is undirected. Give a linear-time (O(m)) algorithm to compute a minimum-bottleneck path between two given vertices.\n",
    "\n",
    " - [Posted November 2nd] What if the graph is directed? Can you compute a minimum-bottleneck path between two given vertices faster than $O(mlogn)$?"
   ]
  },
  {
   "cell_type": "code",
   "execution_count": null,
   "metadata": {
    "collapsed": true
   },
   "outputs": [],
   "source": []
  }
 ],
 "metadata": {
  "kernelspec": {
   "display_name": "Python 3.5",
   "language": "python",
   "name": "python35"
  },
  "language_info": {
   "codemirror_mode": {
    "name": "ipython",
    "version": 3
   },
   "file_extension": ".py",
   "mimetype": "text/x-python",
   "name": "python",
   "nbconvert_exporter": "python",
   "pygments_lexer": "ipython3",
   "version": "3.5.0"
  }
 },
 "nbformat": 4,
 "nbformat_minor": 0
}
