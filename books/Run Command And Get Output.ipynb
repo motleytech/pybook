{
 "cells": [
  {
   "cell_type": "code",
   "execution_count": 18,
   "metadata": {
    "collapsed": false
   },
   "outputs": [],
   "source": [
    "def rc(cmd):\n",
    "    pp(runCommandAndGetOuput(cmd).replace(\"\\t\", \"    \").split(\"\\n\"))"
   ]
  },
  {
   "cell_type": "code",
   "execution_count": 19,
   "metadata": {
    "collapsed": false
   },
   "outputs": [
    {
     "name": "stdout",
     "output_type": "stream",
     "text": [
      "['# On branch master',\n",
      " '# Changes not staged for commit:',\n",
      " '#   (use \"git add <file>...\" to update what will be committed)',\n",
      " '#   (use \"git checkout -- <file>...\" to discard changes in working directory)',\n",
      " '#',\n",
      " '#    modified:   Context Manager and Properties.ipynb',\n",
      " '#    modified:   LRU Cache Implementation.ipynb',\n",
      " '#',\n",
      " '# Untracked files:',\n",
      " '#   (use \"git add <file>...\" to include in what will be committed)',\n",
      " '#',\n",
      " '#    ../.ipython/profile_default/startup/21_run_command.py',\n",
      " '#    Line profile and dis.ipynb',\n",
      " '#    Untitled.ipynb',\n",
      " 'no changes added to commit (use \"git add\" and/or \"git commit -a\")',\n",
      " '']\n"
     ]
    }
   ],
   "source": [
    "rc('git status')"
   ]
  },
  {
   "cell_type": "code",
   "execution_count": 9,
   "metadata": {
    "collapsed": false
   },
   "outputs": [
    {
     "name": "stdout",
     "output_type": "stream",
     "text": [
      "['webuser', '']\n"
     ]
    }
   ],
   "source": [
    "rc('whoami')\n"
   ]
  },
  {
   "cell_type": "code",
   "execution_count": 10,
   "metadata": {
    "collapsed": false
   },
   "outputs": [
    {
     "name": "stdout",
     "output_type": "stream",
     "text": [
      "['/webserver/webcms/djcms/pybook/books', '']\n"
     ]
    }
   ],
   "source": [
    "rc(\"pwd\")"
   ]
  },
  {
   "cell_type": "code",
   "execution_count": 25,
   "metadata": {
    "collapsed": false
   },
   "outputs": [
    {
     "name": "stdout",
     "output_type": "stream",
     "text": [
      "['']\n"
     ]
    }
   ],
   "source": [
    "rc(\"git add ../\")\n"
   ]
  },
  {
   "cell_type": "code",
   "execution_count": 26,
   "metadata": {
    "collapsed": false
   },
   "outputs": [
    {
     "name": "stdout",
     "output_type": "stream",
     "text": [
      "['# On branch master',\n",
      " '# Changes to be committed:',\n",
      " '#   (use \"git reset HEAD <file>...\" to unstage)',\n",
      " '#',\n",
      " '#    new file:   ../.ipython/profile_default/startup/21_run_command.py',\n",
      " '#    modified:   Context Manager and Properties.ipynb',\n",
      " '#    modified:   LRU Cache Implementation.ipynb',\n",
      " '#    new file:   Line profile and dis.ipynb',\n",
      " '#    new file:   Run Command And Get Output.ipynb',\n",
      " '#',\n",
      " '']\n"
     ]
    }
   ],
   "source": [
    "rc('git status')"
   ]
  },
  {
   "cell_type": "code",
   "execution_count": 22,
   "metadata": {
    "collapsed": false
   },
   "outputs": [
    {
     "name": "stdout",
     "output_type": "stream",
     "text": [
      "['Unstaged changes after reset:',\n",
      " 'M    books/Context Manager and Properties.ipynb',\n",
      " 'M    books/LRU Cache Implementation.ipynb',\n",
      " '']\n"
     ]
    }
   ],
   "source": [
    "rc('git commit -am\"bunch of noteboo\"')"
   ]
  },
  {
   "cell_type": "code",
   "execution_count": null,
   "metadata": {
    "collapsed": true
   },
   "outputs": [],
   "source": []
  }
 ],
 "metadata": {
  "kernelspec": {
   "display_name": "Python 2",
   "language": "python",
   "name": "python2"
  },
  "language_info": {
   "codemirror_mode": {
    "name": "ipython",
    "version": 2
   },
   "file_extension": ".py",
   "mimetype": "text/x-python",
   "name": "python",
   "nbconvert_exporter": "python",
   "pygments_lexer": "ipython2",
   "version": "2.7.3"
  }
 },
 "nbformat": 4,
 "nbformat_minor": 0
}
