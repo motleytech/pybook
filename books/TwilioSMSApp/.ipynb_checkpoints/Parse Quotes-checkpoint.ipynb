{
 "cells": [
  {
   "cell_type": "code",
   "execution_count": 1,
   "metadata": {
    "collapsed": true
   },
   "outputs": [],
   "source": [
    "data = open('quotes.txt', 'r').read()"
   ]
  },
  {
   "cell_type": "code",
   "execution_count": 2,
   "metadata": {
    "collapsed": false
   },
   "outputs": [
    {
     "data": {
      "text/plain": [
       "'Albert Einstein<blockquote>\\r\\n        The world is a dangerous place, not because of those who do evil, but because of those who look on and do nothing.</blockquote><##QUOTE##>Alex Noble<blockquote>\\r\\n        If I have been of service, if I have glimpsed more of the nature and essence of ultimate good'"
      ]
     },
     "execution_count": 2,
     "metadata": {},
     "output_type": "execute_result"
    }
   ],
   "source": [
    "data[:300]"
   ]
  },
  {
   "cell_type": "code",
   "execution_count": 3,
   "metadata": {
    "collapsed": false
   },
   "outputs": [],
   "source": [
    "data = data.replace(\"\\r\", \"\").replace(\"  \", \" \")\n",
    "data = data.decode('unicode_escape').encode('ascii','ignore')"
   ]
  },
  {
   "cell_type": "code",
   "execution_count": 4,
   "metadata": {
    "collapsed": false
   },
   "outputs": [
    {
     "name": "stdout",
     "output_type": "stream",
     "text": [
      "5681\n",
      "11362\n",
      "11362\n",
      "5681\n"
     ]
    }
   ],
   "source": [
    "print data.count(\"<##\")\n",
    "print data.count(\"##>\")*2\n",
    "print data.count(\"##\")\n",
    "print data.count(\"<##QUOTE##>\")"
   ]
  },
  {
   "cell_type": "code",
   "execution_count": 5,
   "metadata": {
    "collapsed": true
   },
   "outputs": [],
   "source": [
    "data2 = data.split(\"<##QUOTE##>\")"
   ]
  },
  {
   "cell_type": "code",
   "execution_count": 6,
   "metadata": {
    "collapsed": false
   },
   "outputs": [
    {
     "name": "stdout",
     "output_type": "stream",
     "text": [
      "['Albert Einstein<blockquote>\\n    The world is a dangerous place, not because of those who do evil, but because of those who look on and do nothing.</blockquote>',\n",
      " 'Alex Noble<blockquote>\\n    If I have been of service, if I have glimpsed more of the nature and essence of ultimate good, if I am inspired to reach wider horizons of thought and action, if I am at peace with myself, it has been a successful day.</blockquote>',\n",
      " 'Alexander Pope<blockquote>\\n    Do good by stealth, and blush to find it fame.</blockquote>']\n"
     ]
    }
   ],
   "source": [
    "pp(data2[:3])"
   ]
  },
  {
   "cell_type": "code",
   "execution_count": 7,
   "metadata": {
    "collapsed": true
   },
   "outputs": [],
   "source": [
    "data3 = [d.replace(\"<blockquote>\\n    \", \":::\") for d in data2]\n",
    "data3 = [d.replace(\"  \", \" \") for d in data3]\n",
    "data3 = [d.replace(\"</blockquote>\", \"\") for d in data3]\n",
    "data3 = [d.replace(\"<br>\\n\", \"\\n\") for d in data3]\n",
    "data3 = [d.replace(\"<b>\", \"\") for d in data3]\n",
    "data3 = [d.replace(\"<b>\", \"\") for d in data3]\n",
    "data3 = [d.replace(\"</b>\", \"\") for d in data3]\n",
    "data3 = [d.replace(\"<BLOCKQUOTE>\", \"\") for d in data3]\n",
    "data3 = [d.replace(\"</BLOCKQUOTE>\", \"\") for d in data3]\n",
    "data3 = [d.replace(\"<I>\", \"\") for d in data3]\n",
    "data3 = [d.replace(\"</I>\", \"\") for d in data3]\n",
    "data3 = [d.replace(\"<blockquote>\", \"\") for d in data3]\n",
    "data3 = [d.replace(\"</blockquote>\", \"\") for d in data3]\n",
    "data3 = [d.replace(\"<i>\", \"\") for d in data3]\n",
    "data3 = [d.replace(\"</i>\", \"\") for d in data3]\n",
    "data3 = [d.replace(\"\\n\\t\", \"\") for d in data3]\n",
    "data3 = [d.replace(\"\\t\\n\", \"\") for d in data3]\n",
    "data3 = [d.replace(\"\\t<a\", \" <a\") for d in data3]\n",
    "data3 = [d for d in data3 if len(d) > 0]\n",
    "\n"
   ]
  },
  {
   "cell_type": "code",
   "execution_count": 8,
   "metadata": {
    "collapsed": false
   },
   "outputs": [
    {
     "name": "stdout",
     "output_type": "stream",
     "text": [
      "['Albert Einstein:::The world is a dangerous place, not because of those who do evil, but because of those who look on and do nothing.',\n",
      " 'Alex Noble:::If I have been of service, if I have glimpsed more of the nature and essence of ultimate good, if I am inspired to reach wider horizons of thought and action, if I am at peace with myself, it has been a successful day.',\n",
      " 'Alexander Pope:::Do good by stealth, and blush to find it fame.',\n",
      " 'Alfred Adler:::Trust only movement. Life happens at the level of events, not of words. Trust movement.']\n"
     ]
    }
   ],
   "source": [
    "pp(data3[:4])"
   ]
  },
  {
   "cell_type": "code",
   "execution_count": 14,
   "metadata": {
    "collapsed": false
   },
   "outputs": [],
   "source": [
    "data4 = [d.split(\":::\") for d in data3]\n",
    "\n",
    "text = text = \"This entry continued\"\n",
    "data4 = [d for d in data4 if not text in d[1]]\n",
    "\n",
    "import re\n",
    "pat = re.compile(r\"\"\"(^[\\s\\S]*?)(<a href.*?</a>)\"\"\")\n",
    "\n",
    "for dd in data4:\n",
    "    match = pat.match(dd[1])\n",
    "    if match is not None:\n",
    "        new_text = match.groups()[0]\n",
    "        dd[1] = new_text\n",
    "\n",
    "data4 = [d for d in data4 if not ('About Wisdom Quotes' == d[0])]\n"
   ]
  },
  {
   "cell_type": "code",
   "execution_count": 16,
   "metadata": {
    "collapsed": false
   },
   "outputs": [
    {
     "name": "stdout",
     "output_type": "stream",
     "text": [
      "[['Albert Einstein',\n",
      "  'The world is a dangerous place, not because of those who do evil, but because of those who look on and do nothing.'],\n",
      " ['Alex Noble',\n",
      "  'If I have been of service, if I have glimpsed more of the nature and essence of ultimate good, if I am inspired to reach wider horizons of thought and action, if I am at peace with myself, it has been a successful day.'],\n",
      " ['Alexander Pope', 'Do good by stealth, and blush to find it fame.']]\n"
     ]
    }
   ],
   "source": [
    "pp(data4[:3])"
   ]
  },
  {
   "cell_type": "code",
   "execution_count": 17,
   "metadata": {
    "collapsed": true
   },
   "outputs": [],
   "source": [
    "from random import shuffle\n",
    "shuffle(data4)\n"
   ]
  },
  {
   "cell_type": "code",
   "execution_count": 18,
   "metadata": {
    "collapsed": false
   },
   "outputs": [
    {
     "name": "stdout",
     "output_type": "stream",
     "text": [
      "1\n",
      "[['About Wisdom Quotes', '<a title=\"Cultivating the Ethical Life: Wisdom\" href=\"http://jone.ethicalmanifold.net/archives/000089.html\">Cultivating the Ethical Life: Wisdom</a>\\nA few words about wisdom, including the early genesis of this Wisdom Quotes web site and my attempt to answer the question: What does it take to be wise, to have wisdom?']]\n"
     ]
    }
   ],
   "source": [
    "entries = [d for d in data4 if \"<a\" in d[1]]\n",
    "print len(entries)\n",
    "\n",
    "print entries[:2]\n",
    "\n",
    "# text = \"This entry continued\"\n",
    "# pp([d for d in data4 if text in d[1]][:2])\n",
    "\n",
    "# candidates = [d for d in data4 if text in d[1]]\n",
    "\n",
    "# for cand in candidates:\n",
    "#     match = pat.match(cand[1])\n",
    "#     if match:\n",
    "#         print match\n",
    "#     else:\n",
    "#         print 'no match',\n",
    "\n"
   ]
  },
  {
   "cell_type": "code",
   "execution_count": null,
   "metadata": {
    "collapsed": false
   },
   "outputs": [],
   "source": [
    "import json\n",
    "quotes_file = open('quotes.json', 'w')\n",
    "quotes_file.write(json.dumps(data4))\n",
    "quotes_file.close()"
   ]
  },
  {
   "cell_type": "code",
   "execution_count": null,
   "metadata": {
    "collapsed": true
   },
   "outputs": [],
   "source": []
  },
  {
   "cell_type": "code",
   "execution_count": null,
   "metadata": {
    "collapsed": true
   },
   "outputs": [],
   "source": [
    "# users_data = {\n",
    "#     45: ['subscribed', 2],\n",
    "#     46: ['subscribed', 1],\n",
    "#     47: ['unsubscribed', 5],\n",
    "#     48: ['subscribed', 3],\n",
    "# }\n",
    "\n",
    "# with open('users_data.json', 'w') as users_file:\n",
    "#     users_file.write(json.dumps(users_data))\n",
    "    \n"
   ]
  },
  {
   "cell_type": "code",
   "execution_count": null,
   "metadata": {
    "collapsed": false
   },
   "outputs": [],
   "source": [
    "pp(data4[:10])"
   ]
  },
  {
   "cell_type": "code",
   "execution_count": null,
   "metadata": {
    "collapsed": false
   },
   "outputs": [],
   "source": [
    "import re\n",
    "inp = \"\"\"We are reformers in spring and summer; in autumn and winter, we stand by the old; reformers in the morning, conservers at night.\\n<a href=\"http://www.emersoncentral.com/conservative.htm\">The Conservative</a>\"\"\"\n",
    "\n",
    "pat = re.compile(r\"\"\"(^[\\s\\S]*?)(<a href.*?</a>)\"\"\")\n",
    "match = pat.match(inp)\n",
    "print match\n",
    "print len(match.groups())\n",
    "print match.groups()\n",
    "print match.groups()[0]\n",
    "\n"
   ]
  },
  {
   "cell_type": "code",
   "execution_count": null,
   "metadata": {
    "collapsed": false
   },
   "outputs": [],
   "source": []
  },
  {
   "cell_type": "code",
   "execution_count": null,
   "metadata": {
    "collapsed": false
   },
   "outputs": [],
   "source": []
  },
  {
   "cell_type": "code",
   "execution_count": null,
   "metadata": {
    "collapsed": true
   },
   "outputs": [],
   "source": []
  }
 ],
 "metadata": {
  "kernelspec": {
   "display_name": "Python 2",
   "language": "python",
   "name": "python2"
  },
  "language_info": {
   "codemirror_mode": {
    "name": "ipython",
    "version": 2
   },
   "file_extension": ".py",
   "mimetype": "text/x-python",
   "name": "python",
   "nbconvert_exporter": "python",
   "pygments_lexer": "ipython2",
   "version": "2.7.3"
  }
 },
 "nbformat": 4,
 "nbformat_minor": 0
}
