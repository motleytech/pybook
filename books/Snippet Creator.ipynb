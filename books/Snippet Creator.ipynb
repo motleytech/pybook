{
 "cells": [
  {
   "cell_type": "code",
   "execution_count": 2,
   "metadata": {
    "collapsed": false
   },
   "outputs": [
    {
     "name": "stdout",
     "output_type": "stream",
     "text": [
      "{\n",
      "    \"javascript\": \"\\n<script type=\\\"text/javascript\\\"\\n src=\\\"//cdnjs.cloudflare.com/ajax/libs/require.js/2.1.20/require.min.js\\\">\\n</script>\\n\\n<script type=\\\"text/javascript\\\">\\n    require([\\\"/static/viz/js/learnD3/main.js\\\"], function (main) {\\n        main.initialize(\\\"id_o7Vfzp2OzhE0PhowJ8YJ\\\");\\n    });\\n</script>\\n\", \n",
      "    \"html\": \"\\n<h3>D3 viz of top results</h3>\\n\\n<div id=\\\"id_o7Vfzp2OzhE0PhowJ8YJ\\\">\\n</div>\\n\"\n",
      "}\n"
     ]
    }
   ],
   "source": [
    "import string\n",
    "from random import choice\n",
    "import json\n",
    "\n",
    "charPool = string.letters + string.digits\n",
    "\n",
    "def getRandomId(N=20):\n",
    "    id_postfix = ''.join(choice(charPool) for ignore in xrange(N))\n",
    "    return \"id_{}\".format(id_postfix)\n",
    "\n",
    "\n",
    "jsTemplate = \"\"\"\n",
    "<script type=\"text/javascript\"\n",
    " src=\"//cdnjs.cloudflare.com/ajax/libs/require.js/2.1.20/require.min.js\">\n",
    "</script>\n",
    "\n",
    "<script type=\"text/javascript\">\n",
    "    require([\"{}\"], function (main) {{\n",
    "        main.initialize(\"{}\");\n",
    "    }});\n",
    "</script>\n",
    "\"\"\"\n",
    "\n",
    "htmlTemplate = \"\"\"\n",
    "<h3>D3 viz of top results</h3>\n",
    "\n",
    "<div id=\"{}\">\n",
    "</div>\n",
    "\"\"\"\n",
    "\n",
    "divId = getRandomId()\n",
    "scriptFile = \"/static/viz/js/learnD3/main.js\"\n",
    "\n",
    "javascript = jsTemplate.format(scriptFile, divId)\n",
    "\n",
    "html = htmlTemplate.format(divId)\n",
    "\n",
    "data = {\n",
    "    \"javascript\": javascript,\n",
    "    \"html\": html,\n",
    "}\n",
    "\n",
    "print json.dumps(data, indent=4)\n"
   ]
  },
  {
   "cell_type": "code",
   "execution_count": null,
   "metadata": {
    "collapsed": true
   },
   "outputs": [],
   "source": []
  }
 ],
 "metadata": {
  "kernelspec": {
   "display_name": "Python 2",
   "language": "python",
   "name": "python2"
  },
  "language_info": {
   "codemirror_mode": {
    "name": "ipython",
    "version": 2
   },
   "file_extension": ".py",
   "mimetype": "text/x-python",
   "name": "python",
   "nbconvert_exporter": "python",
   "pygments_lexer": "ipython2",
   "version": "2.7.3"
  }
 },
 "nbformat": 4,
 "nbformat_minor": 0
}
