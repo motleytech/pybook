{
 "cells": [
  {
   "cell_type": "code",
   "execution_count": 9,
   "metadata": {
    "collapsed": false
   },
   "outputs": [
    {
     "name": "stdout",
     "output_type": "stream",
     "text": [
      "Timer unit: 1e-06 s\n",
      "\n",
      "Total time: 0.007093 s\n",
      "File: <ipython-input-9-fb7b55eb68bd>\n",
      "Function: myfunc at line 8\n",
      "\n",
      "Line #      Hits         Time  Per Hit   % Time  Line Contents\n",
      "==============================================================\n",
      "     8                                           def myfunc(a):\n",
      "     9         1            5      5.0      0.1      result = {}\n",
      "    10        21           40      1.9      0.6      for x, y in a.items():\n",
      "    11      2020         3083      1.5     43.5          for z in y:\n",
      "    12      2000         3961      2.0     55.8              result.setdefault(z, []).append(x)\n",
      "    13         1            4      4.0      0.1      return result\n",
      "\n"
     ]
    }
   ],
   "source": [
    "import line_profiler\n",
    "from random import randint\n",
    "\n",
    "adict = {}\n",
    "for x in xrange(2000):\n",
    "    adict.setdefault(randint(1,20), []).append(randint(1, 30))\n",
    "\n",
    "def myfunc(a):\n",
    "    result = {}\n",
    "    for x, y in a.items():\n",
    "        for z in y:\n",
    "            result.setdefault(z, []).append(x)\n",
    "    return result\n",
    "    \n",
    "prof = line_profiler.LineProfiler(myfunc)\n",
    "prof.run('myfunc(adict)')\n",
    "prof.print_stats()\n"
   ]
  },
  {
   "cell_type": "code",
   "execution_count": 10,
   "metadata": {
    "collapsed": false
   },
   "outputs": [
    {
     "name": "stdout",
     "output_type": "stream",
     "text": [
      "  9           0 BUILD_MAP                0\n",
      "              3 STORE_FAST               1 (result)\n",
      "\n",
      " 10           6 SETUP_LOOP              68 (to 77)\n",
      "              9 LOAD_FAST                0 (a)\n",
      "             12 LOAD_ATTR                0 (items)\n",
      "             15 CALL_FUNCTION            0\n",
      "             18 GET_ITER            \n",
      "        >>   19 FOR_ITER                54 (to 76)\n",
      "             22 UNPACK_SEQUENCE          2\n",
      "             25 STORE_FAST               2 (x)\n",
      "             28 STORE_FAST               3 (y)\n",
      "\n",
      " 11          31 SETUP_LOOP              39 (to 73)\n",
      "             34 LOAD_FAST                3 (y)\n",
      "             37 GET_ITER            \n",
      "        >>   38 FOR_ITER                31 (to 72)\n",
      "             41 STORE_FAST               4 (z)\n",
      "\n",
      " 12          44 LOAD_FAST                1 (result)\n",
      "             47 LOAD_ATTR                1 (setdefault)\n",
      "             50 LOAD_FAST                4 (z)\n",
      "             53 BUILD_LIST               0\n",
      "             56 CALL_FUNCTION            2\n",
      "             59 LOAD_ATTR                2 (append)\n",
      "             62 LOAD_FAST                2 (x)\n",
      "             65 CALL_FUNCTION            1\n",
      "             68 POP_TOP             \n",
      "             69 JUMP_ABSOLUTE           38\n",
      "        >>   72 POP_BLOCK           \n",
      "        >>   73 JUMP_ABSOLUTE           19\n",
      "        >>   76 POP_BLOCK           \n",
      "\n",
      " 13     >>   77 LOAD_FAST                1 (result)\n",
      "             80 RETURN_VALUE        \n"
     ]
    }
   ],
   "source": [
    "import dis\n",
    "dis.dis(myfunc.func_code)"
   ]
  },
  {
   "cell_type": "code",
   "execution_count": null,
   "metadata": {
    "collapsed": true
   },
   "outputs": [],
   "source": []
  }
 ],
 "metadata": {
  "kernelspec": {
   "display_name": "Python 2",
   "language": "python",
   "name": "python2"
  },
  "language_info": {
   "codemirror_mode": {
    "name": "ipython",
    "version": 2
   },
   "file_extension": ".py",
   "mimetype": "text/x-python",
   "name": "python",
   "nbconvert_exporter": "python",
   "pygments_lexer": "ipython2",
   "version": "2.7.3"
  }
 },
 "nbformat": 4,
 "nbformat_minor": 0
}
