{
 "cells": [
  {
   "cell_type": "code",
   "execution_count": null,
   "metadata": {
    "collapsed": true
   },
   "outputs": [],
   "source": [
    "__author__ = \"Nagarajan\""
   ]
  },
  {
   "cell_type": "markdown",
   "metadata": {},
   "source": [
    "## LRU Cache\n",
    "\n",
    "Requirements:\n",
    " - cache should have size n\n",
    " - should keep the most recently accessed n items in the cache\n",
    " - when new item is accessed, the last item in cache is removed and new item is inserted.\n",
    " - cache can be increased or decreased at runtime (optional)\n",
    " \n"
   ]
  },
  {
   "cell_type": "code",
   "execution_count": 1,
   "metadata": {
    "collapsed": true
   },
   "outputs": [],
   "source": [
    "\n",
    "\n",
    "class LRUCache(object):\n",
    "    \"\"\"\n",
    "    Implementation of an LRU cache using a doubly linked list\n",
    "    and dict.\n",
    "    It has O(1) lookups and is blazingly fast (for python).\n",
    "    \"\"\"\n",
    "    def __init__(self, size, ds):\n",
    "        \"\"\"\n",
    "        Setup the size and datastore.\n",
    "        Instantiate the doubly linked list and nodeMap\n",
    "        \"\"\"\n",
    "        self.size = size\n",
    "        self.dlist = DoublyLinkedList()\n",
    "        self.keyToNodeMap = {}\n",
    "        self.ds = ds\n",
    "        \n",
    "    def get(self, key):\n",
    "        \"\"\"\n",
    "        Return the data if its in the cache.\n",
    "        Else, get it from the datastore, store it in the cache and \n",
    "        return the data.\n",
    "        \"\"\"\n",
    "        if key in keyToNodeMap:\n",
    "            # hit\n",
    "            node = keyToNodeMap[key]\n",
    "            self.dlist.moveNodeToHead(node)\n",
    "        else:\n",
    "            # miss\n",
    "            value = self.ds.get(key)\n",
    "            if self.dlist.getSize() >= self.size:\n",
    "                self.dlist.removeLast()\n",
    "            node = self.dlist.insertValue(value, 0)\n",
    "            self.keyToNodeMap[key] = node\n",
    "        return node.value\n",
    "    \n",
    "    def updateSize(self, size):\n",
    "        \"\"\"\n",
    "        \"\"\"\n",
    "        if size < self.size:\n",
    "            diff = self.size - size\n",
    "            for x in xrange(diff):\n",
    "                node = self.dlist.removeLast()\n",
    "                del self.keyToNodeMap[node.key]\n",
    "        self.size = size\n",
    "\n",
    "\n",
    "class DoublyLinkedList(object):\n",
    "    pass \n",
    "\n",
    "            \n",
    "        \n",
    "            \n",
    "        "
   ]
  },
  {
   "cell_type": "code",
   "execution_count": 7,
   "metadata": {
    "collapsed": false
   },
   "outputs": [
    {
     "name": "stdout",
     "output_type": "stream",
     "text": [
      "{1: 2}\n"
     ]
    }
   ],
   "source": [
    "a = {1:2, 3:4}\n",
    "del a[3]\n",
    "print a"
   ]
  },
  {
   "cell_type": "markdown",
   "metadata": {
    "collapsed": true
   },
   "source": [
    "Pretty cool `'x'`"
   ]
  },
  {
   "cell_type": "code",
   "execution_count": null,
   "metadata": {
    "collapsed": true
   },
   "outputs": [],
   "source": []
  }
 ],
 "metadata": {
  "kernelspec": {
   "display_name": "Python 2",
   "language": "python",
   "name": "python2"
  },
  "language_info": {
   "codemirror_mode": {
    "name": "ipython",
    "version": 2
   },
   "file_extension": ".py",
   "mimetype": "text/x-python",
   "name": "python",
   "nbconvert_exporter": "python",
   "pygments_lexer": "ipython2",
   "version": "2.7.3"
  }
 },
 "nbformat": 4,
 "nbformat_minor": 0
}
