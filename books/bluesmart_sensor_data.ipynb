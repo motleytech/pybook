{
 "cells": [
  {
   "cell_type": "code",
   "execution_count": 55,
   "metadata": {
    "collapsed": true
   },
   "outputs": [],
   "source": [
    "%matplotlib inline\n",
    "import matplotlib.pyplot as plt\n",
    "from scipy import optimize\n",
    "from functools import partial\n"
   ]
  },
  {
   "cell_type": "code",
   "execution_count": 56,
   "metadata": {
    "collapsed": true
   },
   "outputs": [],
   "source": [
    "data = \"\"\"\n",
    "7031\t-4.4\t-3.4\t-2.4\t-1.5\t-0.5\t0.3\t1.3\t2.2\t3.2\t4.2\t5.2\n",
    "7050\t-2.9\t-1.9\t-1\t0\t0.8\t1.7\t2.7\t3.6\t4.6\t5.6\t6.6\n",
    "8123\t-3.9\t-3\t-2.1\t-1.1\t-0.1\t0.7\t1.7\t2.6\t3.6\t4.5\t5.5\n",
    "7839\t-2.3\t-1.3\t-0.4\t0.5\t1.5\t2.4\t3.3\t4.3\t5.3\t6.2\t7.4\n",
    "8005\t3.4\t4.4\t5.3\t6.3\t7.3\t8.2\t9.2\t10.1\t11.1\t12.1\t13.1\n",
    "8307\t-0.9\t0\t1\t2\t2.9\t3.8\t4.8\t5.7\t6.7\t7.7\t8.7\n",
    "7882\t1\t2\t2.9\t3.8\t4.8\t5.6\t6.6\t7.6\t8.5\t9.4\t10.4\n",
    "7640\t0.2\t1.2\t2.1\t3.1\t4\t4.9\t5.9\t6.8\t7.8\t8.7\t9.8\n",
    "7400\t0.8\t1.7\t2.7\t3.6\t4.6\t5.5\t6.4\t7.4\t8.4\t9.3\t10.4\n",
    "8511\t0.4\t1.3\t2.3\t3.3\t4.2\t5.1\t6.1\t7.1\t8\t9\t9.9\n",
    "7859\t-2.7\t-1.8\t-0.8\t0.1\t1.1\t1.9\t2.9\t3.8\t4.8\t5.7\t6.8\n",
    "7806\t-3.3\t-2.4\t-1.4\t-0.4\t0.4\t1.4\t2.3\t3.3\t4.3\t5.2\t6.3\n",
    "7259\t-2.6\t-1.6\t-0.7\t0.2\t1.2\t2\t3\t3.9\t4.9\t5.8\t6.8\n",
    "7261\t-3.2\t-2.3\t-1.3\t-0.3\t0.6\t1.5\t2.5\t3.4\t4.4\t5.4\t6.4\n",
    "3846\t2.1\t3.1\t4\t5\t6\t6.9\t7.9\t8.8\t9.8\t10.8\t11.8\n",
    "7829\t-1\t0\t0.8\t1.8\t2.8\t3.7\t4.7\t5.6\t6.6\t7.5\t8.5\n",
    "8188\t0\t1\t2\t3\t3.9\t4.8\t5.8\t6.8\t7.8\t8.7\t9.8\n",
    "7528\t1.5\t2.4\t3.4\t4.4\t5.3\t6.2\t7.2\t8.2\t9.1\t10\t11.1\n",
    "7256\t-0.2\t0.7\t1.7\t2.6\t3.6\t4.6\t5.5\t6.5\t7.5\t8.4\t9.5\n",
    "4172\t-0.4\t0.6\t1.5\t2.5\t3.5\t4.4\t5.4\t6.4\t7.4\t8.4\t9.4\n",
    "3012\t2.6\t3.6\t4.5\t5.5\t6.4\t7.3\t8.3\t9.2\t10.2\t11.1\t11.9\n",
    "2683\t2.4\t3.3\t4.3\t5.3\t6.2\t7.1\t8.1\t9\t10\t10.9\t11.9\n",
    "1837\t-2.4\t-1.4\t-0.4\t0.4\t1.4\t2.3\t3.2\t4.2\t5.1\t6.1\t7.1\n",
    "2979\t2.2\t3.2\t4.1\t5\t6\t6.8\t7.8\t8.7\t9.7\t10.6\t11.7\n",
    "5486\t-3.4\t-2.5\t-1.6\t-0.7\t0.2\t1.1\t2\t2.9\t3.8\t4.8\t5.8\n",
    "3186\t-1.8\t-0.9\t0\t1\t1.9\t2.8\t3.7\t4.7\t5.6\t6.6\t7.5\n",
    "2123\t-0.8\t0.1\t1.1\t2\t3\t3.9\t4.8\t5.8\t6.8\t7.7\t8.8\n",
    "3690\t-1.7\t-0.7\t0.1\t1.1\t2.1\t2.9\t3.9\t4.8\t5.8\t6.8\t7.8\n",
    "3469\t0.1\t1.1\t2\t3\t4\t4.8\t5.8\t6.7\t7.6\t8.6\t9.6\n",
    "5488\t-1.6\t-0.7\t0.1\t1.1\t2\t2.9\t3.8\t4.7\t5.7\t6.6\t7.6\n",
    "3560\t3.1\t4\t5\t5.9\t6.9\t7.7\t8.7\t9.6\t10.6\t11.5\t12.6\n",
    "4737\t-2.2\t-1.2\t-0.3\t0.6\t1.6\t2.4\t3.4\t4.3\t5.3\t6.2\t7.3\n",
    "1443\t2.8\t3.7\t4.6\t5.6\t6.5\t7.4\t8.4\t9.3\t10.2\t11.2\t12.2\n",
    "2637\t-2.7\t-1.7\t-0.8\t0.1\t1.1\t2\t3\t3.9\t4.9\t5.9\t6.9\n",
    "1453\t2.7\t3.6\t4.6\t5.5\t6.5\t7.4\t8.3\t9.2\t10.2\t11.1\t12.1\n",
    "3493\t0\t0.9\t1.9\t2.8\t3.8\t4.7\t5.7\t6.6\t7.6\t8.5\t9.6\n",
    "4122\t-0.5\t0.4\t1.4\t2.3\t3.3\t4.1\t5.1\t6\t7\t7.9\t9.1\n",
    "2086\t0.1\t1.1\t2\t2.9\t3.9\t4.8\t5.7\t6.6\t7.6\t8.5\t9.5\n",
    "2300\t1.3\t2.2\t3.2\t4.2\t5.2\t6.1\t7\t8\t9\t10\t10.9\n",
    "3183\t-0.7\t0.1\t1.1\t2.1\t3.1\t3.9\t4.9\t5.8\t6.8\t7.8\t8.7\n",
    "3439\t-2.2\t-1.3\t-0.3\t0.6\t1.6\t2.4\t3.4\t4.4\t5.3\t6.3\t7.3\n",
    "4687\t-3.9\t-2.9\t-2\t-1\t-0.1\t0.7\t1.7\t2.8\t3.7\t4.7\t5.6\n",
    "5116\t-3\t-2\t-1.1\t-0.1\t0.8\t1.7\t2.7\t3.6\t4.6\t5.6\t6.6\n",
    "3042\t2.1\t3.1\t4\t5\t5.9\t6.9\t7.9\t8.7\t9.6\t10.6\t11.7\n",
    "4410\t-3.3\t-2.3\t-1.4\t-0.4\t0.5\t1.4\t2.4\t3.3\t4.3\t5.2\t6.3\n",
    "3532\t-1.8\t-0.8\t0.1\t1.1\t2.1\t2.9\t3.9\t4.8\t5.8\t6.8\t7.7\n",
    "4710\t0.2\t1.2\t2.1\t3.1\t4.1\t5\t5.9\t6.9\t7.8\t8.8\t9.8\n",
    "4501\t1.2\t2.1\t3.1\t4.1\t5\t6\t6.9\t7.9\t8.8\t9.8\t10.8\n",
    "3037\t1.2\t2.1\t3.1\t4\t5\t5.9\t6.9\t7.9\t8.8\t9.8\t10.8\n",
    "4518\t-0.5\t0.3\t1.3\t2.3\t3.2\t4.1\t5.1\t6\t7\t7.9\t9\n",
    "3665\t-2.6\t-1.7\t-0.7\t0.2\t1.2\t2.1\t3\t4\t4.9\t5.9\t6.9\n",
    "3374\t2.6\t3.5\t4.5\t5.4\t6.4\t7.3\t8.3\t9.2\t10.2\t11.2\t12.2\n",
    "4296\t-2.6\t-1.7\t-0.7\t0.1\t1.1\t1.9\t2.9\t3.8\t4.8\t5.7\t6.7\n",
    "4434\t-2.3\t-1.4\t-0.4\t0.4\t1.4\t2.3\t3.2\t4.2\t5.1\t6.1\t7.2\n",
    "4288\t-2.5\t-1.5\t-0.6\t0.3\t1.3\t2.2\t3.2\t4.1\t5\t6\t7\n",
    "4732\t-1.7\t-0.8\t0.1\t1\t2\t2.9\t3.9\t4.8\t5.8\t6.7\t7.8\n",
    "3740\t0.5\t1.4\t2.4\t3.3\t4.3\t5.2\t6.1\t7.1\t8\t9\t10\n",
    "5093\t1.7\t2.6\t3.6\t4.5\t5.5\t6.3\t7.3\t8.2\t9.1\t10.1\t11.1\n",
    "4787\t1.4\t2.3\t3.3\t4.2\t5.2\t6\t7\t7.9\t8.9\t9.8\t10.8\n",
    "3638\t-0.6\t0.2\t1.2\t2.1\t3.1\t4\t4.9\t5.9\t6.8\t7.7\t8.8\n",
    "4308\t-2.2\t-1.2\t-0.3\t0.6\t1.6\t2.5\t3.4\t4.4\t5.3\t6.3\t7.3\n",
    "3737\t-2.9\t-1.9\t-1\t0\t0.8\t1.7\t2.7\t3.6\t4.6\t5.5\t6.5\n",
    "4977\t-2.5\t-1.6\t-0.6\t0.3\t1.3\t2.1\t3.1\t4\t5\t5.9\t7\n",
    "3609\t2.3\t3.2\t4.2\t5.1\t6.1\t7\t7.9\t8.9\t9.8\t10.8\t11.9\n",
    "2345\t3.1\t4\t5\t5.9\t6.9\t7.8\t8.8\t9.8\t10.8\t11.8\t12.8\n",
    "3854\t0.4\t1.4\t2.3\t3.3\t4.2\t5.1\t6.1\t7.1\t8\t9\t10\n",
    "3454\t-0.5\t0.4\t1.4\t2.3\t3.3\t4.2\t5.1\t6.1\t7\t8\t9\n",
    "3908\t0.4\t1.3\t2.3\t3.2\t4.2\t5.1\t6\t6.9\t7.9\t8.9\t9.9\n",
    "2910\t-0.1\t0.8\t1.8\t2.8\t3.8\t4.7\t5.7\t6.6\t7.6\t8.6\t9.6\n",
    "3357\t0.1\t1\t2\t3\t3.9\t4.8\t5.8\t6.8\t7.7\t8.7\t9.7\n",
    "3418\t-2.3\t-1.3\t-0.3\t0.6\t1.6\t2.6\t3.6\t4.6\t5.7\t6.7\t7.5\n",
    "3465\t2.8\t3.8\t4.7\t5.7\t6.7\t7.6\t8.5\t9.5\t10.5\t11.4\t12.4\n",
    "5502\t2.3\t3.2\t4.2\t5.1\t6.1\t7\t8\t8.9\t9.8\t10.9\t12\n",
    "2571\t2.5\t3.5\t4.4\t5.4\t6.4\t7.3\t8.3\t9.3\t10.3\t11.3\t12.3\n",
    "3591\t2.5\t3.5\t4.4\t5.4\t6.4\t7.3\t8.3\t9.3\t10.3\t11.3\t12.2\n",
    "1862\t0\t1\t2\t3\t4\t5\t6\t7.1\t8.1\t9.1\t10.2\n",
    "2196\t0.6\t1.6\t2.5\t3.5\t4.5\t5.3\t6.3\t7.3\t8.2\t9.2\t10.3\n",
    "5498\t0.5\t1.5\t2.5\t3.5\t4.5\t5.4\t6.4\t7.4\t8.4\t9.4\t10.4\n",
    "3021\t0.9\t1.9\t2.8\t3.8\t4.8\t5.8\t6.8\t7.8\t8.9\t9.8\t11\n",
    "3147\t1.7\t2.6\t3.6\t4.6\t5.6\t6.5\t7.5\t8.4\t9.5\t10.5\t11.4\n",
    "5316\t2.2\t3.2\t4.2\t5.1\t6.1\t7\t8\t8.9\t9.9\t10.9\t11.9\n",
    "2824\t2.7\t3.6\t4.6\t5.6\t6.6\t7.4\t8.4\t9.4\t10.3\t11.3\t12.3\n",
    "5371\t-2.6\t-1.6\t-0.7\t0.1\t1.1\t2\t3\t3.9\t4.9\t5.8\t6.8\n",
    "5283\t-2.3\t-1.3\t-0.3\t0.5\t1.5\t2.4\t3.4\t4.3\t5.3\t6.3\t7.3\n",
    "5533\t-2.5\t-1.5\t-0.6\t0.4\t1.4\t2.3\t3.3\t4.3\t5.2\t6.2\t7.3\n",
    "5314\t0.9\t1.8\t2.8\t3.7\t4.7\t5.6\t6.6\t7.6\t8.5\t9.5\t10.5\n",
    "3249\t0.7\t1.6\t2.6\t3.6\t4.6\t5.5\t6.5\t7.5\t8.4\t9.4\t10.4\n",
    "5369\t-0.7\t0.2\t1.2\t2.1\t3\t3.9\t4.9\t5.8\t6.7\t7.7\t8.6\n",
    "5281\t-0.7\t0.1\t1.1\t2.1\t3.1\t4\t5\t6\t7\t7.9\t8.9\n",
    "5535\t1.2\t2.2\t3.1\t4.1\t5.1\t6\t7\t8\t8.9\t10\t11\n",
    "\"\"\"\n",
    "\n",
    "data = data.strip().split(\"\\n\")\n",
    "data = [d.strip().split(\"\\t\") for d in data]\n",
    "\n",
    "serials = [int(d[0]) for d in data]\n",
    "data = [d[1:] for d in data]\n",
    "data = [[float(dx) for dx in d] for d in data]\n",
    "\n",
    "inspec = [d for d in data if abs(d[0]) < 2.0]\n",
    "outspec = [d for d in data if abs(d[0]) > 2.0]\n"
   ]
  },
  {
   "cell_type": "code",
   "execution_count": 57,
   "metadata": {
    "collapsed": false
   },
   "outputs": [],
   "source": [
    "useRelativeError = True\n",
    "\n",
    "def calcError(data, args):\n",
    "    m = args\n",
    "    c = data[0]\n",
    "    total_error = 0\n",
    "    values1 = data\n",
    "    values2 = [(m*x + c) for x in xrange(len(values1))]\n",
    "    \n",
    "    for ix, (x1, x2) in enumerate(zip(values1, values2)):\n",
    "        diff = abs(x1 - x2)\n",
    "        if useRelativeError:\n",
    "            diff = (diff / ix) if ix > 0 else diff\n",
    "        total_error += diff\n",
    "    return total_error / len(data)\n",
    "\n",
    "inSpecErrors = []\n",
    "outSpecErrors = []\n",
    "\n",
    "for data in inspec:\n",
    "    diffFunc = partial(calcError, data)\n",
    "    result = optimize.minimize(diffFunc, (0,))\n",
    "    m = result.x\n",
    "    error = result.fun\n",
    "    inSpecErrors.append((data[0], error, m, data))\n",
    "\n",
    "for data in outspec:\n",
    "    diffFunc = partial(calcError, data)\n",
    "    result = optimize.minimize(diffFunc, (0,))\n",
    "    m = result.x\n",
    "    error = result.fun\n",
    "    outSpecErrors.append((data[0], error, m, data))\n"
   ]
  },
  {
   "cell_type": "code",
   "execution_count": 58,
   "metadata": {
    "collapsed": false
   },
   "outputs": [
    {
     "data": {
      "text/plain": [
       "[<matplotlib.lines.Line2D at 0x4c46c50>]"
      ]
     },
     "execution_count": 58,
     "metadata": {},
     "output_type": "execute_result"
    },
    {
     "data": {
      "image/png": "[encoded data removed]",
      "text/plain": [
       "<matplotlib.figure.Figure at 0x4a23b10>"
      ]
     },
     "metadata": {},
     "output_type": "display_data"
    }
   ],
   "source": [
    "\n",
    "\n",
    "inspecPlotData = [(xx[0], xx[1]) for xx in inSpecErrors]\n",
    "outspecPlotData = [(xx[0], xx[1]) for xx in outSpecErrors]\n",
    "\n",
    "plt.plot(*zip(*sorted(inspecPlotData)))\n",
    "plt.plot(*zip(*sorted(outspecPlotData)))"
   ]
  },
  {
   "cell_type": "code",
   "execution_count": null,
   "metadata": {
    "collapsed": false
   },
   "outputs": [],
   "source": [
    "\n"
   ]
  },
  {
   "cell_type": "code",
   "execution_count": 35,
   "metadata": {
    "collapsed": true
   },
   "outputs": [],
   "source": [
    "range??"
   ]
  },
  {
   "cell_type": "code",
   "execution_count": 8,
   "metadata": {
    "collapsed": false
   },
   "outputs": [
    {
     "name": "stdout",
     "output_type": "stream",
     "text": [
      "14.1052631579\n",
      "0.294736842105\n",
      "0.294736842105\n",
      "0.294736842105\n"
     ]
    }
   ],
   "source": [
    "input_kg = 20\n",
    "\n",
    "kg_to_mv_factor = slope = 0.89\n",
    "\n",
    "output_mv = input_kg*kg_to_mv_factor\n",
    "\n",
    "programmed_slope = 0.95\n",
    "ideal_mv_output = programmed_slope * input_kg\n",
    "\n",
    "mv_to_kg_factor = 1/programmed_slope\n",
    "\n",
    "output_kg = output_mv * mv_to_kg_factor\n",
    "\n",
    "print output_kg\n",
    "print abs(slope - programmed_slope) / programmed_slope\n",
    "print abs(ideal_mv_output - output_mv) / ideal_mv_output\n",
    "print abs(float(output_kg - input_kg)) / input_kg\n"
   ]
  },
  {
   "cell_type": "code",
   "execution_count": null,
   "metadata": {
    "collapsed": true
   },
   "outputs": [],
   "source": []
  }
 ],
 "metadata": {
  "kernelspec": {
   "display_name": "Python 2",
   "language": "python",
   "name": "python2"
  },
  "language_info": {
   "codemirror_mode": {
    "name": "ipython",
    "version": 2
   },
   "file_extension": ".py",
   "mimetype": "text/x-python",
   "name": "python",
   "nbconvert_exporter": "python",
   "pygments_lexer": "ipython2",
   "version": "2.7.3"
  }
 },
 "nbformat": 4,
 "nbformat_minor": 0
}
