{
 "cells": [
  {
   "cell_type": "code",
   "execution_count": 22,
   "metadata": {
    "collapsed": false
   },
   "outputs": [
    {
     "name": "stdout",
     "output_type": "stream",
     "text": [
      "<h1>\n",
      "hello world\n",
      "</h1>\n"
     ]
    }
   ],
   "source": [
    "from contextlib import contextmanager\n",
    "from traceback import print_exc, format_exc\n",
    "\n",
    "@contextmanager\n",
    "def tag(name):\n",
    "    print \"<{}>\".format(name)\n",
    "    yield \"hello\"\n",
    "    print \"</{}>\".format(name)\n",
    "\n",
    "with tag(\"h1\") as t:\n",
    "    print t + \" world\"\n",
    "    "
   ]
  },
  {
   "cell_type": "code",
   "execution_count": 11,
   "metadata": {
    "collapsed": false
   },
   "outputs": [
    {
     "name": "stdout",
     "output_type": "stream",
     "text": [
      "entering\n",
      "in the middle\n",
      "exiting\n",
      "<type 'exceptions.ValueError'>\n",
      "Bad egg\n",
      "<traceback object at 0x2d9ab90>\n"
     ]
    }
   ],
   "source": [
    "class MyCtxMgr(object):\n",
    "    def __init__(self):\n",
    "        pass\n",
    "    def __enter__(self):\n",
    "        print \"entering\"\n",
    "        return self\n",
    "    def __exit__(self, exc, exc2, traceback):\n",
    "        print \"exiting\"\n",
    "        print exc\n",
    "        print exc2\n",
    "        print traceback\n",
    "        return True\n",
    "\n",
    "with MyCtxMgr() as m:\n",
    "    print \"in the middle\"\n",
    "    raise ValueError(\"Bad egg\")\n",
    "\n",
    "    "
   ]
  },
  {
   "cell_type": "code",
   "execution_count": 23,
   "metadata": {
    "collapsed": false
   },
   "outputs": [
    {
     "name": "stdout",
     "output_type": "stream",
     "text": [
      "created val : 20\n",
      "getting val\n",
      "20\n",
      "setting val to 25\n",
      "getting val\n",
      "25\n",
      "deleting val : 25\n",
      "getting val\n"
     ]
    },
    {
     "ename": "AttributeError",
     "evalue": "'MyGetSet' object has no attribute '_val'",
     "output_type": "error",
     "traceback": [
      "\u001b[1;31m---------------------------------------------------------------------------\u001b[0m",
      "\u001b[1;31mAttributeError\u001b[0m                            Traceback (most recent call last)",
      "\u001b[1;32m<ipython-input-23-a9b5f9ec8ddb>\u001b[0m in \u001b[0;36m<module>\u001b[1;34m()\u001b[0m\n\u001b[0;32m     24\u001b[0m \u001b[1;32mprint\u001b[0m \u001b[0mobj\u001b[0m\u001b[1;33m.\u001b[0m\u001b[0mval\u001b[0m\u001b[1;33m\u001b[0m\u001b[0m\n\u001b[0;32m     25\u001b[0m \u001b[1;32mdel\u001b[0m \u001b[0mobj\u001b[0m\u001b[1;33m.\u001b[0m\u001b[0mval\u001b[0m\u001b[1;33m\u001b[0m\u001b[0m\n\u001b[1;32m---> 26\u001b[1;33m \u001b[1;32mprint\u001b[0m \u001b[0mobj\u001b[0m\u001b[1;33m.\u001b[0m\u001b[0mval\u001b[0m\u001b[1;33m\u001b[0m\u001b[0m\n\u001b[0m",
      "\u001b[1;32m<ipython-input-23-a9b5f9ec8ddb>\u001b[0m in \u001b[0;36mval\u001b[1;34m(self)\u001b[0m\n\u001b[0;32m      7\u001b[0m     \u001b[1;32mdef\u001b[0m \u001b[0mval\u001b[0m\u001b[1;33m(\u001b[0m\u001b[0mself\u001b[0m\u001b[1;33m)\u001b[0m\u001b[1;33m:\u001b[0m\u001b[1;33m\u001b[0m\u001b[0m\n\u001b[0;32m      8\u001b[0m         \u001b[1;32mprint\u001b[0m \u001b[1;34m'getting val'\u001b[0m\u001b[1;33m\u001b[0m\u001b[0m\n\u001b[1;32m----> 9\u001b[1;33m         \u001b[1;32mreturn\u001b[0m \u001b[0mself\u001b[0m\u001b[1;33m.\u001b[0m\u001b[0m_val\u001b[0m\u001b[1;33m\u001b[0m\u001b[0m\n\u001b[0m\u001b[0;32m     10\u001b[0m \u001b[1;33m\u001b[0m\u001b[0m\n\u001b[0;32m     11\u001b[0m     \u001b[1;33m@\u001b[0m\u001b[0mval\u001b[0m\u001b[1;33m.\u001b[0m\u001b[0msetter\u001b[0m\u001b[1;33m\u001b[0m\u001b[0m\n",
      "\u001b[1;31mAttributeError\u001b[0m: 'MyGetSet' object has no attribute '_val'"
     ]
    }
   ],
   "source": [
    "class MyGetSet(object):\n",
    "    def __init__(self, val):\n",
    "        print 'created val : %s' % val\n",
    "        self._val = val\n",
    "        \n",
    "    @property\n",
    "    def val(self):\n",
    "        print 'getting val'\n",
    "        return self._val\n",
    "    \n",
    "    @val.setter\n",
    "    def val(self, v):\n",
    "        print 'setting val to %s' % v\n",
    "        self._val = v\n",
    "        \n",
    "    @val.deleter\n",
    "    def val(self):\n",
    "        print 'deleting val : %s' % self._val\n",
    "        del self._val\n",
    "        \n",
    "obj = MyGetSet(20)\n",
    "print obj.val\n",
    "obj.val = 25\n",
    "print obj.val\n",
    "del obj.val\n",
    "print obj.val"
   ]
  },
  {
   "cell_type": "code",
   "execution_count": null,
   "metadata": {
    "collapsed": true
   },
   "outputs": [],
   "source": []
  }
 ],
 "metadata": {
  "kernelspec": {
   "display_name": "Python 2",
   "language": "python",
   "name": "python2"
  },
  "language_info": {
   "codemirror_mode": {
    "name": "ipython",
    "version": 2
   },
   "file_extension": ".py",
   "mimetype": "text/x-python",
   "name": "python",
   "nbconvert_exporter": "python",
   "pygments_lexer": "ipython2",
   "version": "2.7.3"
  }
 },
 "nbformat": 4,
 "nbformat_minor": 0
}
