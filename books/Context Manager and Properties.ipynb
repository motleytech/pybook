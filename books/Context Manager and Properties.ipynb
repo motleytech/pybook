{
 "cells": [
  {
   "cell_type": "code",
   "execution_count": null,
   "metadata": {
    "collapsed": false
   },
   "outputs": [],
   "source": [
    "from contextlib import contextmanager\n",
    "from traceback import print_exc, format_exc\n",
    "\n",
    "@contextmanager\n",
    "def tag(name):\n",
    "    print \"<{}>\".format(name)\n",
    "    yield \"hello\"\n",
    "    print \"</{}>\".format(name)\n",
    "\n",
    "with tag(\"h1\") as t:\n",
    "    print t + \" world\"\n",
    "    "
   ]
  },
  {
   "cell_type": "code",
   "execution_count": null,
   "metadata": {
    "collapsed": false
   },
   "outputs": [],
   "source": [
    "class MyCtxMgr(object):\n",
    "    def __init__(self):\n",
    "        pass\n",
    "    def __enter__(self):\n",
    "        print \"entering\"\n",
    "        return self\n",
    "    def __exit__(self, exc, exc2, traceback):\n",
    "        print \"exiting\"\n",
    "        print exc\n",
    "        print exc2\n",
    "        print traceback\n",
    "        return True\n",
    "\n",
    "with MyCtxMgr() as m:\n",
    "    print \"in the middle\"\n",
    "    raise ValueError(\"Bad egg\")\n",
    "\n",
    "    "
   ]
  },
  {
   "cell_type": "code",
   "execution_count": null,
   "metadata": {
    "collapsed": false
   },
   "outputs": [],
   "source": [
    "class MyGetSet(object):\n",
    "    def __init__(self, val):\n",
    "        print 'created val : %s' % val\n",
    "        self._val = val\n",
    "        \n",
    "    @property\n",
    "    def val(self):\n",
    "        print 'getting val'\n",
    "        return self._val\n",
    "    \n",
    "    @val.setter\n",
    "    def val(self, v):\n",
    "        print 'setting val to %s' % v\n",
    "        self._val = v\n",
    "        \n",
    "    @val.deleter\n",
    "    def val(self):\n",
    "        print 'deleting val : %s' % self._val\n",
    "        del self._val\n",
    "        \n",
    "obj = MyGetSet(20)\n",
    "print obj.val\n",
    "obj.val = 25\n",
    "print obj.val\n",
    "del obj.val\n",
    "print getattr(obj, 'val', 'Val no longer exists')"
   ]
  },
  {
   "cell_type": "code",
   "execution_count": null,
   "metadata": {
    "collapsed": false
   },
   "outputs": [],
   "source": []
  },
  {
   "cell_type": "markdown",
   "metadata": {},
   "source": [
    "Timer unit: 1e-06 s\n",
    "\n",
    "Total time: 0.649019 s\n",
    "File: <ipython-input-26-697ebc485aba>\n",
    "Function: myfunc at line 3\n",
    "\n",
    "Line #      Hits         Time  Per Hit   % Time  Line Contents\n",
    "==============================================================\n",
    "     3                                           def myfunc(a):\n",
    "     4         1            2      2.0      0.0      result = {}\n",
    "     5        21           54      2.6      0.0      for x, y in a.items():\n",
    "     6    200020       286646      1.4     44.2          for z in y:\n",
    "     7    200000       362316      1.8     55.8              result.setdefault(z, []).append(x)\n",
    "     8         1            1      1.0      0.0      return result\n",
    "\n",
    "\n",
    "Timer unit: 1e-06 s\n",
    "\n",
    "\n",
    "\n",
    "Total time: 0.882335 s\n",
    "File: <ipython-input-27-dbe209fad65c>\n",
    "Function: myfunc at line 3\n",
    "\n",
    "Line #      Hits         Time  Per Hit   % Time  Line Contents\n",
    "==============================================================\n",
    "     3                                           def myfunc(a):\n",
    "     4         1            2      2.0      0.0      result = {}\n",
    "     5        21           57      2.7      0.0      for x, y in a.items():\n",
    "     6    200020       280608      1.4     31.8          for z in y:\n",
    "     7    200000       284306      1.4     32.2              if z in result:\n",
    "     8    199970       317301      1.6     36.0                  result[z].append(x)\n",
    "     9                                                       else:\n",
    "    10        30           59      2.0      0.0                  result[z] = [x]\n",
    "    11         1            2      2.0      0.0      return result\n"
   ]
  },
  {
   "cell_type": "code",
   "execution_count": 1,
   "metadata": {
    "collapsed": false
   },
   "outputs": [
    {
     "name": "stdout",
     "output_type": "stream",
     "text": [
      "0.57735026919\n"
     ]
    }
   ],
   "source": [
    "from math import sqrt\n",
    "\n",
    "print 1.0/sqrt(3)\n"
   ]
  },
  {
   "cell_type": "code",
   "execution_count": 16,
   "metadata": {
    "collapsed": false
   },
   "outputs": [
    {
     "name": "stdout",
     "output_type": "stream",
     "text": [
      "<html>\n",
      "  <head>\n",
      "    <style>\n",
      "      body { font-size: 10px; }\n",
      "    </style>\n",
      "  </head>\n",
      "  <body>\n",
      "    <div>\n",
      "      Hello\n",
      "    </div>\n",
      "  </body>\n",
      "</html>\n",
      "\n"
     ]
    }
   ],
   "source": [
    "\n",
    "def tag(tg, br=True, data=\"\"):\n",
    "    if br or isinstance(data, (list, tuple)):\n",
    "        result = [\"<%s>\\n\" % tg]\n",
    "        if isinstance(data, (list, tuple)):\n",
    "            for i, line in enumerate(data):\n",
    "                data[i] = \"  \" + line\n",
    "            result.extend(data)\n",
    "        else:\n",
    "            result.append(\"  %s\\n\" % data)\n",
    "        result.append(\"</%s>\\n\" % tg)\n",
    "    else:\n",
    "        result = [\"<%s>%s</%s>\\n\" % (tg, data, tg)]\n",
    "    return result\n",
    "    \n",
    "res = tag(\"html\", data =\n",
    "        tag(\"head\", data =\n",
    "          tag(\"style\", data =\n",
    "                \"body { font-size: 10px; }\"\n",
    "          )\n",
    "        ) +\n",
    "        tag(\"body\", data =\n",
    "          tag(\"div\", data =\n",
    "                \"Hello\"\n",
    "          )\n",
    "        )\n",
    "      )\n",
    "\n",
    "print \"\".join(res)\n",
    "    \n",
    "    \n",
    "    \n",
    "    \n"
   ]
  },
  {
   "cell_type": "code",
   "execution_count": null,
   "metadata": {
    "collapsed": true
   },
   "outputs": [],
   "source": []
  }
 ],
 "metadata": {
  "kernelspec": {
   "display_name": "Python 2",
   "language": "python",
   "name": "python2"
  },
  "language_info": {
   "codemirror_mode": {
    "name": "ipython",
    "version": 2
   },
   "file_extension": ".py",
   "mimetype": "text/x-python",
   "name": "python",
   "nbconvert_exporter": "python",
   "pygments_lexer": "ipython2",
   "version": "2.7.3"
  }
 },
 "nbformat": 4,
 "nbformat_minor": 0
}
