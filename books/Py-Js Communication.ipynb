{
 "cells": [
  {
   "cell_type": "code",
   "execution_count": 85,
   "metadata": {
    "collapsed": false,
    "run_control": {
     "marked": false
    }
   },
   "outputs": [
    {
     "data": {
      "application/javascript": [
       "\n",
       "function log(mesg, elem) {\n",
       "    if (elem) {\n",
       "        elem.append(\"<p>\" + mesg + \"</p>\")\n",
       "    } else {\n",
       "        console.log(mesg)\n",
       "    }\n",
       "}\n",
       "\n",
       "function toPy(value, ident) {\n",
       "    var kernel = IPython.notebook.kernel;\n",
       "    value = value.replace(\"'\", \"\\\\'\");\n",
       "    value = value.replace('\"', '\\\\\"');\n",
       "    var code_input = ident + \" = '\" + value + \"'\";\n",
       "    var msg_id = kernel.execute(code_input);\n",
       "}\n",
       "\n",
       "function toJs(ident, ident2, cb2) {\n",
       "    var kernel = IPython.notebook.kernel;\n",
       "    function callback(out){\n",
       "        console.log(out);\n",
       "        var res = null;\n",
       "        \n",
       "        // if output is a print statement\n",
       "        if(out.msg_type == \"stream\"){\n",
       "            res = out.content.text;\n",
       "        }\n",
       "        \n",
       "        // if output is a python object\n",
       "        else if(out.msg_type === \"pyout\"){\n",
       "            res = out.content.data[\"text/plain\"];\n",
       "        }\n",
       "        \n",
       "        // if output is executing result\n",
       "        else if(out.msg_type === \"execute_result\"){\n",
       "            res = out.content.data[\"text/plain\"];\n",
       "        }\n",
       "        \n",
       "        // if output is a python error\n",
       "        else if(out.msg_type == \"pyerr\"){\n",
       "            res = out.content.ename + \": \" + out.content.evalue;\n",
       "        }\n",
       "        \n",
       "        // if output is something we haven't thought of\n",
       "        else{\n",
       "            res = \"[out type not implemented]\";  \n",
       "        }\n",
       "        \n",
       "        if (!ident2) {\n",
       "            ident2 = ident;\n",
       "        }\n",
       "        \n",
       "        window.nbvars[ident2] = res;\n",
       "        \n",
       "        if (cb2) { \n",
       "            cb2(res);\n",
       "        }\n",
       "    }\n",
       "    \n",
       "    var callbacks = { 'iopub' : {'output' : callback}};\n",
       "    var code_input = ident;\n",
       "    var msg_id = kernel.execute(code_input, callbacks, {silent:false});\n",
       "}\n",
       "\n",
       "\n",
       "window.nbvars = {\n",
       "    \"log\": log,\n",
       "}\n",
       "\n",
       "window.toPy = toPy\n",
       "window.toJs = toJs"
      ],
      "text/plain": [
       "<IPython.core.display.Javascript object>"
      ]
     },
     "metadata": {},
     "output_type": "display_data"
    }
   ],
   "source": [
    "%%javascript\n",
    "\n",
    "function log(mesg, elem) {\n",
    "    if (elem) {\n",
    "        elem.append(\"<p>\" + mesg + \"</p>\")\n",
    "    } else {\n",
    "        console.log(mesg)\n",
    "    }\n",
    "}\n",
    "\n",
    "function toPy(jsobj, ident) {\n",
    "    var kernel = IPython.notebook.kernel;\n",
    "    value = value.replace(\"'\", \"\\\\'\");\n",
    "    value = value.replace('\"', '\\\\\"');\n",
    "    var code_input = \"import simplejson as json;\"\n",
    "    var code_input = ident + \" = json.loads('\" + JSON.stringify(jsobj) + \"')\";\n",
    "    var msg_id = kernel.execute(code_input);\n",
    "}\n",
    "\n",
    "function toJs(ident, ident2, cb2) {\n",
    "    var kernel = IPython.notebook.kernel;\n",
    "    function callback(out){\n",
    "        console.log(out);\n",
    "        var res = null;\n",
    "        \n",
    "        // if output is a print statement\n",
    "        if(out.msg_type == \"stream\"){\n",
    "            res = out.content.text;\n",
    "        }\n",
    "        \n",
    "        // if output is a python object\n",
    "        else if(out.msg_type === \"pyout\"){\n",
    "            res = out.content.data[\"text/plain\"];\n",
    "        }\n",
    "        \n",
    "        // if output is executing result\n",
    "        else if(out.msg_type === \"execute_result\"){\n",
    "            res = out.content.data[\"text/plain\"];\n",
    "        }\n",
    "        \n",
    "        // if output is a python error\n",
    "        else if(out.msg_type == \"pyerr\"){\n",
    "            res = out.content.ename + \": \" + out.content.evalue;\n",
    "        }\n",
    "        \n",
    "        // if output is something we haven't thought of\n",
    "        else{\n",
    "            res = \"[out type not implemented]\";  \n",
    "        }\n",
    "        \n",
    "        if (!ident2) {\n",
    "            ident2 = ident;\n",
    "        }\n",
    "        \n",
    "        window.nbvars[ident2] = res;\n",
    "        \n",
    "        if (cb2) { \n",
    "            cb2(res);\n",
    "        }\n",
    "    }\n",
    "    \n",
    "    var callbacks = { 'iopub' : {'output' : callback}};\n",
    "    var code_input = ident;\n",
    "    var msg_id = kernel.execute(code_input, callbacks, {silent:false});\n",
    "}\n",
    "\n",
    "\n",
    "window.nbvars = {\n",
    "    \"log\": log,\n",
    "}\n",
    "\n",
    "window.toPy = toPy\n",
    "window.toJs = toJs"
   ]
  },
  {
   "cell_type": "code",
   "execution_count": 86,
   "metadata": {
    "collapsed": false,
    "run_control": {
     "marked": false
    }
   },
   "outputs": [
    {
     "name": "stdout",
     "output_type": "stream",
     "text": [
      "[1, 2, 3, 4, 5]\n"
     ]
    }
   ],
   "source": [
    "mypyvar = [1, 2, 3, 4, 5]\n",
    "print mypyvar"
   ]
  },
  {
   "cell_type": "code",
   "execution_count": 87,
   "metadata": {
    "collapsed": false,
    "run_control": {
     "marked": false
    }
   },
   "outputs": [
    {
     "data": {
      "application/javascript": [
       "var elem = element;\n",
       "toJs(\"mypyvar\", \"myjsvar\", function (data) {\n",
       "    nbvars.log(\"Got result - \" + data, elem);\n",
       "    nbvars.myjsvar = eval(data);\n",
       "});"
      ],
      "text/plain": [
       "<IPython.core.display.Javascript object>"
      ]
     },
     "metadata": {},
     "output_type": "display_data"
    }
   ],
   "source": [
    "%%javascript\n",
    "var elem = element;\n",
    "toJs(\"mypyvar\", \"myjsvar\", function (data) {\n",
    "    nbvars.log(\"Got result - \" + data, elem);\n",
    "    nbvars.myjsvar = eval(data);\n",
    "});\n"
   ]
  },
  {
   "cell_type": "code",
   "execution_count": 88,
   "metadata": {
    "collapsed": false,
    "run_control": {
     "marked": false
    }
   },
   "outputs": [
    {
     "data": {
      "application/javascript": [
       "nbvars.log(nbvars.myjsvar, element)"
      ],
      "text/plain": [
       "<IPython.core.display.Javascript object>"
      ]
     },
     "metadata": {},
     "output_type": "display_data"
    }
   ],
   "source": [
    "%%javascript\n",
    "nbvars.log(nbvars.myjsvar, element)"
   ]
  },
  {
   "cell_type": "code",
   "execution_count": 89,
   "metadata": {
    "collapsed": true
   },
   "outputs": [],
   "source": [
    "a = 1.25"
   ]
  },
  {
   "cell_type": "markdown",
   "metadata": {
    "variables": {
     " a + 20 ": "21.25"
    }
   },
   "source": [
    "a = {{ a + 20 }}"
   ]
  },
  {
   "cell_type": "code",
   "execution_count": 7,
   "metadata": {
    "collapsed": false
   },
   "outputs": [
    {
     "name": "stdout",
     "output_type": "stream",
     "text": [
      "{u'hello': u'hello'} <type 'dict'>\n"
     ]
    }
   ],
   "source": [
    "import json\n",
    "result = json.loads('{ \"hello\": \"hello\" }')\n",
    "print result, type(result)"
   ]
  },
  {
   "cell_type": "code",
   "execution_count": null,
   "metadata": {
    "collapsed": true
   },
   "outputs": [],
   "source": [
    "import json "
   ]
  }
 ],
 "metadata": {
  "kernelspec": {
   "display_name": "Python 2",
   "language": "python",
   "name": "python2"
  },
  "language_info": {
   "codemirror_mode": {
    "name": "ipython",
    "version": 2
   },
   "file_extension": ".py",
   "mimetype": "text/x-python",
   "name": "python",
   "nbconvert_exporter": "python",
   "pygments_lexer": "ipython2",
   "version": "2.7.3"
  },
  "latex_envs": {
   "bibliofile": "biblio.bib",
   "cite_by": "apalike",
   "current_citInitial": 1,
   "eqLabelWithNumbers": true,
   "eqNumInitial": 0
  }
 },
 "nbformat": 4,
 "nbformat_minor": 0
}
