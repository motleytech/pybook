{
 "cells": [
  {
   "cell_type": "code",
   "execution_count": 1,
   "metadata": {
    "collapsed": false
   },
   "outputs": [
    {
     "name": "stdout",
     "output_type": "stream",
     "text": [
      "{\"1\": 2, \"too\": [\"1\", 2, 3.45, [1, 22, 3]], \"third\": \"hello\"}\n"
     ]
    }
   ],
   "source": [
    "pyvar1 = {\"1\": 2,\n",
    "         \"too\": [\"1\", 2, 3.45, (1, 22, 3)],\n",
    "         'third': \"hello\"}\n",
    "import json\n",
    "print json.dumps(pyvar1)"
   ]
  },
  {
   "cell_type": "code",
   "execution_count": 2,
   "metadata": {
    "collapsed": false
   },
   "outputs": [
    {
     "data": {
      "application/javascript": [
       "'use strict';\n",
       "var jsvar1 = {'1':2,\n",
       "         '3':4.5,\n",
       "         \"hello\": 'world',\n",
       "         'list': [1,2,3]}\n",
       "\n",
       "nbvars.variables = {};\n",
       "nbvars.variables.jsvar1 = jsvar1;"
      ],
      "text/plain": [
       "<IPython.core.display.Javascript object>"
      ]
     },
     "metadata": {},
     "output_type": "display_data"
    }
   ],
   "source": [
    "%%javascript\n",
    "'use strict';\n",
    "var jsvar1 = {'1':2,\n",
    "         '3':4.5,\n",
    "         \"hello\": 'world',\n",
    "         'list': [1,2,3]}\n",
    "\n",
    "nbvars.variables = {};\n",
    "nbvars.variables.jsvar1 = jsvar1;"
   ]
  },
  {
   "cell_type": "code",
   "execution_count": 3,
   "metadata": {
    "collapsed": false,
    "run_control": {
     "marked": false
    }
   },
   "outputs": [
    {
     "data": {
      "application/javascript": [
       "window.elem = element;\n",
       "nbvars.toJs('pyvar1', function (res) {\n",
       "    var result = res;\n",
       "    nbvars.log(result, window.elem);\n",
       "    nbvars.log(typeof(result), window.elem);\n",
       "});"
      ],
      "text/plain": [
       "<IPython.core.display.Javascript object>"
      ]
     },
     "metadata": {},
     "output_type": "display_data"
    }
   ],
   "source": [
    "%%javascript\n",
    "window.elem = element;\n",
    "nbvars.toJs('pyvar1', function (res) {\n",
    "    var result = res;\n",
    "    nbvars.log(result, window.elem);\n",
    "    nbvars.log(typeof(result), window.elem);\n",
    "});"
   ]
  },
  {
   "cell_type": "code",
   "execution_count": 4,
   "metadata": {
    "collapsed": false,
    "run_control": {
     "marked": false
    }
   },
   "outputs": [
    {
     "data": {
      "application/javascript": [
       "window.elem = element;\n",
       "nbvars.toPy(nbvars.variables.jsvar1, 'jsvar1', function(res) {\n",
       "    nbvars.log(\"done\", window.elem);\n",
       "});"
      ],
      "text/plain": [
       "<IPython.core.display.Javascript object>"
      ]
     },
     "metadata": {},
     "output_type": "display_data"
    }
   ],
   "source": [
    "%%javascript\n",
    "window.elem = element;\n",
    "nbvars.toPy(nbvars.variables.jsvar1, 'jsvar1', function(res) {\n",
    "    nbvars.log(\"done\", window.elem);\n",
    "});\n"
   ]
  },
  {
   "cell_type": "code",
   "execution_count": 5,
   "metadata": {
    "collapsed": false,
    "run_control": {
     "marked": false
    }
   },
   "outputs": [
    {
     "name": "stdout",
     "output_type": "stream",
     "text": [
      "{u'1': 2, u'3': 4.5, u'list': [1, 2, 3], u'hello': u'world'}\n"
     ]
    }
   ],
   "source": [
    "print jsvar1"
   ]
  },
  {
   "cell_type": "code",
   "execution_count": 6,
   "metadata": {
    "collapsed": false,
    "run_control": {
     "marked": false
    }
   },
   "outputs": [
    {
     "data": {
      "application/javascript": [
       "nbvars.load(['/nbextensions/custom/custom.js'], function (lib) {\n",
       "    console.log(lib);\n",
       "});"
      ],
      "text/plain": [
       "<IPython.core.display.Javascript object>"
      ]
     },
     "metadata": {},
     "output_type": "display_data"
    }
   ],
   "source": [
    "%%javascript\n",
    "nbvars.load(['/nbextensions/custom/custom.js'], function (lib) {\n",
    "    console.log(lib);\n",
    "});"
   ]
  },
  {
   "cell_type": "code",
   "execution_count": 7,
   "metadata": {
    "collapsed": true
   },
   "outputs": [],
   "source": [
    "a = 1.25"
   ]
  },
  {
   "cell_type": "markdown",
   "metadata": {
    "variables": {
     " a + 20 ": "21.25"
    }
   },
   "source": [
    "a = {{ a + 20 }}"
   ]
  }
 ],
 "metadata": {
  "kernelspec": {
   "display_name": "Python 2",
   "language": "python",
   "name": "python2"
  },
  "language_info": {
   "codemirror_mode": {
    "name": "ipython",
    "version": 2
   },
   "file_extension": ".py",
   "mimetype": "text/x-python",
   "name": "python",
   "nbconvert_exporter": "python",
   "pygments_lexer": "ipython2",
   "version": "2.7.3"
  },
  "latex_envs": {
   "bibliofile": "biblio.bib",
   "cite_by": "apalike",
   "current_citInitial": 1,
   "eqLabelWithNumbers": true,
   "eqNumInitial": 0
  }
 },
 "nbformat": 4,
 "nbformat_minor": 0
}
