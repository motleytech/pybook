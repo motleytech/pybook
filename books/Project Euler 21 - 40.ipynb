{
 "cells": [
  {
   "cell_type": "code",
   "execution_count": 5,
   "metadata": {
    "collapsed": false
   },
   "outputs": [
    {
     "name": "stdout",
     "output_type": "stream",
     "text": [
      "Importing ipynb file : Euler_Tools.ipynb\n",
      "Module already imported. Returning existing module.\n"
     ]
    }
   ],
   "source": [
    "import io\n",
    "from IPython.nbformat import current\n",
    "\n",
    "def import_notebook(nbfile, dunder_name=None):\n",
    "    import sys\n",
    "    import imp\n",
    "    \n",
    "    with io.open(nbfile) as f:\n",
    "        nb = current.read(f, 'json')\n",
    "\n",
    "    if dunder_name is None:\n",
    "        dunder_name = \".\".join(nbfile.split(\".\")[:-1])\n",
    "        \n",
    "    if dunder_name in sys.modules:\n",
    "        print \"Module already imported. Returning existing module.\"\n",
    "        return sys.modules[dunder_name]\n",
    "\n",
    "    print \"Importing ipynb file : {}\".format(nbfile)\n",
    "        \n",
    "    newModule = imp.new_module(dunder_name)\n",
    "    newModule.__file__ = \"ipython_notebooks/{}\".format(nbfile)\n",
    "\n",
    "    try:\n",
    "        for cell in nb.worksheets[0].cells:\n",
    "            if cell.cell_type != 'code':\n",
    "                continue\n",
    "            exec cell.input in newModule.__dict__\n",
    "    finally:\n",
    "        print \"Finished importing.\"\n",
    "    sys.modules[dunder_name] = newModule\n",
    "    return newModule\n",
    "\n",
    "etools = import_notebook(\"Euler_Tools.ipynb\")\n"
   ]
  },
  {
   "cell_type": "markdown",
   "metadata": {},
   "source": [
    "### Problem 21\n",
    "\n",
    "Let d(n) be defined as the sum of proper divisors of n (numbers less than n which divide evenly into n).\n",
    "If d(a) = b and d(b) = a, where a ≠ b, then a and b are an amicable pair and each of a and b are called amicable numbers.\n",
    "\n",
    "For example, the proper divisors of 220 are 1, 2, 4, 5, 10, 11, 20, 22, 44, 55 and 110; therefore d(220) = 284. The proper divisors of 284 are 1, 2, 4, 71 and 142; so d(284) = 220.\n",
    "\n",
    "Evaluate the sum of all the amicable numbers under 10000."
   ]
  },
  {
   "cell_type": "code",
   "execution_count": 2,
   "metadata": {
    "collapsed": false
   },
   "outputs": [
    {
     "ename": "NameError",
     "evalue": "global name 'factorize' is not defined",
     "output_type": "error",
     "traceback": [
      "\u001b[1;31m---------------------------------------------------------------------------\u001b[0m",
      "\u001b[1;31mNameError\u001b[0m                                 Traceback (most recent call last)",
      "\u001b[1;32m<ipython-input-2-9cb5c5e820ec>\u001b[0m in \u001b[0;36m<module>\u001b[1;34m()\u001b[0m\n\u001b[0;32m     17\u001b[0m \u001b[1;33m\u001b[0m\u001b[0m\n\u001b[0;32m     18\u001b[0m \u001b[1;32mfor\u001b[0m \u001b[0mnum\u001b[0m \u001b[1;32min\u001b[0m \u001b[0mxrange\u001b[0m\u001b[1;33m(\u001b[0m\u001b[1;36m1\u001b[0m\u001b[1;33m,\u001b[0m \u001b[1;36m10001\u001b[0m\u001b[1;33m)\u001b[0m\u001b[1;33m:\u001b[0m\u001b[1;33m\u001b[0m\u001b[0m\n\u001b[1;32m---> 19\u001b[1;33m     \u001b[0msumDivs\u001b[0m\u001b[1;33m[\u001b[0m\u001b[0mnum\u001b[0m\u001b[1;33m]\u001b[0m \u001b[1;33m=\u001b[0m \u001b[0msum\u001b[0m\u001b[1;33m(\u001b[0m\u001b[0mset\u001b[0m\u001b[1;33m(\u001b[0m\u001b[0mgenDivisors\u001b[0m\u001b[1;33m(\u001b[0m\u001b[0mnum\u001b[0m\u001b[1;33m)\u001b[0m\u001b[1;33m)\u001b[0m\u001b[1;33m)\u001b[0m\u001b[1;33m\u001b[0m\u001b[0m\n\u001b[0m\u001b[0;32m     20\u001b[0m \u001b[1;33m\u001b[0m\u001b[0m\n\u001b[0;32m     21\u001b[0m \u001b[0mamicables\u001b[0m \u001b[1;33m=\u001b[0m \u001b[1;33m[\u001b[0m\u001b[1;33m]\u001b[0m\u001b[1;33m\u001b[0m\u001b[0m\n",
      "\u001b[1;32m<ipython-input-2-9cb5c5e820ec>\u001b[0m in \u001b[0;36mgenDivisors\u001b[1;34m(num, primes)\u001b[0m\n\u001b[0;32m      9\u001b[0m     \u001b[1;32mif\u001b[0m \u001b[0mnum\u001b[0m \u001b[1;33m>\u001b[0m \u001b[1;36m0\u001b[0m\u001b[1;33m:\u001b[0m\u001b[1;33m\u001b[0m\u001b[0m\n\u001b[0;32m     10\u001b[0m         \u001b[1;32myield\u001b[0m \u001b[1;36m1\u001b[0m\u001b[1;33m\u001b[0m\u001b[0m\n\u001b[1;32m---> 11\u001b[1;33m     \u001b[0mfactors\u001b[0m \u001b[1;33m=\u001b[0m \u001b[0mgetExpandedFactors\u001b[0m\u001b[1;33m(\u001b[0m\u001b[0mnum\u001b[0m\u001b[1;33m,\u001b[0m \u001b[0mprimes\u001b[0m\u001b[1;33m)\u001b[0m\u001b[1;33m\u001b[0m\u001b[0m\n\u001b[0m\u001b[0;32m     12\u001b[0m     \u001b[1;32mfor\u001b[0m \u001b[0mix\u001b[0m \u001b[1;32min\u001b[0m \u001b[0mxrange\u001b[0m\u001b[1;33m(\u001b[0m\u001b[1;36m1\u001b[0m\u001b[1;33m,\u001b[0m \u001b[0mlen\u001b[0m\u001b[1;33m(\u001b[0m\u001b[0mfactors\u001b[0m\u001b[1;33m)\u001b[0m\u001b[1;33m)\u001b[0m\u001b[1;33m:\u001b[0m\u001b[1;33m\u001b[0m\u001b[0m\n\u001b[0;32m     13\u001b[0m         \u001b[1;32mfor\u001b[0m \u001b[0mterms\u001b[0m \u001b[1;32min\u001b[0m \u001b[0mcombinations\u001b[0m\u001b[1;33m(\u001b[0m\u001b[0mfactors\u001b[0m\u001b[1;33m,\u001b[0m \u001b[0mix\u001b[0m\u001b[1;33m)\u001b[0m\u001b[1;33m:\u001b[0m\u001b[1;33m\u001b[0m\u001b[0m\n",
      "\u001b[1;32m<ipython-input-2-9cb5c5e820ec>\u001b[0m in \u001b[0;36mgetExpandedFactors\u001b[1;34m(n, primes)\u001b[0m\n\u001b[0;32m      3\u001b[0m \u001b[1;32mdef\u001b[0m \u001b[0mgetExpandedFactors\u001b[0m\u001b[1;33m(\u001b[0m\u001b[0mn\u001b[0m\u001b[1;33m,\u001b[0m \u001b[0mprimes\u001b[0m\u001b[1;33m=\u001b[0m\u001b[0mNone\u001b[0m\u001b[1;33m)\u001b[0m\u001b[1;33m:\u001b[0m\u001b[1;33m\u001b[0m\u001b[0m\n\u001b[0;32m      4\u001b[0m     \u001b[0mfactors\u001b[0m \u001b[1;33m=\u001b[0m \u001b[1;33m[\u001b[0m\u001b[1;33m]\u001b[0m\u001b[1;33m\u001b[0m\u001b[0m\n\u001b[1;32m----> 5\u001b[1;33m     \u001b[1;33m[\u001b[0m\u001b[0mfactors\u001b[0m\u001b[1;33m.\u001b[0m\u001b[0mextend\u001b[0m\u001b[1;33m(\u001b[0m\u001b[1;33m[\u001b[0m\u001b[0mx\u001b[0m\u001b[1;33m[\u001b[0m\u001b[1;36m0\u001b[0m\u001b[1;33m]\u001b[0m\u001b[1;33m]\u001b[0m\u001b[1;33m*\u001b[0m\u001b[0mx\u001b[0m\u001b[1;33m[\u001b[0m\u001b[1;36m1\u001b[0m\u001b[1;33m]\u001b[0m\u001b[1;33m)\u001b[0m \u001b[1;32mfor\u001b[0m \u001b[0mx\u001b[0m \u001b[1;32min\u001b[0m \u001b[0mfactorize\u001b[0m\u001b[1;33m(\u001b[0m\u001b[0mn\u001b[0m\u001b[1;33m,\u001b[0m \u001b[0mprimes\u001b[0m\u001b[1;33m)\u001b[0m\u001b[1;33m]\u001b[0m\u001b[1;33m\u001b[0m\u001b[0m\n\u001b[0m\u001b[0;32m      6\u001b[0m     \u001b[1;32mreturn\u001b[0m \u001b[0mfactors\u001b[0m\u001b[1;33m\u001b[0m\u001b[0m\n\u001b[0;32m      7\u001b[0m \u001b[1;33m\u001b[0m\u001b[0m\n",
      "\u001b[1;31mNameError\u001b[0m: global name 'factorize' is not defined"
     ]
    }
   ],
   "source": [
    "from itertools import combinations\n",
    "\n",
    "def getExpandedFactors(n, primes=None):\n",
    "    factors = []\n",
    "    [factors.extend([x[0]]*x[1]) for x in factorize(n, primes)]\n",
    "    return factors\n",
    "\n",
    "def genDivisors(num, primes=None):\n",
    "    if num > 0:\n",
    "        yield 1\n",
    "    factors = getExpandedFactors(num, primes)\n",
    "    for ix in xrange(1, len(factors)):\n",
    "        for terms in combinations(factors, ix):\n",
    "            yield product(terms)\n",
    "\n",
    "sumDivs = {}\n",
    "\n",
    "for num in xrange(1, 10001):\n",
    "    sumDivs[num] = sum(set(genDivisors(num)))\n",
    "\n",
    "amicables = []\n",
    "    \n",
    "for key, val in sumDivs.items():\n",
    "    if (key == val) or (val < key):\n",
    "        continue\n",
    "    if sumDivs.get(val) == key:\n",
    "        amicables.extend([key, val])\n",
    "\n",
    "print amicables\n",
    "print sum(amicables)"
   ]
  },
  {
   "cell_type": "markdown",
   "metadata": {},
   "source": [
    "### Problem 22\n",
    "\n",
    "Using names.txt (right click and 'Save Link/Target As...'), a 46K text file containing over five-thousand first names, begin by sorting it into alphabetical order. Then working out the alphabetical value for each name, multiply this value by its alphabetical position in the list to obtain a name score.\n",
    "\n",
    "For example, when the list is sorted into alphabetical order, COLIN, which is worth 3 + 15 + 12 + 9 + 14 = 53, is the 938th name in the list. So, COLIN would obtain a score of 938 × 53 = 49714.\n",
    "\n",
    "What is the total of all the name scores in the file?"
   ]
  },
  {
   "cell_type": "code",
   "execution_count": null,
   "metadata": {
    "collapsed": false
   },
   "outputs": [],
   "source": [
    "# import os\n",
    "# os.system(\"wget https://projecteuler.net/project/resources/p022_names.txt\\\n",
    "# --no-check-certificate\")\n",
    "\n",
    "def getScore(name, index):\n",
    "    ordbase = ord('a') - 1\n",
    "    return index * sum((ord(c) - ordbase) for c in name)\n",
    "\n",
    "names = (x.strip().lower() for x in open('p022_names.txt').read().replace('\"',\n",
    "                                      '').split(','))\n",
    "print sum(getScore(cc, ix + 1) for ix, cc in enumerate(sorted(names)))\n"
   ]
  },
  {
   "cell_type": "markdown",
   "metadata": {},
   "source": [
    "### Problem 23\n",
    "\n",
    "A perfect number is a number for which the sum of its proper divisors is exactly equal to the number. For example, the sum of the proper divisors of 28 would be 1 + 2 + 4 + 7 + 14 = 28, which means that 28 is a perfect number.\n",
    "\n",
    "A number n is called deficient if the sum of its proper divisors is less than n and it is called abundant if this sum exceeds n.\n",
    "\n",
    "As 12 is the smallest abundant number, 1 + 2 + 3 + 4 + 6 = 16, the smallest number that can be written as the sum of two abundant numbers is 24. By mathematical analysis, it can be shown that all integers greater than 28123 can be written as the sum of two abundant numbers. However, this upper limit cannot be reduced any further by analysis even though it is known that the greatest number that cannot be expressed as the sum of two abundant numbers is less than this limit.\n",
    "\n",
    "Find the sum of all the positive integers which cannot be written as the sum of two abundant numbers."
   ]
  },
  {
   "cell_type": "code",
   "execution_count": 1,
   "metadata": {
    "collapsed": false
   },
   "outputs": [
    {
     "name": "stdout",
     "output_type": "stream",
     "text": [
      "Time = 9.05990600586e-06\n"
     ]
    },
    {
     "ename": "NameError",
     "evalue": "global name 'genPrimes' is not defined",
     "output_type": "error",
     "traceback": [
      "\u001b[1;31m---------------------------------------------------------------------------\u001b[0m",
      "\u001b[1;31mNameError\u001b[0m                                 Traceback (most recent call last)",
      "\u001b[1;32m<ipython-input-1-84acbdd9e0bd>\u001b[0m in \u001b[0;36m<module>\u001b[1;34m()\u001b[0m\n\u001b[0;32m     21\u001b[0m \u001b[1;33m\u001b[0m\u001b[0m\n\u001b[0;32m     22\u001b[0m \u001b[1;33m\u001b[0m\u001b[0m\n\u001b[1;32m---> 23\u001b[1;33m \u001b[0msolve\u001b[0m\u001b[1;33m(\u001b[0m\u001b[1;33m)\u001b[0m\u001b[1;33m\u001b[0m\u001b[0m\n\u001b[0m",
      "\u001b[1;32m/webserver/webcms/djcms/pybook/.ipython/profile_default/startup/20-custom.py\u001b[0m in \u001b[0;36mwrapper\u001b[1;34m(*a, **kw)\u001b[0m\n\u001b[0;32m     33\u001b[0m         \u001b[0mstartTime\u001b[0m \u001b[1;33m=\u001b[0m \u001b[0mtime\u001b[0m\u001b[1;33m(\u001b[0m\u001b[1;33m)\u001b[0m\u001b[1;33m\u001b[0m\u001b[0m\n\u001b[0;32m     34\u001b[0m         \u001b[1;32mtry\u001b[0m\u001b[1;33m:\u001b[0m\u001b[1;33m\u001b[0m\u001b[0m\n\u001b[1;32m---> 35\u001b[1;33m             \u001b[0mrv\u001b[0m \u001b[1;33m=\u001b[0m \u001b[0mfunc\u001b[0m\u001b[1;33m(\u001b[0m\u001b[1;33m*\u001b[0m\u001b[0ma\u001b[0m\u001b[1;33m,\u001b[0m \u001b[1;33m**\u001b[0m\u001b[0mkw\u001b[0m\u001b[1;33m)\u001b[0m\u001b[1;33m\u001b[0m\u001b[0m\n\u001b[0m\u001b[0;32m     36\u001b[0m         \u001b[1;32mexcept\u001b[0m\u001b[1;33m:\u001b[0m\u001b[1;33m\u001b[0m\u001b[0m\n\u001b[0;32m     37\u001b[0m             \u001b[1;32mraise\u001b[0m\u001b[1;33m\u001b[0m\u001b[0m\n",
      "\u001b[1;32m<ipython-input-1-84acbdd9e0bd>\u001b[0m in \u001b[0;36msolve\u001b[1;34m()\u001b[0m\n\u001b[0;32m     10\u001b[0m \u001b[1;33m@\u001b[0m\u001b[0mtimeit\u001b[0m\u001b[1;33m\u001b[0m\u001b[0m\n\u001b[0;32m     11\u001b[0m \u001b[1;32mdef\u001b[0m \u001b[0msolve\u001b[0m\u001b[1;33m(\u001b[0m\u001b[1;33m)\u001b[0m\u001b[1;33m:\u001b[0m\u001b[1;33m\u001b[0m\u001b[0m\n\u001b[1;32m---> 12\u001b[1;33m     \u001b[0mprimes\u001b[0m \u001b[1;33m=\u001b[0m \u001b[0mlist\u001b[0m\u001b[1;33m(\u001b[0m\u001b[0mgenPrimes\u001b[0m\u001b[1;33m(\u001b[0m\u001b[1;36m29000\u001b[0m\u001b[1;33m)\u001b[0m\u001b[1;33m)\u001b[0m\u001b[1;33m\u001b[0m\u001b[0m\n\u001b[0m\u001b[0;32m     13\u001b[0m     \u001b[0mabundants\u001b[0m \u001b[1;33m=\u001b[0m \u001b[1;33m[\u001b[0m\u001b[0mx\u001b[0m \u001b[1;32mfor\u001b[0m \u001b[0mx\u001b[0m \u001b[1;32min\u001b[0m \u001b[0mxrange\u001b[0m\u001b[1;33m(\u001b[0m\u001b[1;36m2\u001b[0m\u001b[1;33m,\u001b[0m \u001b[1;36m28124\u001b[0m\u001b[1;33m)\u001b[0m \u001b[1;32mif\u001b[0m \u001b[0misAbundant\u001b[0m\u001b[1;33m(\u001b[0m\u001b[0mx\u001b[0m\u001b[1;33m,\u001b[0m \u001b[0mprimes\u001b[0m\u001b[1;33m)\u001b[0m\u001b[1;33m]\u001b[0m\u001b[1;33m\u001b[0m\u001b[0m\n\u001b[0;32m     14\u001b[0m     \u001b[0mlabu\u001b[0m \u001b[1;33m=\u001b[0m \u001b[0mlen\u001b[0m\u001b[1;33m(\u001b[0m\u001b[0mabundants\u001b[0m\u001b[1;33m)\u001b[0m\u001b[1;33m\u001b[0m\u001b[0m\n",
      "\u001b[1;31mNameError\u001b[0m: global name 'genPrimes' is not defined"
     ]
    }
   ],
   "source": [
    "def sumOfDivisors(num, primes=None):\n",
    "    return sum(set(genDivisors(num, primes)))\n",
    "\n",
    "def isAbundant(num, primes=None):\n",
    "    return True if sumOfDivisors(num, primes) > num else False\n",
    "\n",
    "def isPerfect(num, primes=None):\n",
    "    return True if sumOfDivisors(num, primes) == num else False\n",
    "\n",
    "@timeit\n",
    "def solve():\n",
    "    primes = list(genPrimes(29000))\n",
    "    abundants = [x for x in xrange(2, 28124) if isAbundant(x, primes)]\n",
    "    labu = len(abundants)\n",
    "    pairSums = set((abundants[i] + abundants[j]) for i in xrange(labu)\n",
    "                           for j in xrange(i, labu))\n",
    "    \n",
    "    pairSums = sum(x for x in pairSums if x < 28124)\n",
    "\n",
    "    print (28123 * 28124 / 2) - pairSums\n",
    "    \n",
    "\n",
    "solve()"
   ]
  },
  {
   "cell_type": "markdown",
   "metadata": {},
   "source": [
    "### Problem 24\n",
    "\n",
    "A permutation is an ordered arrangement of objects. For example, 3124 is one possible permutation of the digits 1, 2, 3 and 4. If all of the permutations are listed numerically or alphabetically, we call it lexicographic order. The lexicographic permutations of 0, 1 and 2 are:\n",
    "\n",
    "012   021   102   120   201   210\n",
    "\n",
    "What is the millionth lexicographic permutation of the digits 0, 1, 2, 3, 4, 5, 6, 7, 8 and 9?"
   ]
  },
  {
   "cell_type": "code",
   "execution_count": null,
   "metadata": {
    "collapsed": false
   },
   "outputs": [],
   "source": [
    "def findSmallestHigherIndex(inp, index):\n",
    "    prev = inp[index - 1]\n",
    "    remaining = inp[index:]\n",
    "    minx = remaining[0]\n",
    "    minix = index\n",
    "    for ix, x in enumerate(remaining):\n",
    "        if (x > prev) and (x < minx):\n",
    "            minx = x\n",
    "            minix = ix + index\n",
    "    return minix\n",
    "    \n",
    "\n",
    "def genPermutations(inp):\n",
    "    inp = sorted(inp)\n",
    "    yield inp\n",
    "    # read numbers from right to left\n",
    "    # if increasing, continue\n",
    "    #     if reach beginning, return\n",
    "    # if decreasing, exchange lesser number with smallest higher number on right\n",
    "    # sort all numbers on the right,\n",
    "    # yield permutation\n",
    "    # back to first step\n",
    "    linp = len(inp)\n",
    "    while True:\n",
    "        for index in xrange(linp - 1, -1, -1):\n",
    "            if index == 0:\n",
    "                return\n",
    "            if inp[index - 1] > inp[index]:\n",
    "                continue\n",
    "            else:\n",
    "                idx = findSmallestHigherIndex(inp, index)\n",
    "                inp[index - 1], inp[idx] = inp[idx], inp[index - 1]\n",
    "                inp[index:] = sorted(inp[index:])\n",
    "                yield inp\n",
    "                break\n",
    "    return\n",
    "\n",
    "@timeit\n",
    "def solve():\n",
    "    for ix, x in enumerate(genPermutations(range(10))):\n",
    "        if ix == 999999:\n",
    "            print \"\".join(str(y) for y in x)\n",
    "            break\n",
    "            \n",
    "solve()"
   ]
  },
  {
   "cell_type": "markdown",
   "metadata": {},
   "source": [
    "### Problem 25\n",
    "\n",
    "The Fibonacci sequence is defined by the recurrence relation:\n",
    "\n",
    "Fn = Fn−1 + Fn−2, where F1 = 1 and F2 = 1.\n",
    "Hence the first 12 terms will be:\n",
    "\n",
    "```\n",
    "F1 = 1\n",
    "F2 = 1\n",
    "F3 = 2\n",
    "F4 = 3\n",
    "F5 = 5\n",
    "F6 = 8\n",
    "F7 = 13\n",
    "F8 = 21\n",
    "F9 = 34\n",
    "F10 = 55\n",
    "F11 = 89\n",
    "F12 = 144\n",
    "```\n",
    "The 12th term, F12, is the first term to contain three digits.\n",
    "\n",
    "What is the index of the first term in the Fibonacci sequence to contain 1000 digits?"
   ]
  },
  {
   "cell_type": "code",
   "execution_count": null,
   "metadata": {
    "collapsed": false
   },
   "outputs": [],
   "source": [
    "def genFibonacci():\n",
    "    a, b = 1, 1\n",
    "    yield 1\n",
    "    yield 1\n",
    "    while True:\n",
    "        a, b = b, a + b\n",
    "        yield b\n",
    "\n",
    "@timeit\n",
    "def solve():\n",
    "    for ix, x in enumerate(genFibonacci()):\n",
    "        if len(str(x)) >= 1000:\n",
    "            print ix + 1\n",
    "            break\n",
    "\n",
    "solve()\n"
   ]
  },
  {
   "cell_type": "markdown",
   "metadata": {},
   "source": [
    "### Problem 26\n",
    "\n",
    "A unit fraction contains 1 in the numerator. The decimal representation of the unit fractions with denominators 2 to 10 are given:\n",
    "```\n",
    "1/2\t= \t0.5\n",
    "1/3\t= \t0.(3)\n",
    "1/4\t= \t0.25\n",
    "1/5\t= \t0.2\n",
    "1/6\t= \t0.1(6)\n",
    "1/7\t= \t0.(142857)\n",
    "1/8\t= \t0.125\n",
    "1/9\t= \t0.(1)\n",
    "1/10\t= \t0.1\n",
    "```\n",
    "Where 0.1(6) means 0.166666..., and has a 1-digit recurring cycle. It can be seen that 1/7 has a 6-digit recurring cycle.\n",
    "\n",
    "Find the value of d < 1000 for which 1/d contains the longest recurring cycle in its decimal fraction part."
   ]
  },
  {
   "cell_type": "code",
   "execution_count": null,
   "metadata": {
    "collapsed": false
   },
   "outputs": [],
   "source": [
    "def seqLength(num):\n",
    "    rems = [1]\n",
    "    while True:\n",
    "        nxt = (rems[-1] * 10) % num\n",
    "        if nxt in rems:\n",
    "            return len(rems) - rems.index(nxt) \n",
    "        else:\n",
    "            rems.append(nxt)\n",
    "    return\n",
    "\n",
    "result = sorted(((seqLength(x), x) for x in xrange(2, 1000)), reverse=True)[:10]\n",
    "\n",
    "print result\n",
    "print result[0][1]"
   ]
  },
  {
   "cell_type": "markdown",
   "metadata": {
    "collapsed": true
   },
   "source": [
    "### Problem 27\n",
    "\n",
    "Euler discovered the remarkable quadratic formula:\n",
    "\n",
    "n² + n + 41\n",
    "\n",
    "It turns out that the formula will produce 40 primes for the consecutive values n = 0 to 39. However, when n = 40, 402 + 40 + 41 = 40(40 + 1) + 41 is divisible by 41, and certainly when n = 41, 41² + 41 + 41 is clearly divisible by 41.\n",
    "\n",
    "The incredible formula  n² − 79n + 1601 was discovered, which produces 80 primes for the consecutive values n = 0 to 79. The product of the coefficients, −79 and 1601, is −126479.\n",
    "\n",
    "Considering quadratics of the form:\n",
    "\n",
    "n² + an + b, where |a| < 1000 and |b| < 1000\n",
    "\n",
    "where |n| is the modulus/absolute value of n\n",
    "e.g. |11| = 11 and |−4| = 4\n",
    "Find the product of the coefficients, a and b, for the quadratic expression that produces the maximum number of primes for consecutive values of n, starting with n = 0."
   ]
  },
  {
   "cell_type": "code",
   "execution_count": null,
   "metadata": {
    "collapsed": false
   },
   "outputs": [],
   "source": [
    "bVals = getPrimes(1000)\n",
    "primes = set(genPrimesNP(1000000))\n"
   ]
  },
  {
   "cell_type": "code",
   "execution_count": null,
   "metadata": {
    "collapsed": false
   },
   "outputs": [],
   "source": [
    "def nval(n, a, b):\n",
    "    return (n*n + a*n + b)\n",
    "\n",
    "maxn = 0\n",
    "maxnab = None\n",
    "\n",
    "arange = 1000\n",
    "\n",
    "for b in bVals:\n",
    "    for a in xrange(-arange, arange + 1):\n",
    "        for n in xrange(0, 10000):\n",
    "            if nval(n, a, b) not in primes:\n",
    "                n = n - 1\n",
    "                if n > maxn:\n",
    "                    maxn = n\n",
    "                    maxnab = (n, a, b)\n",
    "                break\n",
    "\n",
    "print maxnab\n",
    "print maxnab[1]*maxnab[2]\n"
   ]
  },
  {
   "cell_type": "markdown",
   "metadata": {},
   "source": [
    "### Problem 28\n",
    "\n",
    "Starting with the number 1 and moving to the right in a clockwise direction a 5 by 5 spiral is formed as follows:\n",
    "\n",
    "```\n",
    "21 22 23 24 25\n",
    "20  7  8  9 10\n",
    "19  6  1  2 11\n",
    "18  5  4  3 12\n",
    "17 16 15 14 13\n",
    "```\n",
    "\n",
    "It can be verified that the sum of the numbers on the diagonals is 101.\n",
    "\n",
    "What is the sum of the numbers on the diagonals in a 1001 by 1001 spiral formed in the same way?"
   ]
  },
  {
   "cell_type": "code",
   "execution_count": null,
   "metadata": {
    "collapsed": false
   },
   "outputs": [],
   "source": [
    "@timeit\n",
    "def genDiagonals():\n",
    "    num = 1\n",
    "    yield num\n",
    "    for x in [[y]*4 for y in range(2, 1001, 2)]:\n",
    "        for z in x:\n",
    "            num += z\n",
    "            yield num\n",
    "\n",
    "print sum(genDiagonals())"
   ]
  },
  {
   "cell_type": "markdown",
   "metadata": {},
   "source": [
    "### Problem 29\n",
    "\n",
    "Consider all integer combinations of $a^b$ for 2 ≤ a ≤ 5 and 2 ≤ b ≤ 5:\n",
    "\n",
    "$$2^2=4, 2^3=8, 2^4=16, 2^5=32$$\n",
    "$$3^2=9, 3^3=27, 3^4=81, 3^5=243$$\n",
    "$$4^2=16, 4^3=64, 4^4=256, 4^5=1024$$\n",
    "$$5^2=25, 5^3=125, 5^4=625, 5^5=3125$$\n",
    "\n",
    "If they are then placed in numerical order, with any repeats removed, we get the following sequence of 15 distinct terms:\n",
    "\n",
    "4, 8, 9, 16, 25, 27, 32, 64, 81, 125, 243, 256, 625, 1024, 3125\n",
    "\n",
    "How many distinct terms are in the sequence generated by ab for 2 ≤ a ≤ 100 and 2 ≤ b ≤ 100?\n"
   ]
  },
  {
   "cell_type": "code",
   "execution_count": null,
   "metadata": {
    "collapsed": false
   },
   "outputs": [],
   "source": [
    "print len(set(pow(a,b) for a in xrange(2, 101) for b in xrange(2, 101)))\n",
    "        "
   ]
  },
  {
   "cell_type": "markdown",
   "metadata": {},
   "source": [
    "### Problem 30\n",
    "\n",
    "Surprisingly there are only three numbers that can be written as the sum of fourth powers of their digits:\n",
    "\n",
    "```\n",
    "1634 = 14 + 64 + 34 + 44\n",
    "8208 = 84 + 24 + 04 + 84\n",
    "9474 = 94 + 44 + 74 + 44\n",
    "```\n",
    "\n",
    "As $1 = 1^4$ is not a sum it is not included.\n",
    "\n",
    "The sum of these numbers is 1634 + 8208 + 9474 = 19316.\n",
    "\n",
    "Find the sum of all the numbers that can be written as the sum of fifth powers of their digits."
   ]
  },
  {
   "cell_type": "code",
   "execution_count": null,
   "metadata": {
    "collapsed": false
   },
   "outputs": [],
   "source": [
    "def sumPowers(num):\n",
    "    nums = str(num)\n",
    "    ord0 = ord('0')\n",
    "    numa = ((ord(x) - ord0) for x in nums)\n",
    "    return sum(pow(x, 5) for x in numa)\n",
    "\n",
    "print sum(x for x in xrange(2, 6*pow(9, 5)) if x == sumPowers(x))\n",
    "\n"
   ]
  },
  {
   "cell_type": "markdown",
   "metadata": {},
   "source": [
    "### Problem 31\n",
    "\n",
    "In England the currency is made up of pound, £, and pence, p, and there are eight coins in general circulation:\n",
    "\n",
    "1p, 2p, 5p, 10p, 20p, 50p, £1 (100p) and £2 (200p).\n",
    "It is possible to make £2 in the following way:\n",
    "\n",
    "1×£1 + 1×50p + 2×20p + 1×5p + 1×2p + 3×1p\n",
    "How many different ways can £2 be made using any number of coins?"
   ]
  },
  {
   "cell_type": "code",
   "execution_count": null,
   "metadata": {
    "collapsed": false
   },
   "outputs": [],
   "source": [
    "values = [1, 2, 5, 10, 20, 50, 100, 200]\n",
    "vset = set(values)\n",
    "cache = {}\n",
    "\n",
    "numCalls = 0\n",
    "\n",
    "def merge(a, b):\n",
    "    i, j = 0, 0\n",
    "    result = []\n",
    "    while True:\n",
    "        if i == len(a):\n",
    "            result.extend(b[j:])\n",
    "            break\n",
    "        if j == len(b):\n",
    "            result.extend(a[i:])\n",
    "            break;\n",
    "        if a[i] >= b[j]:\n",
    "            result.append(a[i])\n",
    "            i += 1\n",
    "        else:\n",
    "            result.append(b[j])\n",
    "            j += 1\n",
    "    return tuple(result)\n",
    "            \n",
    "def getDecoms(n):\n",
    "    global numCalls\n",
    "    \n",
    "    if n in cache:\n",
    "        return cache[n]\n",
    "    \n",
    "    if n == 0:\n",
    "        cache[0] = set()\n",
    "        return set()\n",
    "    if n == 1:\n",
    "        cache[n] = set([(n, )])\n",
    "        return cache[n]\n",
    "\n",
    "    ways = set()\n",
    "    for k in values:\n",
    "        if k > n:\n",
    "            break\n",
    "        result1 = getDecoms(n-k)\n",
    "        if len(result1) == 0:\n",
    "            ways.add((k, ))\n",
    "        else:\n",
    "            for r1 in result1:\n",
    "                if k >= r1[0]:\n",
    "                    numCalls += 1\n",
    "                    ways.add(merge((k, ), r1))\n",
    "    cache[n] = ways\n",
    "    return ways\n",
    "\n",
    "@timeit\n",
    "def findResult(n):\n",
    "    return getDecoms(n)\n",
    "\n",
    "result = findResult(100)\n",
    "\n",
    "print \"numcalls = {}\".format(numCalls)\n",
    "print len(result), \"\\n\", sorted(result, reverse=True)[:20]\n",
    "\n"
   ]
  },
  {
   "cell_type": "code",
   "execution_count": null,
   "metadata": {
    "collapsed": false
   },
   "outputs": [],
   "source": [
    "coins = [2000, 1000, 500, 200, 100, 50, 20, 10, 5, 2, 1]\n",
    "cache = {}\n",
    "\n",
    "def findPoss(money, maxCoin):\n",
    "    if (money, maxCoin) in cache:\n",
    "        return cache[(money, maxCoin)]\n",
    "    sum = 0\n",
    "    if maxCoin == len(coins) - 1:\n",
    "        return 1\n",
    "    for xx in range(maxCoin, len(coins)):\n",
    "        diff = money - coins[xx]\n",
    "        if diff == 0:\n",
    "            sum += 1\n",
    "        elif diff > 0:\n",
    "            sum += findPoss(diff, xx)\n",
    "    cache[(money, maxCoin)] = sum\n",
    "    return sum\n",
    "\n",
    "@timeit\n",
    "def solve(money, index):\n",
    "    return findPoss(money, index)\n",
    "\n",
    "print solve(2000, 0)"
   ]
  },
  {
   "cell_type": "markdown",
   "metadata": {},
   "source": [
    "##### Problem 32\n",
    "\n",
    "We shall say that an n-digit number is pandigital if it makes use of all the digits 1 to n exactly once; for example, the 5-digit number, 15234, is 1 through 5 pandigital.\n",
    "\n",
    "The product 7254 is unusual, as the identity, 39 × 186 = 7254, containing multiplicand, multiplier, and product is 1 through 9 pandigital.\n",
    "\n",
    "Find the sum of all products whose multiplicand/multiplier/product identity can be written as a 1 through 9 pandigital.\n",
    "\n",
    "HINT: Some products can be obtained in more than one way so be sure to only include it once in your sum."
   ]
  },
  {
   "cell_type": "code",
   "execution_count": 1,
   "metadata": {
    "collapsed": false
   },
   "outputs": [
    {
     "name": "stdout",
     "output_type": "stream",
     "text": [
      "Time = 0.0404181480408\n",
      "set([4396, 5346, 5796, 6952, 7254, 7632, 7852])\n",
      "45228\n"
     ]
    }
   ],
   "source": [
    "from itertools import permutations\n",
    "\n",
    "products = set()\n",
    "\n",
    "@timeit\n",
    "def solve():\n",
    "    digits = set([str(x) for x in range(1, 10)])\n",
    "    for xr, yr in [(3, 2), (4, 1)]:\n",
    "        for xx in permutations(digits, xr):\n",
    "            if xx[-1] == '5':\n",
    "                continue\n",
    "            remaining = digits.difference(set(xx))\n",
    "            ixx = int(\"\".join(xx))\n",
    "            for yy in permutations(remaining, yr):\n",
    "                if yy[-1] == '5':\n",
    "                    continue\n",
    "                iyy = int(\"\".join(yy))\n",
    "                prod = str(ixx*iyy)\n",
    "                if len(prod) != 4:\n",
    "                    continue\n",
    "                sprod = remaining.difference(set(yy))\n",
    "                if sprod == set(prod):\n",
    "                    products.add(ixx*iyy)\n",
    "                \n",
    "    return products\n",
    "\n",
    "result = solve()\n",
    "\n",
    "pp(result)\n",
    "print sum(result)\n",
    "\n",
    "                "
   ]
  },
  {
   "cell_type": "markdown",
   "metadata": {
    "collapsed": false
   },
   "source": [
    "### Problem 33\n",
    "\n",
    "The fraction 49/98 is a curious fraction, as an inexperienced mathematician in attempting to simplify it may incorrectly believe that 49/98 = 4/8, which is correct, is obtained by cancelling the 9s.\n",
    "\n",
    "We shall consider fractions like, 30/50 = 3/5, to be trivial examples.\n",
    "\n",
    "There are exactly four non-trivial examples of this type of fraction, less than one in value, and containing two digits in the numerator and denominator.\n",
    "\n",
    "If the product of these four fractions is given in its lowest common terms, find the value of the denominator."
   ]
  },
  {
   "cell_type": "code",
   "execution_count": 9,
   "metadata": {
    "collapsed": false
   },
   "outputs": [
    {
     "name": "stdout",
     "output_type": "stream",
     "text": [
      "Time = 0.00310778617859\n",
      "[(16, 64), (19, 95), (26, 65), (49, 98)]\n",
      "1 100\n"
     ]
    }
   ],
   "source": [
    "fractions = []\n",
    "\n",
    "@timeit\n",
    "def solve():\n",
    "    for x in range(11, 100):\n",
    "        if x % 10 == 0:\n",
    "            continue\n",
    "        for y in range(x+1, 100):\n",
    "            if y % 10 == 0:\n",
    "                continue\n",
    "\n",
    "            x1, x2 = x/10, x%10\n",
    "            y1, y2 = y/10, y%10\n",
    "\n",
    "            if x1 == y2 and x2 == y1:\n",
    "                continue\n",
    "            r1 = float(x)/y\n",
    "            r2 = None\n",
    "            if x1 == y2:\n",
    "                r2 = float(x2) / y1\n",
    "            elif x2 == y1:\n",
    "                r2 = float(x1) / y2\n",
    "\n",
    "            if r1 == r2:\n",
    "                fractions.append((x, y))\n",
    "\n",
    "    num = product((x[0] for x in fractions))\n",
    "    denom = product((x[1] for x in fractions))\n",
    "\n",
    "    for x in range(2, 100):\n",
    "        while (num % x == 0) and (denom % x == 0):\n",
    "            num = num / x\n",
    "            denom = denom / x\n",
    "        if x > num:\n",
    "            break\n",
    "            \n",
    "    return fractions, num, denom\n",
    "\n",
    "frac, num, denom = solve()\n",
    "\n",
    "print frac\n",
    "print num, denom\n",
    "            \n",
    "            "
   ]
  },
  {
   "cell_type": "markdown",
   "metadata": {},
   "source": [
    "### Problem 34\n",
    "\n",
    "145 is a curious number, as 1! + 4! + 5! = 1 + 24 + 120 = 145.\n",
    "\n",
    "Find the sum of all numbers which are equal to the sum of the factorial of their digits.\n",
    "\n",
    "Note: as 1! = 1 and 2! = 2 are not sums they are not included."
   ]
  },
  {
   "cell_type": "code",
   "execution_count": 12,
   "metadata": {
    "collapsed": false
   },
   "outputs": [
    {
     "name": "stdout",
     "output_type": "stream",
     "text": [
      "3628800\n"
     ]
    }
   ],
   "source": [
    "cache = {}\n",
    "\n",
    "def doesItSatCrit(n):\n",
    "    k = n\n",
    "    ksum = 0\n",
    "    while k > 0:\n",
    "        if k in cache:\n",
    "            ksum += cache[k]\n",
    "            break\n",
    "        ksum += factorial(k % 10)\n",
    "        k = k / 10\n",
    "    cache[n] = ksum\n",
    "    if ksum == n:\n",
    "        return True\n",
    "    return False\n",
    "\n",
    "for x in xrange()"
   ]
  },
  {
   "cell_type": "code",
   "execution_count": 24,
   "metadata": {
    "collapsed": false
   },
   "outputs": [
    {
     "name": "stdout",
     "output_type": "stream",
     "text": [
      "1814400\n"
     ]
    }
   ],
   "source": [
    "print 5*factorial(9)"
   ]
  },
  {
   "cell_type": "code",
   "execution_count": null,
   "metadata": {
    "collapsed": true
   },
   "outputs": [],
   "source": []
  }
 ],
 "metadata": {
  "kernelspec": {
   "display_name": "Python 2",
   "language": "python",
   "name": "python2"
  },
  "language_info": {
   "codemirror_mode": {
    "name": "ipython",
    "version": 2
   },
   "file_extension": ".py",
   "mimetype": "text/x-python",
   "name": "python",
   "nbconvert_exporter": "python",
   "pygments_lexer": "ipython2",
   "version": "2.7.3"
  }
 },
 "nbformat": 4,
 "nbformat_minor": 0
}
