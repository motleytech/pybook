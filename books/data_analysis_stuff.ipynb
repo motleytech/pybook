{
 "cells": [
  {
   "cell_type": "code",
   "execution_count": null,
   "metadata": {
    "collapsed": true
   },
   "outputs": [],
   "source": [
    "# for writing data to files\n",
    "import simplejson as json\n",
    "\n",
    "records = 70600000\n",
    "chunk   = 10000000\n",
    "\n",
    "flPrefix = \"data_prefix_\"\n",
    "\n",
    "for idx in xrange((records/chunk) + 1):\n",
    "    offset = chunk * idx\n",
    "    cur.execute(\"SELECT * FROM test.table_name limit %s offset %s\" % (chunk, offset))\n",
    "    data = cur.fetchall()\n",
    "    fname = \"data/%s%s\" % (flPrefix, idx + 1)\n",
    "    with open(fname, 'w') as fOpen:\n",
    "        fOpen.write(json.dumps(data))\n",
    "    \n",
    "    \n",
    "    "
   ]
  },
  {
   "cell_type": "code",
   "execution_count": null,
   "metadata": {
    "collapsed": true
   },
   "outputs": [],
   "source": [
    "# for reading data from the files\n",
    "data = []\n",
    "\n",
    "for idx in xrange((records/chunk) + 1):\n",
    "    fname = \"data/%s%s\" % (flPrefix, idx + 1)\n",
    "    with open(fname, 'r') as fOpen:\n",
    "        data.extend(json.loads(fOpen.read()))\n",
    "\n",
    "print len(data)\n",
    "print data[:3]\n",
    "\n"
   ]
  }
 ],
 "metadata": {
  "kernelspec": {
   "display_name": "Python 2",
   "language": "python",
   "name": "python2"
  },
  "language_info": {
   "codemirror_mode": {
    "name": "ipython",
    "version": 2
   },
   "file_extension": ".py",
   "mimetype": "text/x-python",
   "name": "python",
   "nbconvert_exporter": "python",
   "pygments_lexer": "ipython2",
   "version": "2.7.3"
  }
 },
 "nbformat": 4,
 "nbformat_minor": 0
}
